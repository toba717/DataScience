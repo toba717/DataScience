{
  "nbformat": 4,
  "nbformat_minor": 0,
  "metadata": {
    "colab": {
      "provenance": [],
      "include_colab_link": true
    },
    "kernelspec": {
      "name": "python3",
      "display_name": "Python 3"
    },
    "language_info": {
      "name": "python"
    }
  },
  "cells": [
    {
      "cell_type": "markdown",
      "metadata": {
        "id": "view-in-github",
        "colab_type": "text"
      },
      "source": [
        "<a href=\"https://colab.research.google.com/github/toba717/DataScience/blob/main/CSM148_Project3_Outline.ipynb\" target=\"_parent\"><img src=\"https://colab.research.google.com/assets/colab-badge.svg\" alt=\"Open In Colab\"/></a>"
      ]
    },
    {
      "cell_type": "markdown",
      "source": [
        "You are exploring the wilderness of _Mushroomia_, a land populated by a plethora of diverse fauna and flora. In particular, _Mushroomia_ is known for its unparalleled variety in mushrooms. However, not all the mushrooms in _Mushroomia_ are edible. As you make your way through _Mushroomia_, you would like to know which mushrooms are edible, in order to forage for supplies for your daily mushroom soup.\n",
        "\n",
        "You have access to:\n",
        "* _Shroomster Pro Max <sup>TM</sup>_ - a state of the art data collection device, developed by _Mushroomia_, that allows you to collect various data points about any mushroom you encounter in the wild\n",
        "* _The National Archives on Mushrooms_ - a dataset collected over the years by the government of _Mushroomia_\n",
        "\n",
        "To address this problem, you decide to use the skills you learnt in CSM148 and train machine learning models on the _The National Archives on Mushrooms_ in order to use your _Shroomster Pro Max <sup>TM</sup>_ to determine whether the mushrooms you encounter on your adventure can be added to your daily mushroom soup.  \n",
        "\n",
        "This project will be more unstructured than the previous two projects in order to allow you to experience how data science problems are solved in practice. There are two parts to this project: a Jupyter Notebook with your code (where you explore, visualize, process your data and train machine learning models) and a report (where you explain the various choices you make in your implementation and analyze the final performance of your models)."
      ],
      "metadata": {
        "id": "Q1JAc1ddb2-4"
      }
    },
    {
      "cell_type": "markdown",
      "source": [
        "# 1. Loading and Viewing Data\n",
        "\n"
      ],
      "metadata": {
        "id": "wdxrlZxt5_BG"
      }
    },
    {
      "cell_type": "code",
      "source": [
        "# mount to google drive and retrieve files\n",
        "from google.colab import drive\n",
        "drive.mount('/content/drive')"
      ],
      "metadata": {
        "id": "xZYOoCTNU82T",
        "colab": {
          "base_uri": "https://localhost:8080/",
          "height": 0
        },
        "outputId": "0e7a65e7-4a9f-44a2-b5df-1b3156db13a3"
      },
      "execution_count": 10,
      "outputs": [
        {
          "output_type": "stream",
          "name": "stdout",
          "text": [
            "Mounted at /content/drive\n"
          ]
        }
      ]
    },
    {
      "cell_type": "code",
      "source": [
        "# importing neccesary modules \n",
        "import numpy as np\n",
        "import pandas as pd\n",
        "\n",
        "%matplotlib inline\n",
        "import matplotlib.pyplot as plt"
      ],
      "metadata": {
        "id": "bm-MM73Ecq3x"
      },
      "execution_count": 11,
      "outputs": []
    },
    {
      "cell_type": "code",
      "source": [
        "# download the necessary files that is stored in the google drive\n",
        "train = pd.read_csv(\"/content/drive/MyDrive/CS148_data/project3/mushroom_train.csv\", sep = \";\")\n",
        "test = pd.read_csv(\"/content/drive/MyDrive/CS148_data/project3/mushroom_test.csv\", sep = \";\")"
      ],
      "metadata": {
        "id": "6dhs2X3Gco8H"
      },
      "execution_count": 12,
      "outputs": []
    },
    {
      "cell_type": "code",
      "source": [
        "# viewing the training data\n",
        "train.head()"
      ],
      "metadata": {
        "id": "_W14-255cxeW",
        "colab": {
          "base_uri": "https://localhost:8080/",
          "height": 297
        },
        "outputId": "7f56fecf-d0b7-42d7-f375-e48576b2b89e"
      },
      "execution_count": 13,
      "outputs": [
        {
          "output_type": "execute_result",
          "data": {
            "text/plain": [
              "  class  cap-diameter cap-shape cap-surface cap-color does-bruise-or-bleed  \\\n",
              "0     p         15.26         x           g         o                    f   \n",
              "1     p         16.60         x           g         o                    f   \n",
              "2     p         14.07         x           g         o                    f   \n",
              "3     p         14.17         f           h         e                    f   \n",
              "4     p         14.64         x           h         o                    f   \n",
              "\n",
              "  gill-attachment gill-spacing gill-color  stem-height  ...  stem-root  \\\n",
              "0               e          NaN          w        16.95  ...          s   \n",
              "1               e          NaN          w        17.99  ...          s   \n",
              "2               e          NaN          w        17.80  ...          s   \n",
              "3               e          NaN          w        15.77  ...          s   \n",
              "4               e          NaN          w        16.53  ...          s   \n",
              "\n",
              "  stem-surface stem-color veil-type veil-color has-ring ring-type  \\\n",
              "0            y          w         u          w        t         g   \n",
              "1            y          w         u          w        t         g   \n",
              "2            y          w         u          w        t         g   \n",
              "3            y          w         u          w        t         p   \n",
              "4            y          w         u          w        t         p   \n",
              "\n",
              "  spore-print-color habitat season  \n",
              "0               NaN       d      w  \n",
              "1               NaN       d      u  \n",
              "2               NaN       d      w  \n",
              "3               NaN       d      w  \n",
              "4               NaN       d      w  \n",
              "\n",
              "[5 rows x 21 columns]"
            ],
            "text/html": [
              "\n",
              "  <div id=\"df-16f6af81-c1fd-468d-ad74-1998b97898db\">\n",
              "    <div class=\"colab-df-container\">\n",
              "      <div>\n",
              "<style scoped>\n",
              "    .dataframe tbody tr th:only-of-type {\n",
              "        vertical-align: middle;\n",
              "    }\n",
              "\n",
              "    .dataframe tbody tr th {\n",
              "        vertical-align: top;\n",
              "    }\n",
              "\n",
              "    .dataframe thead th {\n",
              "        text-align: right;\n",
              "    }\n",
              "</style>\n",
              "<table border=\"1\" class=\"dataframe\">\n",
              "  <thead>\n",
              "    <tr style=\"text-align: right;\">\n",
              "      <th></th>\n",
              "      <th>class</th>\n",
              "      <th>cap-diameter</th>\n",
              "      <th>cap-shape</th>\n",
              "      <th>cap-surface</th>\n",
              "      <th>cap-color</th>\n",
              "      <th>does-bruise-or-bleed</th>\n",
              "      <th>gill-attachment</th>\n",
              "      <th>gill-spacing</th>\n",
              "      <th>gill-color</th>\n",
              "      <th>stem-height</th>\n",
              "      <th>...</th>\n",
              "      <th>stem-root</th>\n",
              "      <th>stem-surface</th>\n",
              "      <th>stem-color</th>\n",
              "      <th>veil-type</th>\n",
              "      <th>veil-color</th>\n",
              "      <th>has-ring</th>\n",
              "      <th>ring-type</th>\n",
              "      <th>spore-print-color</th>\n",
              "      <th>habitat</th>\n",
              "      <th>season</th>\n",
              "    </tr>\n",
              "  </thead>\n",
              "  <tbody>\n",
              "    <tr>\n",
              "      <th>0</th>\n",
              "      <td>p</td>\n",
              "      <td>15.26</td>\n",
              "      <td>x</td>\n",
              "      <td>g</td>\n",
              "      <td>o</td>\n",
              "      <td>f</td>\n",
              "      <td>e</td>\n",
              "      <td>NaN</td>\n",
              "      <td>w</td>\n",
              "      <td>16.95</td>\n",
              "      <td>...</td>\n",
              "      <td>s</td>\n",
              "      <td>y</td>\n",
              "      <td>w</td>\n",
              "      <td>u</td>\n",
              "      <td>w</td>\n",
              "      <td>t</td>\n",
              "      <td>g</td>\n",
              "      <td>NaN</td>\n",
              "      <td>d</td>\n",
              "      <td>w</td>\n",
              "    </tr>\n",
              "    <tr>\n",
              "      <th>1</th>\n",
              "      <td>p</td>\n",
              "      <td>16.60</td>\n",
              "      <td>x</td>\n",
              "      <td>g</td>\n",
              "      <td>o</td>\n",
              "      <td>f</td>\n",
              "      <td>e</td>\n",
              "      <td>NaN</td>\n",
              "      <td>w</td>\n",
              "      <td>17.99</td>\n",
              "      <td>...</td>\n",
              "      <td>s</td>\n",
              "      <td>y</td>\n",
              "      <td>w</td>\n",
              "      <td>u</td>\n",
              "      <td>w</td>\n",
              "      <td>t</td>\n",
              "      <td>g</td>\n",
              "      <td>NaN</td>\n",
              "      <td>d</td>\n",
              "      <td>u</td>\n",
              "    </tr>\n",
              "    <tr>\n",
              "      <th>2</th>\n",
              "      <td>p</td>\n",
              "      <td>14.07</td>\n",
              "      <td>x</td>\n",
              "      <td>g</td>\n",
              "      <td>o</td>\n",
              "      <td>f</td>\n",
              "      <td>e</td>\n",
              "      <td>NaN</td>\n",
              "      <td>w</td>\n",
              "      <td>17.80</td>\n",
              "      <td>...</td>\n",
              "      <td>s</td>\n",
              "      <td>y</td>\n",
              "      <td>w</td>\n",
              "      <td>u</td>\n",
              "      <td>w</td>\n",
              "      <td>t</td>\n",
              "      <td>g</td>\n",
              "      <td>NaN</td>\n",
              "      <td>d</td>\n",
              "      <td>w</td>\n",
              "    </tr>\n",
              "    <tr>\n",
              "      <th>3</th>\n",
              "      <td>p</td>\n",
              "      <td>14.17</td>\n",
              "      <td>f</td>\n",
              "      <td>h</td>\n",
              "      <td>e</td>\n",
              "      <td>f</td>\n",
              "      <td>e</td>\n",
              "      <td>NaN</td>\n",
              "      <td>w</td>\n",
              "      <td>15.77</td>\n",
              "      <td>...</td>\n",
              "      <td>s</td>\n",
              "      <td>y</td>\n",
              "      <td>w</td>\n",
              "      <td>u</td>\n",
              "      <td>w</td>\n",
              "      <td>t</td>\n",
              "      <td>p</td>\n",
              "      <td>NaN</td>\n",
              "      <td>d</td>\n",
              "      <td>w</td>\n",
              "    </tr>\n",
              "    <tr>\n",
              "      <th>4</th>\n",
              "      <td>p</td>\n",
              "      <td>14.64</td>\n",
              "      <td>x</td>\n",
              "      <td>h</td>\n",
              "      <td>o</td>\n",
              "      <td>f</td>\n",
              "      <td>e</td>\n",
              "      <td>NaN</td>\n",
              "      <td>w</td>\n",
              "      <td>16.53</td>\n",
              "      <td>...</td>\n",
              "      <td>s</td>\n",
              "      <td>y</td>\n",
              "      <td>w</td>\n",
              "      <td>u</td>\n",
              "      <td>w</td>\n",
              "      <td>t</td>\n",
              "      <td>p</td>\n",
              "      <td>NaN</td>\n",
              "      <td>d</td>\n",
              "      <td>w</td>\n",
              "    </tr>\n",
              "  </tbody>\n",
              "</table>\n",
              "<p>5 rows × 21 columns</p>\n",
              "</div>\n",
              "      <button class=\"colab-df-convert\" onclick=\"convertToInteractive('df-16f6af81-c1fd-468d-ad74-1998b97898db')\"\n",
              "              title=\"Convert this dataframe to an interactive table.\"\n",
              "              style=\"display:none;\">\n",
              "        \n",
              "  <svg xmlns=\"http://www.w3.org/2000/svg\" height=\"24px\"viewBox=\"0 0 24 24\"\n",
              "       width=\"24px\">\n",
              "    <path d=\"M0 0h24v24H0V0z\" fill=\"none\"/>\n",
              "    <path d=\"M18.56 5.44l.94 2.06.94-2.06 2.06-.94-2.06-.94-.94-2.06-.94 2.06-2.06.94zm-11 1L8.5 8.5l.94-2.06 2.06-.94-2.06-.94L8.5 2.5l-.94 2.06-2.06.94zm10 10l.94 2.06.94-2.06 2.06-.94-2.06-.94-.94-2.06-.94 2.06-2.06.94z\"/><path d=\"M17.41 7.96l-1.37-1.37c-.4-.4-.92-.59-1.43-.59-.52 0-1.04.2-1.43.59L10.3 9.45l-7.72 7.72c-.78.78-.78 2.05 0 2.83L4 21.41c.39.39.9.59 1.41.59.51 0 1.02-.2 1.41-.59l7.78-7.78 2.81-2.81c.8-.78.8-2.07 0-2.86zM5.41 20L4 18.59l7.72-7.72 1.47 1.35L5.41 20z\"/>\n",
              "  </svg>\n",
              "      </button>\n",
              "      \n",
              "  <style>\n",
              "    .colab-df-container {\n",
              "      display:flex;\n",
              "      flex-wrap:wrap;\n",
              "      gap: 12px;\n",
              "    }\n",
              "\n",
              "    .colab-df-convert {\n",
              "      background-color: #E8F0FE;\n",
              "      border: none;\n",
              "      border-radius: 50%;\n",
              "      cursor: pointer;\n",
              "      display: none;\n",
              "      fill: #1967D2;\n",
              "      height: 32px;\n",
              "      padding: 0 0 0 0;\n",
              "      width: 32px;\n",
              "    }\n",
              "\n",
              "    .colab-df-convert:hover {\n",
              "      background-color: #E2EBFA;\n",
              "      box-shadow: 0px 1px 2px rgba(60, 64, 67, 0.3), 0px 1px 3px 1px rgba(60, 64, 67, 0.15);\n",
              "      fill: #174EA6;\n",
              "    }\n",
              "\n",
              "    [theme=dark] .colab-df-convert {\n",
              "      background-color: #3B4455;\n",
              "      fill: #D2E3FC;\n",
              "    }\n",
              "\n",
              "    [theme=dark] .colab-df-convert:hover {\n",
              "      background-color: #434B5C;\n",
              "      box-shadow: 0px 1px 3px 1px rgba(0, 0, 0, 0.15);\n",
              "      filter: drop-shadow(0px 1px 2px rgba(0, 0, 0, 0.3));\n",
              "      fill: #FFFFFF;\n",
              "    }\n",
              "  </style>\n",
              "\n",
              "      <script>\n",
              "        const buttonEl =\n",
              "          document.querySelector('#df-16f6af81-c1fd-468d-ad74-1998b97898db button.colab-df-convert');\n",
              "        buttonEl.style.display =\n",
              "          google.colab.kernel.accessAllowed ? 'block' : 'none';\n",
              "\n",
              "        async function convertToInteractive(key) {\n",
              "          const element = document.querySelector('#df-16f6af81-c1fd-468d-ad74-1998b97898db');\n",
              "          const dataTable =\n",
              "            await google.colab.kernel.invokeFunction('convertToInteractive',\n",
              "                                                     [key], {});\n",
              "          if (!dataTable) return;\n",
              "\n",
              "          const docLinkHtml = 'Like what you see? Visit the ' +\n",
              "            '<a target=\"_blank\" href=https://colab.research.google.com/notebooks/data_table.ipynb>data table notebook</a>'\n",
              "            + ' to learn more about interactive tables.';\n",
              "          element.innerHTML = '';\n",
              "          dataTable['output_type'] = 'display_data';\n",
              "          await google.colab.output.renderOutput(dataTable, element);\n",
              "          const docLink = document.createElement('div');\n",
              "          docLink.innerHTML = docLinkHtml;\n",
              "          element.appendChild(docLink);\n",
              "        }\n",
              "      </script>\n",
              "    </div>\n",
              "  </div>\n",
              "  "
            ]
          },
          "metadata": {},
          "execution_count": 13
        }
      ]
    },
    {
      "cell_type": "code",
      "source": [
        "# viewing the testing data\n",
        "test.head()"
      ],
      "metadata": {
        "id": "PCdzpRENdKaN",
        "colab": {
          "base_uri": "https://localhost:8080/",
          "height": 297
        },
        "outputId": "07471742-eb2e-4923-9b22-1614d27f7548"
      },
      "execution_count": 14,
      "outputs": [
        {
          "output_type": "execute_result",
          "data": {
            "text/plain": [
              "  class  cap-diameter cap-shape cap-surface cap-color does-bruise-or-bleed  \\\n",
              "0     p          2.50         b         NaN         k                    f   \n",
              "1     p          3.07         b         NaN         k                    f   \n",
              "2     p          3.30         b         NaN         n                    f   \n",
              "3     p          3.49         b         NaN         k                    f   \n",
              "4     p          2.79         b         NaN         n                    f   \n",
              "\n",
              "  gill-attachment gill-spacing gill-color  stem-height  ...  stem-root  \\\n",
              "0               a          NaN          k         8.42  ...        NaN   \n",
              "1               a          NaN          n         7.24  ...        NaN   \n",
              "2               a          NaN          n        10.22  ...        NaN   \n",
              "3               a          NaN          k        11.00  ...        NaN   \n",
              "4               a          NaN          n         6.97  ...        NaN   \n",
              "\n",
              "  stem-surface stem-color veil-type  veil-color has-ring ring-type  \\\n",
              "0          NaN          g       NaN           w        f         f   \n",
              "1          NaN          n       NaN           w        f         f   \n",
              "2          NaN          n       NaN           w        f         f   \n",
              "3          NaN          n       NaN           w        f         f   \n",
              "4          NaN          g       NaN           w        f         f   \n",
              "\n",
              "  spore-print-color habitat season  \n",
              "0                 k       g      u  \n",
              "1                 k       g      a  \n",
              "2                 k       g      u  \n",
              "3                 k       g      a  \n",
              "4                 k       g      u  \n",
              "\n",
              "[5 rows x 21 columns]"
            ],
            "text/html": [
              "\n",
              "  <div id=\"df-3713571a-7a3c-4ba7-9cfc-179667169681\">\n",
              "    <div class=\"colab-df-container\">\n",
              "      <div>\n",
              "<style scoped>\n",
              "    .dataframe tbody tr th:only-of-type {\n",
              "        vertical-align: middle;\n",
              "    }\n",
              "\n",
              "    .dataframe tbody tr th {\n",
              "        vertical-align: top;\n",
              "    }\n",
              "\n",
              "    .dataframe thead th {\n",
              "        text-align: right;\n",
              "    }\n",
              "</style>\n",
              "<table border=\"1\" class=\"dataframe\">\n",
              "  <thead>\n",
              "    <tr style=\"text-align: right;\">\n",
              "      <th></th>\n",
              "      <th>class</th>\n",
              "      <th>cap-diameter</th>\n",
              "      <th>cap-shape</th>\n",
              "      <th>cap-surface</th>\n",
              "      <th>cap-color</th>\n",
              "      <th>does-bruise-or-bleed</th>\n",
              "      <th>gill-attachment</th>\n",
              "      <th>gill-spacing</th>\n",
              "      <th>gill-color</th>\n",
              "      <th>stem-height</th>\n",
              "      <th>...</th>\n",
              "      <th>stem-root</th>\n",
              "      <th>stem-surface</th>\n",
              "      <th>stem-color</th>\n",
              "      <th>veil-type</th>\n",
              "      <th>veil-color</th>\n",
              "      <th>has-ring</th>\n",
              "      <th>ring-type</th>\n",
              "      <th>spore-print-color</th>\n",
              "      <th>habitat</th>\n",
              "      <th>season</th>\n",
              "    </tr>\n",
              "  </thead>\n",
              "  <tbody>\n",
              "    <tr>\n",
              "      <th>0</th>\n",
              "      <td>p</td>\n",
              "      <td>2.50</td>\n",
              "      <td>b</td>\n",
              "      <td>NaN</td>\n",
              "      <td>k</td>\n",
              "      <td>f</td>\n",
              "      <td>a</td>\n",
              "      <td>NaN</td>\n",
              "      <td>k</td>\n",
              "      <td>8.42</td>\n",
              "      <td>...</td>\n",
              "      <td>NaN</td>\n",
              "      <td>NaN</td>\n",
              "      <td>g</td>\n",
              "      <td>NaN</td>\n",
              "      <td>w</td>\n",
              "      <td>f</td>\n",
              "      <td>f</td>\n",
              "      <td>k</td>\n",
              "      <td>g</td>\n",
              "      <td>u</td>\n",
              "    </tr>\n",
              "    <tr>\n",
              "      <th>1</th>\n",
              "      <td>p</td>\n",
              "      <td>3.07</td>\n",
              "      <td>b</td>\n",
              "      <td>NaN</td>\n",
              "      <td>k</td>\n",
              "      <td>f</td>\n",
              "      <td>a</td>\n",
              "      <td>NaN</td>\n",
              "      <td>n</td>\n",
              "      <td>7.24</td>\n",
              "      <td>...</td>\n",
              "      <td>NaN</td>\n",
              "      <td>NaN</td>\n",
              "      <td>n</td>\n",
              "      <td>NaN</td>\n",
              "      <td>w</td>\n",
              "      <td>f</td>\n",
              "      <td>f</td>\n",
              "      <td>k</td>\n",
              "      <td>g</td>\n",
              "      <td>a</td>\n",
              "    </tr>\n",
              "    <tr>\n",
              "      <th>2</th>\n",
              "      <td>p</td>\n",
              "      <td>3.30</td>\n",
              "      <td>b</td>\n",
              "      <td>NaN</td>\n",
              "      <td>n</td>\n",
              "      <td>f</td>\n",
              "      <td>a</td>\n",
              "      <td>NaN</td>\n",
              "      <td>n</td>\n",
              "      <td>10.22</td>\n",
              "      <td>...</td>\n",
              "      <td>NaN</td>\n",
              "      <td>NaN</td>\n",
              "      <td>n</td>\n",
              "      <td>NaN</td>\n",
              "      <td>w</td>\n",
              "      <td>f</td>\n",
              "      <td>f</td>\n",
              "      <td>k</td>\n",
              "      <td>g</td>\n",
              "      <td>u</td>\n",
              "    </tr>\n",
              "    <tr>\n",
              "      <th>3</th>\n",
              "      <td>p</td>\n",
              "      <td>3.49</td>\n",
              "      <td>b</td>\n",
              "      <td>NaN</td>\n",
              "      <td>k</td>\n",
              "      <td>f</td>\n",
              "      <td>a</td>\n",
              "      <td>NaN</td>\n",
              "      <td>k</td>\n",
              "      <td>11.00</td>\n",
              "      <td>...</td>\n",
              "      <td>NaN</td>\n",
              "      <td>NaN</td>\n",
              "      <td>n</td>\n",
              "      <td>NaN</td>\n",
              "      <td>w</td>\n",
              "      <td>f</td>\n",
              "      <td>f</td>\n",
              "      <td>k</td>\n",
              "      <td>g</td>\n",
              "      <td>a</td>\n",
              "    </tr>\n",
              "    <tr>\n",
              "      <th>4</th>\n",
              "      <td>p</td>\n",
              "      <td>2.79</td>\n",
              "      <td>b</td>\n",
              "      <td>NaN</td>\n",
              "      <td>n</td>\n",
              "      <td>f</td>\n",
              "      <td>a</td>\n",
              "      <td>NaN</td>\n",
              "      <td>n</td>\n",
              "      <td>6.97</td>\n",
              "      <td>...</td>\n",
              "      <td>NaN</td>\n",
              "      <td>NaN</td>\n",
              "      <td>g</td>\n",
              "      <td>NaN</td>\n",
              "      <td>w</td>\n",
              "      <td>f</td>\n",
              "      <td>f</td>\n",
              "      <td>k</td>\n",
              "      <td>g</td>\n",
              "      <td>u</td>\n",
              "    </tr>\n",
              "  </tbody>\n",
              "</table>\n",
              "<p>5 rows × 21 columns</p>\n",
              "</div>\n",
              "      <button class=\"colab-df-convert\" onclick=\"convertToInteractive('df-3713571a-7a3c-4ba7-9cfc-179667169681')\"\n",
              "              title=\"Convert this dataframe to an interactive table.\"\n",
              "              style=\"display:none;\">\n",
              "        \n",
              "  <svg xmlns=\"http://www.w3.org/2000/svg\" height=\"24px\"viewBox=\"0 0 24 24\"\n",
              "       width=\"24px\">\n",
              "    <path d=\"M0 0h24v24H0V0z\" fill=\"none\"/>\n",
              "    <path d=\"M18.56 5.44l.94 2.06.94-2.06 2.06-.94-2.06-.94-.94-2.06-.94 2.06-2.06.94zm-11 1L8.5 8.5l.94-2.06 2.06-.94-2.06-.94L8.5 2.5l-.94 2.06-2.06.94zm10 10l.94 2.06.94-2.06 2.06-.94-2.06-.94-.94-2.06-.94 2.06-2.06.94z\"/><path d=\"M17.41 7.96l-1.37-1.37c-.4-.4-.92-.59-1.43-.59-.52 0-1.04.2-1.43.59L10.3 9.45l-7.72 7.72c-.78.78-.78 2.05 0 2.83L4 21.41c.39.39.9.59 1.41.59.51 0 1.02-.2 1.41-.59l7.78-7.78 2.81-2.81c.8-.78.8-2.07 0-2.86zM5.41 20L4 18.59l7.72-7.72 1.47 1.35L5.41 20z\"/>\n",
              "  </svg>\n",
              "      </button>\n",
              "      \n",
              "  <style>\n",
              "    .colab-df-container {\n",
              "      display:flex;\n",
              "      flex-wrap:wrap;\n",
              "      gap: 12px;\n",
              "    }\n",
              "\n",
              "    .colab-df-convert {\n",
              "      background-color: #E8F0FE;\n",
              "      border: none;\n",
              "      border-radius: 50%;\n",
              "      cursor: pointer;\n",
              "      display: none;\n",
              "      fill: #1967D2;\n",
              "      height: 32px;\n",
              "      padding: 0 0 0 0;\n",
              "      width: 32px;\n",
              "    }\n",
              "\n",
              "    .colab-df-convert:hover {\n",
              "      background-color: #E2EBFA;\n",
              "      box-shadow: 0px 1px 2px rgba(60, 64, 67, 0.3), 0px 1px 3px 1px rgba(60, 64, 67, 0.15);\n",
              "      fill: #174EA6;\n",
              "    }\n",
              "\n",
              "    [theme=dark] .colab-df-convert {\n",
              "      background-color: #3B4455;\n",
              "      fill: #D2E3FC;\n",
              "    }\n",
              "\n",
              "    [theme=dark] .colab-df-convert:hover {\n",
              "      background-color: #434B5C;\n",
              "      box-shadow: 0px 1px 3px 1px rgba(0, 0, 0, 0.15);\n",
              "      filter: drop-shadow(0px 1px 2px rgba(0, 0, 0, 0.3));\n",
              "      fill: #FFFFFF;\n",
              "    }\n",
              "  </style>\n",
              "\n",
              "      <script>\n",
              "        const buttonEl =\n",
              "          document.querySelector('#df-3713571a-7a3c-4ba7-9cfc-179667169681 button.colab-df-convert');\n",
              "        buttonEl.style.display =\n",
              "          google.colab.kernel.accessAllowed ? 'block' : 'none';\n",
              "\n",
              "        async function convertToInteractive(key) {\n",
              "          const element = document.querySelector('#df-3713571a-7a3c-4ba7-9cfc-179667169681');\n",
              "          const dataTable =\n",
              "            await google.colab.kernel.invokeFunction('convertToInteractive',\n",
              "                                                     [key], {});\n",
              "          if (!dataTable) return;\n",
              "\n",
              "          const docLinkHtml = 'Like what you see? Visit the ' +\n",
              "            '<a target=\"_blank\" href=https://colab.research.google.com/notebooks/data_table.ipynb>data table notebook</a>'\n",
              "            + ' to learn more about interactive tables.';\n",
              "          element.innerHTML = '';\n",
              "          dataTable['output_type'] = 'display_data';\n",
              "          await google.colab.output.renderOutput(dataTable, element);\n",
              "          const docLink = document.createElement('div');\n",
              "          docLink.innerHTML = docLinkHtml;\n",
              "          element.appendChild(docLink);\n",
              "        }\n",
              "      </script>\n",
              "    </div>\n",
              "  </div>\n",
              "  "
            ]
          },
          "metadata": {},
          "execution_count": 14
        }
      ]
    },
    {
      "cell_type": "markdown",
      "source": [
        "# 2. Splitting Data into Features and Labels"
      ],
      "metadata": {
        "id": "ih8bE0ke6B5H"
      }
    },
    {
      "cell_type": "code",
      "source": [
        "# This will be the label that the model aims to predict\n",
        "label = train['class']\n",
        "label"
      ],
      "metadata": {
        "id": "nUqdm_e0mFic",
        "colab": {
          "base_uri": "https://localhost:8080/",
          "height": 0
        },
        "outputId": "f0d5829d-7cb1-4e14-9978-5243db21fd3c"
      },
      "execution_count": 15,
      "outputs": [
        {
          "output_type": "execute_result",
          "data": {
            "text/plain": [
              "0        p\n",
              "1        p\n",
              "2        p\n",
              "3        p\n",
              "4        p\n",
              "        ..\n",
              "50208    p\n",
              "50209    p\n",
              "50210    p\n",
              "50211    p\n",
              "50212    p\n",
              "Name: class, Length: 50213, dtype: object"
            ]
          },
          "metadata": {},
          "execution_count": 15
        }
      ]
    },
    {
      "cell_type": "code",
      "source": [
        "# This will be the tentative predictor variables\n",
        "train_dropped = train.drop(['class'], axis = 1)\n",
        "train_dropped"
      ],
      "metadata": {
        "id": "X5GtHXorQ6mR",
        "colab": {
          "base_uri": "https://localhost:8080/",
          "height": 485
        },
        "outputId": "6c02c3da-c310-4b50-95f1-a7221a8b688a"
      },
      "execution_count": 16,
      "outputs": [
        {
          "output_type": "execute_result",
          "data": {
            "text/plain": [
              "       cap-diameter cap-shape cap-surface cap-color does-bruise-or-bleed  \\\n",
              "0             15.26         x           g         o                    f   \n",
              "1             16.60         x           g         o                    f   \n",
              "2             14.07         x           g         o                    f   \n",
              "3             14.17         f           h         e                    f   \n",
              "4             14.64         x           h         o                    f   \n",
              "...             ...       ...         ...       ...                  ...   \n",
              "50208          1.18         s           s         y                    f   \n",
              "50209          1.27         f           s         y                    f   \n",
              "50210          1.27         s           s         y                    f   \n",
              "50211          1.24         f           s         y                    f   \n",
              "50212          1.17         s           s         y                    f   \n",
              "\n",
              "      gill-attachment gill-spacing gill-color  stem-height  stem-width  \\\n",
              "0                   e          NaN          w        16.95       17.09   \n",
              "1                   e          NaN          w        17.99       18.19   \n",
              "2                   e          NaN          w        17.80       17.74   \n",
              "3                   e          NaN          w        15.77       15.98   \n",
              "4                   e          NaN          w        16.53       17.20   \n",
              "...               ...          ...        ...          ...         ...   \n",
              "50208               f            f          f         3.93        6.22   \n",
              "50209               f            f          f         3.18        5.43   \n",
              "50210               f            f          f         3.86        6.37   \n",
              "50211               f            f          f         3.56        5.44   \n",
              "50212               f            f          f         3.25        5.45   \n",
              "\n",
              "      stem-root stem-surface stem-color veil-type veil-color has-ring  \\\n",
              "0             s            y          w         u          w        t   \n",
              "1             s            y          w         u          w        t   \n",
              "2             s            y          w         u          w        t   \n",
              "3             s            y          w         u          w        t   \n",
              "4             s            y          w         u          w        t   \n",
              "...         ...          ...        ...       ...        ...      ...   \n",
              "50208       NaN          NaN          y       NaN        NaN        f   \n",
              "50209       NaN          NaN          y       NaN        NaN        f   \n",
              "50210       NaN          NaN          y       NaN        NaN        f   \n",
              "50211       NaN          NaN          y       NaN        NaN        f   \n",
              "50212       NaN          NaN          y       NaN        NaN        f   \n",
              "\n",
              "      ring-type spore-print-color habitat season  \n",
              "0             g               NaN       d      w  \n",
              "1             g               NaN       d      u  \n",
              "2             g               NaN       d      w  \n",
              "3             p               NaN       d      w  \n",
              "4             p               NaN       d      w  \n",
              "...         ...               ...     ...    ...  \n",
              "50208         f               NaN       d      a  \n",
              "50209         f               NaN       d      a  \n",
              "50210         f               NaN       d      u  \n",
              "50211         f               NaN       d      u  \n",
              "50212         f               NaN       d      u  \n",
              "\n",
              "[50213 rows x 20 columns]"
            ],
            "text/html": [
              "\n",
              "  <div id=\"df-a83d6466-90cc-429d-aee3-172a2f7d8f01\">\n",
              "    <div class=\"colab-df-container\">\n",
              "      <div>\n",
              "<style scoped>\n",
              "    .dataframe tbody tr th:only-of-type {\n",
              "        vertical-align: middle;\n",
              "    }\n",
              "\n",
              "    .dataframe tbody tr th {\n",
              "        vertical-align: top;\n",
              "    }\n",
              "\n",
              "    .dataframe thead th {\n",
              "        text-align: right;\n",
              "    }\n",
              "</style>\n",
              "<table border=\"1\" class=\"dataframe\">\n",
              "  <thead>\n",
              "    <tr style=\"text-align: right;\">\n",
              "      <th></th>\n",
              "      <th>cap-diameter</th>\n",
              "      <th>cap-shape</th>\n",
              "      <th>cap-surface</th>\n",
              "      <th>cap-color</th>\n",
              "      <th>does-bruise-or-bleed</th>\n",
              "      <th>gill-attachment</th>\n",
              "      <th>gill-spacing</th>\n",
              "      <th>gill-color</th>\n",
              "      <th>stem-height</th>\n",
              "      <th>stem-width</th>\n",
              "      <th>stem-root</th>\n",
              "      <th>stem-surface</th>\n",
              "      <th>stem-color</th>\n",
              "      <th>veil-type</th>\n",
              "      <th>veil-color</th>\n",
              "      <th>has-ring</th>\n",
              "      <th>ring-type</th>\n",
              "      <th>spore-print-color</th>\n",
              "      <th>habitat</th>\n",
              "      <th>season</th>\n",
              "    </tr>\n",
              "  </thead>\n",
              "  <tbody>\n",
              "    <tr>\n",
              "      <th>0</th>\n",
              "      <td>15.26</td>\n",
              "      <td>x</td>\n",
              "      <td>g</td>\n",
              "      <td>o</td>\n",
              "      <td>f</td>\n",
              "      <td>e</td>\n",
              "      <td>NaN</td>\n",
              "      <td>w</td>\n",
              "      <td>16.95</td>\n",
              "      <td>17.09</td>\n",
              "      <td>s</td>\n",
              "      <td>y</td>\n",
              "      <td>w</td>\n",
              "      <td>u</td>\n",
              "      <td>w</td>\n",
              "      <td>t</td>\n",
              "      <td>g</td>\n",
              "      <td>NaN</td>\n",
              "      <td>d</td>\n",
              "      <td>w</td>\n",
              "    </tr>\n",
              "    <tr>\n",
              "      <th>1</th>\n",
              "      <td>16.60</td>\n",
              "      <td>x</td>\n",
              "      <td>g</td>\n",
              "      <td>o</td>\n",
              "      <td>f</td>\n",
              "      <td>e</td>\n",
              "      <td>NaN</td>\n",
              "      <td>w</td>\n",
              "      <td>17.99</td>\n",
              "      <td>18.19</td>\n",
              "      <td>s</td>\n",
              "      <td>y</td>\n",
              "      <td>w</td>\n",
              "      <td>u</td>\n",
              "      <td>w</td>\n",
              "      <td>t</td>\n",
              "      <td>g</td>\n",
              "      <td>NaN</td>\n",
              "      <td>d</td>\n",
              "      <td>u</td>\n",
              "    </tr>\n",
              "    <tr>\n",
              "      <th>2</th>\n",
              "      <td>14.07</td>\n",
              "      <td>x</td>\n",
              "      <td>g</td>\n",
              "      <td>o</td>\n",
              "      <td>f</td>\n",
              "      <td>e</td>\n",
              "      <td>NaN</td>\n",
              "      <td>w</td>\n",
              "      <td>17.80</td>\n",
              "      <td>17.74</td>\n",
              "      <td>s</td>\n",
              "      <td>y</td>\n",
              "      <td>w</td>\n",
              "      <td>u</td>\n",
              "      <td>w</td>\n",
              "      <td>t</td>\n",
              "      <td>g</td>\n",
              "      <td>NaN</td>\n",
              "      <td>d</td>\n",
              "      <td>w</td>\n",
              "    </tr>\n",
              "    <tr>\n",
              "      <th>3</th>\n",
              "      <td>14.17</td>\n",
              "      <td>f</td>\n",
              "      <td>h</td>\n",
              "      <td>e</td>\n",
              "      <td>f</td>\n",
              "      <td>e</td>\n",
              "      <td>NaN</td>\n",
              "      <td>w</td>\n",
              "      <td>15.77</td>\n",
              "      <td>15.98</td>\n",
              "      <td>s</td>\n",
              "      <td>y</td>\n",
              "      <td>w</td>\n",
              "      <td>u</td>\n",
              "      <td>w</td>\n",
              "      <td>t</td>\n",
              "      <td>p</td>\n",
              "      <td>NaN</td>\n",
              "      <td>d</td>\n",
              "      <td>w</td>\n",
              "    </tr>\n",
              "    <tr>\n",
              "      <th>4</th>\n",
              "      <td>14.64</td>\n",
              "      <td>x</td>\n",
              "      <td>h</td>\n",
              "      <td>o</td>\n",
              "      <td>f</td>\n",
              "      <td>e</td>\n",
              "      <td>NaN</td>\n",
              "      <td>w</td>\n",
              "      <td>16.53</td>\n",
              "      <td>17.20</td>\n",
              "      <td>s</td>\n",
              "      <td>y</td>\n",
              "      <td>w</td>\n",
              "      <td>u</td>\n",
              "      <td>w</td>\n",
              "      <td>t</td>\n",
              "      <td>p</td>\n",
              "      <td>NaN</td>\n",
              "      <td>d</td>\n",
              "      <td>w</td>\n",
              "    </tr>\n",
              "    <tr>\n",
              "      <th>...</th>\n",
              "      <td>...</td>\n",
              "      <td>...</td>\n",
              "      <td>...</td>\n",
              "      <td>...</td>\n",
              "      <td>...</td>\n",
              "      <td>...</td>\n",
              "      <td>...</td>\n",
              "      <td>...</td>\n",
              "      <td>...</td>\n",
              "      <td>...</td>\n",
              "      <td>...</td>\n",
              "      <td>...</td>\n",
              "      <td>...</td>\n",
              "      <td>...</td>\n",
              "      <td>...</td>\n",
              "      <td>...</td>\n",
              "      <td>...</td>\n",
              "      <td>...</td>\n",
              "      <td>...</td>\n",
              "      <td>...</td>\n",
              "    </tr>\n",
              "    <tr>\n",
              "      <th>50208</th>\n",
              "      <td>1.18</td>\n",
              "      <td>s</td>\n",
              "      <td>s</td>\n",
              "      <td>y</td>\n",
              "      <td>f</td>\n",
              "      <td>f</td>\n",
              "      <td>f</td>\n",
              "      <td>f</td>\n",
              "      <td>3.93</td>\n",
              "      <td>6.22</td>\n",
              "      <td>NaN</td>\n",
              "      <td>NaN</td>\n",
              "      <td>y</td>\n",
              "      <td>NaN</td>\n",
              "      <td>NaN</td>\n",
              "      <td>f</td>\n",
              "      <td>f</td>\n",
              "      <td>NaN</td>\n",
              "      <td>d</td>\n",
              "      <td>a</td>\n",
              "    </tr>\n",
              "    <tr>\n",
              "      <th>50209</th>\n",
              "      <td>1.27</td>\n",
              "      <td>f</td>\n",
              "      <td>s</td>\n",
              "      <td>y</td>\n",
              "      <td>f</td>\n",
              "      <td>f</td>\n",
              "      <td>f</td>\n",
              "      <td>f</td>\n",
              "      <td>3.18</td>\n",
              "      <td>5.43</td>\n",
              "      <td>NaN</td>\n",
              "      <td>NaN</td>\n",
              "      <td>y</td>\n",
              "      <td>NaN</td>\n",
              "      <td>NaN</td>\n",
              "      <td>f</td>\n",
              "      <td>f</td>\n",
              "      <td>NaN</td>\n",
              "      <td>d</td>\n",
              "      <td>a</td>\n",
              "    </tr>\n",
              "    <tr>\n",
              "      <th>50210</th>\n",
              "      <td>1.27</td>\n",
              "      <td>s</td>\n",
              "      <td>s</td>\n",
              "      <td>y</td>\n",
              "      <td>f</td>\n",
              "      <td>f</td>\n",
              "      <td>f</td>\n",
              "      <td>f</td>\n",
              "      <td>3.86</td>\n",
              "      <td>6.37</td>\n",
              "      <td>NaN</td>\n",
              "      <td>NaN</td>\n",
              "      <td>y</td>\n",
              "      <td>NaN</td>\n",
              "      <td>NaN</td>\n",
              "      <td>f</td>\n",
              "      <td>f</td>\n",
              "      <td>NaN</td>\n",
              "      <td>d</td>\n",
              "      <td>u</td>\n",
              "    </tr>\n",
              "    <tr>\n",
              "      <th>50211</th>\n",
              "      <td>1.24</td>\n",
              "      <td>f</td>\n",
              "      <td>s</td>\n",
              "      <td>y</td>\n",
              "      <td>f</td>\n",
              "      <td>f</td>\n",
              "      <td>f</td>\n",
              "      <td>f</td>\n",
              "      <td>3.56</td>\n",
              "      <td>5.44</td>\n",
              "      <td>NaN</td>\n",
              "      <td>NaN</td>\n",
              "      <td>y</td>\n",
              "      <td>NaN</td>\n",
              "      <td>NaN</td>\n",
              "      <td>f</td>\n",
              "      <td>f</td>\n",
              "      <td>NaN</td>\n",
              "      <td>d</td>\n",
              "      <td>u</td>\n",
              "    </tr>\n",
              "    <tr>\n",
              "      <th>50212</th>\n",
              "      <td>1.17</td>\n",
              "      <td>s</td>\n",
              "      <td>s</td>\n",
              "      <td>y</td>\n",
              "      <td>f</td>\n",
              "      <td>f</td>\n",
              "      <td>f</td>\n",
              "      <td>f</td>\n",
              "      <td>3.25</td>\n",
              "      <td>5.45</td>\n",
              "      <td>NaN</td>\n",
              "      <td>NaN</td>\n",
              "      <td>y</td>\n",
              "      <td>NaN</td>\n",
              "      <td>NaN</td>\n",
              "      <td>f</td>\n",
              "      <td>f</td>\n",
              "      <td>NaN</td>\n",
              "      <td>d</td>\n",
              "      <td>u</td>\n",
              "    </tr>\n",
              "  </tbody>\n",
              "</table>\n",
              "<p>50213 rows × 20 columns</p>\n",
              "</div>\n",
              "      <button class=\"colab-df-convert\" onclick=\"convertToInteractive('df-a83d6466-90cc-429d-aee3-172a2f7d8f01')\"\n",
              "              title=\"Convert this dataframe to an interactive table.\"\n",
              "              style=\"display:none;\">\n",
              "        \n",
              "  <svg xmlns=\"http://www.w3.org/2000/svg\" height=\"24px\"viewBox=\"0 0 24 24\"\n",
              "       width=\"24px\">\n",
              "    <path d=\"M0 0h24v24H0V0z\" fill=\"none\"/>\n",
              "    <path d=\"M18.56 5.44l.94 2.06.94-2.06 2.06-.94-2.06-.94-.94-2.06-.94 2.06-2.06.94zm-11 1L8.5 8.5l.94-2.06 2.06-.94-2.06-.94L8.5 2.5l-.94 2.06-2.06.94zm10 10l.94 2.06.94-2.06 2.06-.94-2.06-.94-.94-2.06-.94 2.06-2.06.94z\"/><path d=\"M17.41 7.96l-1.37-1.37c-.4-.4-.92-.59-1.43-.59-.52 0-1.04.2-1.43.59L10.3 9.45l-7.72 7.72c-.78.78-.78 2.05 0 2.83L4 21.41c.39.39.9.59 1.41.59.51 0 1.02-.2 1.41-.59l7.78-7.78 2.81-2.81c.8-.78.8-2.07 0-2.86zM5.41 20L4 18.59l7.72-7.72 1.47 1.35L5.41 20z\"/>\n",
              "  </svg>\n",
              "      </button>\n",
              "      \n",
              "  <style>\n",
              "    .colab-df-container {\n",
              "      display:flex;\n",
              "      flex-wrap:wrap;\n",
              "      gap: 12px;\n",
              "    }\n",
              "\n",
              "    .colab-df-convert {\n",
              "      background-color: #E8F0FE;\n",
              "      border: none;\n",
              "      border-radius: 50%;\n",
              "      cursor: pointer;\n",
              "      display: none;\n",
              "      fill: #1967D2;\n",
              "      height: 32px;\n",
              "      padding: 0 0 0 0;\n",
              "      width: 32px;\n",
              "    }\n",
              "\n",
              "    .colab-df-convert:hover {\n",
              "      background-color: #E2EBFA;\n",
              "      box-shadow: 0px 1px 2px rgba(60, 64, 67, 0.3), 0px 1px 3px 1px rgba(60, 64, 67, 0.15);\n",
              "      fill: #174EA6;\n",
              "    }\n",
              "\n",
              "    [theme=dark] .colab-df-convert {\n",
              "      background-color: #3B4455;\n",
              "      fill: #D2E3FC;\n",
              "    }\n",
              "\n",
              "    [theme=dark] .colab-df-convert:hover {\n",
              "      background-color: #434B5C;\n",
              "      box-shadow: 0px 1px 3px 1px rgba(0, 0, 0, 0.15);\n",
              "      filter: drop-shadow(0px 1px 2px rgba(0, 0, 0, 0.3));\n",
              "      fill: #FFFFFF;\n",
              "    }\n",
              "  </style>\n",
              "\n",
              "      <script>\n",
              "        const buttonEl =\n",
              "          document.querySelector('#df-a83d6466-90cc-429d-aee3-172a2f7d8f01 button.colab-df-convert');\n",
              "        buttonEl.style.display =\n",
              "          google.colab.kernel.accessAllowed ? 'block' : 'none';\n",
              "\n",
              "        async function convertToInteractive(key) {\n",
              "          const element = document.querySelector('#df-a83d6466-90cc-429d-aee3-172a2f7d8f01');\n",
              "          const dataTable =\n",
              "            await google.colab.kernel.invokeFunction('convertToInteractive',\n",
              "                                                     [key], {});\n",
              "          if (!dataTable) return;\n",
              "\n",
              "          const docLinkHtml = 'Like what you see? Visit the ' +\n",
              "            '<a target=\"_blank\" href=https://colab.research.google.com/notebooks/data_table.ipynb>data table notebook</a>'\n",
              "            + ' to learn more about interactive tables.';\n",
              "          element.innerHTML = '';\n",
              "          dataTable['output_type'] = 'display_data';\n",
              "          await google.colab.output.renderOutput(dataTable, element);\n",
              "          const docLink = document.createElement('div');\n",
              "          docLink.innerHTML = docLinkHtml;\n",
              "          element.appendChild(docLink);\n",
              "        }\n",
              "      </script>\n",
              "    </div>\n",
              "  </div>\n",
              "  "
            ]
          },
          "metadata": {},
          "execution_count": 16
        }
      ]
    },
    {
      "cell_type": "code",
      "source": [
        "# predictors for the testing dataset\n",
        "test_dropped = test.drop(['class'], axis = 1)\n",
        "test_dropped"
      ],
      "metadata": {
        "id": "U59RMvOh8vto",
        "colab": {
          "base_uri": "https://localhost:8080/",
          "height": 485
        },
        "outputId": "5faca22c-b47d-4ff2-98ce-e23a486d6ca8"
      },
      "execution_count": 17,
      "outputs": [
        {
          "output_type": "execute_result",
          "data": {
            "text/plain": [
              "       cap-diameter cap-shape cap-surface cap-color does-bruise-or-bleed  \\\n",
              "0              2.50         b         NaN         k                    f   \n",
              "1              3.07         b         NaN         k                    f   \n",
              "2              3.30         b         NaN         n                    f   \n",
              "3              3.49         b         NaN         k                    f   \n",
              "4              2.79         b         NaN         n                    f   \n",
              "...             ...       ...         ...       ...                  ...   \n",
              "10851         52.41         o           y         y                    f   \n",
              "10852         54.81         o           y         y                    f   \n",
              "10853         49.95         o           y         y                    f   \n",
              "10854         53.16         o           y         y                    f   \n",
              "10855         49.78         o           y         y                    f   \n",
              "\n",
              "      gill-attachment gill-spacing gill-color  stem-height  stem-width  \\\n",
              "0                   a          NaN          k         8.42        2.46   \n",
              "1                   a          NaN          n         7.24        2.41   \n",
              "2                   a          NaN          n        10.22        2.53   \n",
              "3                   a          NaN          k        11.00        2.81   \n",
              "4                   a          NaN          n         6.97        2.37   \n",
              "...               ...          ...        ...          ...         ...   \n",
              "10851               p          NaN          y         5.47       25.02   \n",
              "10852               p          NaN          y         6.67       22.15   \n",
              "10853               p          NaN          y         6.43       26.35   \n",
              "10854               p          NaN          y         6.99       40.29   \n",
              "10855               p          NaN          y         5.77       18.26   \n",
              "\n",
              "      stem-root stem-surface stem-color  veil-type veil-color has-ring  \\\n",
              "0           NaN          NaN          g        NaN          w        f   \n",
              "1           NaN          NaN          n        NaN          w        f   \n",
              "2           NaN          NaN          n        NaN          w        f   \n",
              "3           NaN          NaN          n        NaN          w        f   \n",
              "4           NaN          NaN          g        NaN          w        f   \n",
              "...         ...          ...        ...        ...        ...      ...   \n",
              "10851       NaN            k          k        NaN        NaN        f   \n",
              "10852       NaN            k          k        NaN        NaN        f   \n",
              "10853       NaN            k          n        NaN        NaN        f   \n",
              "10854       NaN            k          k        NaN        NaN        f   \n",
              "10855       NaN            k          k        NaN        NaN        f   \n",
              "\n",
              "      ring-type spore-print-color habitat season  \n",
              "0             f                 k       g      u  \n",
              "1             f                 k       g      a  \n",
              "2             f                 k       g      u  \n",
              "3             f                 k       g      a  \n",
              "4             f                 k       g      u  \n",
              "...         ...               ...     ...    ...  \n",
              "10851         f               NaN       d      u  \n",
              "10852         f               NaN       d      s  \n",
              "10853         f               NaN       d      u  \n",
              "10854         f               NaN       d      s  \n",
              "10855         f               NaN       d      u  \n",
              "\n",
              "[10856 rows x 20 columns]"
            ],
            "text/html": [
              "\n",
              "  <div id=\"df-5e9e5c1d-909d-481a-86f4-d4d53ea9cae7\">\n",
              "    <div class=\"colab-df-container\">\n",
              "      <div>\n",
              "<style scoped>\n",
              "    .dataframe tbody tr th:only-of-type {\n",
              "        vertical-align: middle;\n",
              "    }\n",
              "\n",
              "    .dataframe tbody tr th {\n",
              "        vertical-align: top;\n",
              "    }\n",
              "\n",
              "    .dataframe thead th {\n",
              "        text-align: right;\n",
              "    }\n",
              "</style>\n",
              "<table border=\"1\" class=\"dataframe\">\n",
              "  <thead>\n",
              "    <tr style=\"text-align: right;\">\n",
              "      <th></th>\n",
              "      <th>cap-diameter</th>\n",
              "      <th>cap-shape</th>\n",
              "      <th>cap-surface</th>\n",
              "      <th>cap-color</th>\n",
              "      <th>does-bruise-or-bleed</th>\n",
              "      <th>gill-attachment</th>\n",
              "      <th>gill-spacing</th>\n",
              "      <th>gill-color</th>\n",
              "      <th>stem-height</th>\n",
              "      <th>stem-width</th>\n",
              "      <th>stem-root</th>\n",
              "      <th>stem-surface</th>\n",
              "      <th>stem-color</th>\n",
              "      <th>veil-type</th>\n",
              "      <th>veil-color</th>\n",
              "      <th>has-ring</th>\n",
              "      <th>ring-type</th>\n",
              "      <th>spore-print-color</th>\n",
              "      <th>habitat</th>\n",
              "      <th>season</th>\n",
              "    </tr>\n",
              "  </thead>\n",
              "  <tbody>\n",
              "    <tr>\n",
              "      <th>0</th>\n",
              "      <td>2.50</td>\n",
              "      <td>b</td>\n",
              "      <td>NaN</td>\n",
              "      <td>k</td>\n",
              "      <td>f</td>\n",
              "      <td>a</td>\n",
              "      <td>NaN</td>\n",
              "      <td>k</td>\n",
              "      <td>8.42</td>\n",
              "      <td>2.46</td>\n",
              "      <td>NaN</td>\n",
              "      <td>NaN</td>\n",
              "      <td>g</td>\n",
              "      <td>NaN</td>\n",
              "      <td>w</td>\n",
              "      <td>f</td>\n",
              "      <td>f</td>\n",
              "      <td>k</td>\n",
              "      <td>g</td>\n",
              "      <td>u</td>\n",
              "    </tr>\n",
              "    <tr>\n",
              "      <th>1</th>\n",
              "      <td>3.07</td>\n",
              "      <td>b</td>\n",
              "      <td>NaN</td>\n",
              "      <td>k</td>\n",
              "      <td>f</td>\n",
              "      <td>a</td>\n",
              "      <td>NaN</td>\n",
              "      <td>n</td>\n",
              "      <td>7.24</td>\n",
              "      <td>2.41</td>\n",
              "      <td>NaN</td>\n",
              "      <td>NaN</td>\n",
              "      <td>n</td>\n",
              "      <td>NaN</td>\n",
              "      <td>w</td>\n",
              "      <td>f</td>\n",
              "      <td>f</td>\n",
              "      <td>k</td>\n",
              "      <td>g</td>\n",
              "      <td>a</td>\n",
              "    </tr>\n",
              "    <tr>\n",
              "      <th>2</th>\n",
              "      <td>3.30</td>\n",
              "      <td>b</td>\n",
              "      <td>NaN</td>\n",
              "      <td>n</td>\n",
              "      <td>f</td>\n",
              "      <td>a</td>\n",
              "      <td>NaN</td>\n",
              "      <td>n</td>\n",
              "      <td>10.22</td>\n",
              "      <td>2.53</td>\n",
              "      <td>NaN</td>\n",
              "      <td>NaN</td>\n",
              "      <td>n</td>\n",
              "      <td>NaN</td>\n",
              "      <td>w</td>\n",
              "      <td>f</td>\n",
              "      <td>f</td>\n",
              "      <td>k</td>\n",
              "      <td>g</td>\n",
              "      <td>u</td>\n",
              "    </tr>\n",
              "    <tr>\n",
              "      <th>3</th>\n",
              "      <td>3.49</td>\n",
              "      <td>b</td>\n",
              "      <td>NaN</td>\n",
              "      <td>k</td>\n",
              "      <td>f</td>\n",
              "      <td>a</td>\n",
              "      <td>NaN</td>\n",
              "      <td>k</td>\n",
              "      <td>11.00</td>\n",
              "      <td>2.81</td>\n",
              "      <td>NaN</td>\n",
              "      <td>NaN</td>\n",
              "      <td>n</td>\n",
              "      <td>NaN</td>\n",
              "      <td>w</td>\n",
              "      <td>f</td>\n",
              "      <td>f</td>\n",
              "      <td>k</td>\n",
              "      <td>g</td>\n",
              "      <td>a</td>\n",
              "    </tr>\n",
              "    <tr>\n",
              "      <th>4</th>\n",
              "      <td>2.79</td>\n",
              "      <td>b</td>\n",
              "      <td>NaN</td>\n",
              "      <td>n</td>\n",
              "      <td>f</td>\n",
              "      <td>a</td>\n",
              "      <td>NaN</td>\n",
              "      <td>n</td>\n",
              "      <td>6.97</td>\n",
              "      <td>2.37</td>\n",
              "      <td>NaN</td>\n",
              "      <td>NaN</td>\n",
              "      <td>g</td>\n",
              "      <td>NaN</td>\n",
              "      <td>w</td>\n",
              "      <td>f</td>\n",
              "      <td>f</td>\n",
              "      <td>k</td>\n",
              "      <td>g</td>\n",
              "      <td>u</td>\n",
              "    </tr>\n",
              "    <tr>\n",
              "      <th>...</th>\n",
              "      <td>...</td>\n",
              "      <td>...</td>\n",
              "      <td>...</td>\n",
              "      <td>...</td>\n",
              "      <td>...</td>\n",
              "      <td>...</td>\n",
              "      <td>...</td>\n",
              "      <td>...</td>\n",
              "      <td>...</td>\n",
              "      <td>...</td>\n",
              "      <td>...</td>\n",
              "      <td>...</td>\n",
              "      <td>...</td>\n",
              "      <td>...</td>\n",
              "      <td>...</td>\n",
              "      <td>...</td>\n",
              "      <td>...</td>\n",
              "      <td>...</td>\n",
              "      <td>...</td>\n",
              "      <td>...</td>\n",
              "    </tr>\n",
              "    <tr>\n",
              "      <th>10851</th>\n",
              "      <td>52.41</td>\n",
              "      <td>o</td>\n",
              "      <td>y</td>\n",
              "      <td>y</td>\n",
              "      <td>f</td>\n",
              "      <td>p</td>\n",
              "      <td>NaN</td>\n",
              "      <td>y</td>\n",
              "      <td>5.47</td>\n",
              "      <td>25.02</td>\n",
              "      <td>NaN</td>\n",
              "      <td>k</td>\n",
              "      <td>k</td>\n",
              "      <td>NaN</td>\n",
              "      <td>NaN</td>\n",
              "      <td>f</td>\n",
              "      <td>f</td>\n",
              "      <td>NaN</td>\n",
              "      <td>d</td>\n",
              "      <td>u</td>\n",
              "    </tr>\n",
              "    <tr>\n",
              "      <th>10852</th>\n",
              "      <td>54.81</td>\n",
              "      <td>o</td>\n",
              "      <td>y</td>\n",
              "      <td>y</td>\n",
              "      <td>f</td>\n",
              "      <td>p</td>\n",
              "      <td>NaN</td>\n",
              "      <td>y</td>\n",
              "      <td>6.67</td>\n",
              "      <td>22.15</td>\n",
              "      <td>NaN</td>\n",
              "      <td>k</td>\n",
              "      <td>k</td>\n",
              "      <td>NaN</td>\n",
              "      <td>NaN</td>\n",
              "      <td>f</td>\n",
              "      <td>f</td>\n",
              "      <td>NaN</td>\n",
              "      <td>d</td>\n",
              "      <td>s</td>\n",
              "    </tr>\n",
              "    <tr>\n",
              "      <th>10853</th>\n",
              "      <td>49.95</td>\n",
              "      <td>o</td>\n",
              "      <td>y</td>\n",
              "      <td>y</td>\n",
              "      <td>f</td>\n",
              "      <td>p</td>\n",
              "      <td>NaN</td>\n",
              "      <td>y</td>\n",
              "      <td>6.43</td>\n",
              "      <td>26.35</td>\n",
              "      <td>NaN</td>\n",
              "      <td>k</td>\n",
              "      <td>n</td>\n",
              "      <td>NaN</td>\n",
              "      <td>NaN</td>\n",
              "      <td>f</td>\n",
              "      <td>f</td>\n",
              "      <td>NaN</td>\n",
              "      <td>d</td>\n",
              "      <td>u</td>\n",
              "    </tr>\n",
              "    <tr>\n",
              "      <th>10854</th>\n",
              "      <td>53.16</td>\n",
              "      <td>o</td>\n",
              "      <td>y</td>\n",
              "      <td>y</td>\n",
              "      <td>f</td>\n",
              "      <td>p</td>\n",
              "      <td>NaN</td>\n",
              "      <td>y</td>\n",
              "      <td>6.99</td>\n",
              "      <td>40.29</td>\n",
              "      <td>NaN</td>\n",
              "      <td>k</td>\n",
              "      <td>k</td>\n",
              "      <td>NaN</td>\n",
              "      <td>NaN</td>\n",
              "      <td>f</td>\n",
              "      <td>f</td>\n",
              "      <td>NaN</td>\n",
              "      <td>d</td>\n",
              "      <td>s</td>\n",
              "    </tr>\n",
              "    <tr>\n",
              "      <th>10855</th>\n",
              "      <td>49.78</td>\n",
              "      <td>o</td>\n",
              "      <td>y</td>\n",
              "      <td>y</td>\n",
              "      <td>f</td>\n",
              "      <td>p</td>\n",
              "      <td>NaN</td>\n",
              "      <td>y</td>\n",
              "      <td>5.77</td>\n",
              "      <td>18.26</td>\n",
              "      <td>NaN</td>\n",
              "      <td>k</td>\n",
              "      <td>k</td>\n",
              "      <td>NaN</td>\n",
              "      <td>NaN</td>\n",
              "      <td>f</td>\n",
              "      <td>f</td>\n",
              "      <td>NaN</td>\n",
              "      <td>d</td>\n",
              "      <td>u</td>\n",
              "    </tr>\n",
              "  </tbody>\n",
              "</table>\n",
              "<p>10856 rows × 20 columns</p>\n",
              "</div>\n",
              "      <button class=\"colab-df-convert\" onclick=\"convertToInteractive('df-5e9e5c1d-909d-481a-86f4-d4d53ea9cae7')\"\n",
              "              title=\"Convert this dataframe to an interactive table.\"\n",
              "              style=\"display:none;\">\n",
              "        \n",
              "  <svg xmlns=\"http://www.w3.org/2000/svg\" height=\"24px\"viewBox=\"0 0 24 24\"\n",
              "       width=\"24px\">\n",
              "    <path d=\"M0 0h24v24H0V0z\" fill=\"none\"/>\n",
              "    <path d=\"M18.56 5.44l.94 2.06.94-2.06 2.06-.94-2.06-.94-.94-2.06-.94 2.06-2.06.94zm-11 1L8.5 8.5l.94-2.06 2.06-.94-2.06-.94L8.5 2.5l-.94 2.06-2.06.94zm10 10l.94 2.06.94-2.06 2.06-.94-2.06-.94-.94-2.06-.94 2.06-2.06.94z\"/><path d=\"M17.41 7.96l-1.37-1.37c-.4-.4-.92-.59-1.43-.59-.52 0-1.04.2-1.43.59L10.3 9.45l-7.72 7.72c-.78.78-.78 2.05 0 2.83L4 21.41c.39.39.9.59 1.41.59.51 0 1.02-.2 1.41-.59l7.78-7.78 2.81-2.81c.8-.78.8-2.07 0-2.86zM5.41 20L4 18.59l7.72-7.72 1.47 1.35L5.41 20z\"/>\n",
              "  </svg>\n",
              "      </button>\n",
              "      \n",
              "  <style>\n",
              "    .colab-df-container {\n",
              "      display:flex;\n",
              "      flex-wrap:wrap;\n",
              "      gap: 12px;\n",
              "    }\n",
              "\n",
              "    .colab-df-convert {\n",
              "      background-color: #E8F0FE;\n",
              "      border: none;\n",
              "      border-radius: 50%;\n",
              "      cursor: pointer;\n",
              "      display: none;\n",
              "      fill: #1967D2;\n",
              "      height: 32px;\n",
              "      padding: 0 0 0 0;\n",
              "      width: 32px;\n",
              "    }\n",
              "\n",
              "    .colab-df-convert:hover {\n",
              "      background-color: #E2EBFA;\n",
              "      box-shadow: 0px 1px 2px rgba(60, 64, 67, 0.3), 0px 1px 3px 1px rgba(60, 64, 67, 0.15);\n",
              "      fill: #174EA6;\n",
              "    }\n",
              "\n",
              "    [theme=dark] .colab-df-convert {\n",
              "      background-color: #3B4455;\n",
              "      fill: #D2E3FC;\n",
              "    }\n",
              "\n",
              "    [theme=dark] .colab-df-convert:hover {\n",
              "      background-color: #434B5C;\n",
              "      box-shadow: 0px 1px 3px 1px rgba(0, 0, 0, 0.15);\n",
              "      filter: drop-shadow(0px 1px 2px rgba(0, 0, 0, 0.3));\n",
              "      fill: #FFFFFF;\n",
              "    }\n",
              "  </style>\n",
              "\n",
              "      <script>\n",
              "        const buttonEl =\n",
              "          document.querySelector('#df-5e9e5c1d-909d-481a-86f4-d4d53ea9cae7 button.colab-df-convert');\n",
              "        buttonEl.style.display =\n",
              "          google.colab.kernel.accessAllowed ? 'block' : 'none';\n",
              "\n",
              "        async function convertToInteractive(key) {\n",
              "          const element = document.querySelector('#df-5e9e5c1d-909d-481a-86f4-d4d53ea9cae7');\n",
              "          const dataTable =\n",
              "            await google.colab.kernel.invokeFunction('convertToInteractive',\n",
              "                                                     [key], {});\n",
              "          if (!dataTable) return;\n",
              "\n",
              "          const docLinkHtml = 'Like what you see? Visit the ' +\n",
              "            '<a target=\"_blank\" href=https://colab.research.google.com/notebooks/data_table.ipynb>data table notebook</a>'\n",
              "            + ' to learn more about interactive tables.';\n",
              "          element.innerHTML = '';\n",
              "          dataTable['output_type'] = 'display_data';\n",
              "          await google.colab.output.renderOutput(dataTable, element);\n",
              "          const docLink = document.createElement('div');\n",
              "          docLink.innerHTML = docLinkHtml;\n",
              "          element.appendChild(docLink);\n",
              "        }\n",
              "      </script>\n",
              "    </div>\n",
              "  </div>\n",
              "  "
            ]
          },
          "metadata": {},
          "execution_count": 17
        }
      ]
    },
    {
      "cell_type": "code",
      "source": [
        "# the target variable for the testing data\n",
        "label_test = test[\"class\"]\n",
        "print(label_test)"
      ],
      "metadata": {
        "id": "pYcY6uuUGSyi",
        "colab": {
          "base_uri": "https://localhost:8080/",
          "height": 0
        },
        "outputId": "b567c836-346c-4230-fe69-071e817e6df7"
      },
      "execution_count": 18,
      "outputs": [
        {
          "output_type": "stream",
          "name": "stdout",
          "text": [
            "0        p\n",
            "1        p\n",
            "2        p\n",
            "3        p\n",
            "4        p\n",
            "        ..\n",
            "10851    e\n",
            "10852    e\n",
            "10853    e\n",
            "10854    e\n",
            "10855    e\n",
            "Name: class, Length: 10856, dtype: object\n"
          ]
        }
      ]
    },
    {
      "cell_type": "code",
      "source": [
        "# changing the labels to numeric values\n",
        "label = label.map({\"p\":1, \"e\":0})\n",
        "label_test = label_test.map({\"p\":1, \"e\":0})\n"
      ],
      "metadata": {
        "id": "xvDKtFMhGcN8"
      },
      "execution_count": 19,
      "outputs": []
    },
    {
      "cell_type": "markdown",
      "source": [
        "# 3. Data Exploration, Visualization, and Data Processing"
      ],
      "metadata": {
        "id": "F0lxPkOv6N5z"
      }
    },
    {
      "cell_type": "code",
      "source": [
        "# view the dimensions of the training and testing data\n",
        "print(train.shape)\n",
        "print(test.shape)\n",
        "print(train_dropped.shape)\n",
        "print(test_dropped.shape)"
      ],
      "metadata": {
        "id": "g3FDzkXPdNKb",
        "colab": {
          "base_uri": "https://localhost:8080/",
          "height": 0
        },
        "outputId": "025ec7f6-8634-4581-ae2e-d128fd0ccd63"
      },
      "execution_count": 20,
      "outputs": [
        {
          "output_type": "stream",
          "name": "stdout",
          "text": [
            "(50213, 21)\n",
            "(10856, 21)\n",
            "(50213, 20)\n",
            "(10856, 20)\n"
          ]
        }
      ]
    },
    {
      "cell_type": "code",
      "source": [
        "# look at the type of each predictors\n",
        "train.info()"
      ],
      "metadata": {
        "id": "0djIbGNEeXwp",
        "colab": {
          "base_uri": "https://localhost:8080/",
          "height": 0
        },
        "outputId": "94d474d2-d61b-4e3c-9241-5231121a0d15"
      },
      "execution_count": 21,
      "outputs": [
        {
          "output_type": "stream",
          "name": "stdout",
          "text": [
            "<class 'pandas.core.frame.DataFrame'>\n",
            "RangeIndex: 50213 entries, 0 to 50212\n",
            "Data columns (total 21 columns):\n",
            " #   Column                Non-Null Count  Dtype  \n",
            "---  ------                --------------  -----  \n",
            " 0   class                 50213 non-null  object \n",
            " 1   cap-diameter          50213 non-null  float64\n",
            " 2   cap-shape             50213 non-null  object \n",
            " 3   cap-surface           37915 non-null  object \n",
            " 4   cap-color             50213 non-null  object \n",
            " 5   does-bruise-or-bleed  50213 non-null  object \n",
            " 6   gill-attachment       42447 non-null  object \n",
            " 7   gill-spacing          31064 non-null  object \n",
            " 8   gill-color            50213 non-null  object \n",
            " 9   stem-height           50213 non-null  float64\n",
            " 10  stem-width            50213 non-null  float64\n",
            " 11  stem-root             7413 non-null   object \n",
            " 12  stem-surface          19912 non-null  object \n",
            " 13  stem-color            50213 non-null  object \n",
            " 14  veil-type             3177 non-null   object \n",
            " 15  veil-color            6297 non-null   object \n",
            " 16  has-ring              50213 non-null  object \n",
            " 17  ring-type             48448 non-null  object \n",
            " 18  spore-print-color     4532 non-null   object \n",
            " 19  habitat               50213 non-null  object \n",
            " 20  season                50213 non-null  object \n",
            "dtypes: float64(3), object(18)\n",
            "memory usage: 8.0+ MB\n"
          ]
        }
      ]
    },
    {
      "cell_type": "code",
      "source": [
        "# view the amount of NA values in this dataset for training\n",
        "train.isnull().sum()"
      ],
      "metadata": {
        "id": "YVlE4umgejLi",
        "colab": {
          "base_uri": "https://localhost:8080/",
          "height": 0
        },
        "outputId": "7cf2eb93-1ac8-4eb9-bbc3-3c66d1698834"
      },
      "execution_count": 22,
      "outputs": [
        {
          "output_type": "execute_result",
          "data": {
            "text/plain": [
              "class                       0\n",
              "cap-diameter                0\n",
              "cap-shape                   0\n",
              "cap-surface             12298\n",
              "cap-color                   0\n",
              "does-bruise-or-bleed        0\n",
              "gill-attachment          7766\n",
              "gill-spacing            19149\n",
              "gill-color                  0\n",
              "stem-height                 0\n",
              "stem-width                  0\n",
              "stem-root               42800\n",
              "stem-surface            30301\n",
              "stem-color                  0\n",
              "veil-type               47036\n",
              "veil-color              43916\n",
              "has-ring                    0\n",
              "ring-type                1765\n",
              "spore-print-color       45681\n",
              "habitat                     0\n",
              "season                      0\n",
              "dtype: int64"
            ]
          },
          "metadata": {},
          "execution_count": 22
        }
      ]
    },
    {
      "cell_type": "code",
      "source": [
        "# Visualize the amount of missing values for each column\n",
        "\n",
        "import pylab\n",
        "\n",
        "def plot_missing_values(df):\n",
        "    data = [(col, df[col].isnull().sum() / len(df)) \n",
        "            for col in df.columns if df[col].isnull().sum() > 0]\n",
        "    col_names = ['column', 'percent_missing']\n",
        "    missing_df = pd.DataFrame(data, columns=col_names).sort_values('percent_missing')\n",
        "    pylab.rcParams['figure.figsize'] = (15, 8)\n",
        "    missing_df.plot(kind='barh', x='column', y='percent_missing'); \n",
        "    plt.title('Percent of missing values in colummns');\n",
        "\n",
        "\n",
        "plot_missing_values(train)\n"
      ],
      "metadata": {
        "colab": {
          "base_uri": "https://localhost:8080/",
          "height": 499
        },
        "id": "Xwv7AHACI3w3",
        "outputId": "89dc7ac0-ac50-4f88-c677-27462c403441"
      },
      "execution_count": 23,
      "outputs": [
        {
          "output_type": "display_data",
          "data": {
            "text/plain": [
              "<Figure size 1080x576 with 1 Axes>"
            ],
            "image/png": "[encoded data removed]"
          },
          "metadata": {
            "needs_background": "light"
          }
        }
      ]
    },
    {
      "cell_type": "code",
      "source": [
        "# view the amount of missing values for testing\n",
        "test.isnull().sum()\n",
        "\n",
        "# columns with missing values are the following\n",
        "# missing_vals = [\"cap-surface\", \"gill-attachment\", \"gill-spacing\", \"stem-root\", \"stem-surface\", \"veil-type\", \"veil-color\", \"ring-type\", \"spore-print-color\"]\n"
      ],
      "metadata": {
        "colab": {
          "base_uri": "https://localhost:8080/",
          "height": 0
        },
        "id": "30DXU0ItUkpk",
        "outputId": "093f3070-cfde-4e02-bc62-82c90d9aff78"
      },
      "execution_count": 24,
      "outputs": [
        {
          "output_type": "execute_result",
          "data": {
            "text/plain": [
              "class                       0\n",
              "cap-diameter                0\n",
              "cap-shape                   0\n",
              "cap-surface              1822\n",
              "cap-color                   0\n",
              "does-bruise-or-bleed        0\n",
              "gill-attachment          2118\n",
              "gill-spacing             5914\n",
              "gill-color                  0\n",
              "stem-height                 0\n",
              "stem-width                  0\n",
              "stem-root                8738\n",
              "stem-surface             7823\n",
              "stem-color                  0\n",
              "veil-type               10856\n",
              "veil-color               9740\n",
              "has-ring                    0\n",
              "ring-type                 706\n",
              "spore-print-color        9034\n",
              "habitat                     0\n",
              "season                      0\n",
              "dtype: int64"
            ]
          },
          "metadata": {},
          "execution_count": 24
        }
      ]
    },
    {
      "cell_type": "code",
      "source": [
        "# Visualize the amount of missing values for each column\n",
        "plot_missing_values(test)"
      ],
      "metadata": {
        "colab": {
          "base_uri": "https://localhost:8080/",
          "height": 499
        },
        "id": "5sA-AVAEUrs8",
        "outputId": "d7920e67-88ff-408d-932f-99f882be65d1"
      },
      "execution_count": 25,
      "outputs": [
        {
          "output_type": "display_data",
          "data": {
            "text/plain": [
              "<Figure size 1080x576 with 1 Axes>"
            ],
            "image/png": "[encoded data removed]"
          },
          "metadata": {
            "needs_background": "light"
          }
        }
      ]
    },
    {
      "cell_type": "markdown",
      "source": [
        "Note that 100% of the values in the \"veil-type\" column is missing (there are 10856 observations in the testing data set and 10856 of them are missing values for this specific column). Thus, we have that this column does not provide us with valuable information, and can be removed from both the training and testing dataset."
      ],
      "metadata": {
        "id": "0zxuOXvUUxyT"
      }
    },
    {
      "cell_type": "code",
      "source": [
        "# drop \"veil-type\"\n",
        "train_dropped = train_dropped.drop([\"veil-type\"], axis = 1)\n",
        "test_dropped = test_dropped.drop([\"veil-type\"], axis = 1)"
      ],
      "metadata": {
        "id": "93MqumK3VRux"
      },
      "execution_count": 26,
      "outputs": []
    },
    {
      "cell_type": "code",
      "source": [
        "# find the specifics for each of the numerical predictors\n",
        "train_dropped.describe()"
      ],
      "metadata": {
        "id": "IA57JfaQSScI",
        "colab": {
          "base_uri": "https://localhost:8080/",
          "height": 300
        },
        "outputId": "dd31a338-38bb-4686-e8fb-ee8ba809dc03"
      },
      "execution_count": 27,
      "outputs": [
        {
          "output_type": "execute_result",
          "data": {
            "text/plain": [
              "       cap-diameter   stem-height    stem-width\n",
              "count  50213.000000  50213.000000  50213.000000\n",
              "mean       6.245186      6.600561     10.763191\n",
              "std        4.542552      3.221714      7.744992\n",
              "min        0.380000      1.200000      0.520000\n",
              "25%        3.290000      4.680000      4.720000\n",
              "50%        5.540000      5.900000      9.130000\n",
              "75%        8.100000      7.600000     15.210000\n",
              "max       58.890000     33.920000     58.950000"
            ],
            "text/html": [
              "\n",
              "  <div id=\"df-8bf35560-6fed-4625-96fe-45bda98d68e9\">\n",
              "    <div class=\"colab-df-container\">\n",
              "      <div>\n",
              "<style scoped>\n",
              "    .dataframe tbody tr th:only-of-type {\n",
              "        vertical-align: middle;\n",
              "    }\n",
              "\n",
              "    .dataframe tbody tr th {\n",
              "        vertical-align: top;\n",
              "    }\n",
              "\n",
              "    .dataframe thead th {\n",
              "        text-align: right;\n",
              "    }\n",
              "</style>\n",
              "<table border=\"1\" class=\"dataframe\">\n",
              "  <thead>\n",
              "    <tr style=\"text-align: right;\">\n",
              "      <th></th>\n",
              "      <th>cap-diameter</th>\n",
              "      <th>stem-height</th>\n",
              "      <th>stem-width</th>\n",
              "    </tr>\n",
              "  </thead>\n",
              "  <tbody>\n",
              "    <tr>\n",
              "      <th>count</th>\n",
              "      <td>50213.000000</td>\n",
              "      <td>50213.000000</td>\n",
              "      <td>50213.000000</td>\n",
              "    </tr>\n",
              "    <tr>\n",
              "      <th>mean</th>\n",
              "      <td>6.245186</td>\n",
              "      <td>6.600561</td>\n",
              "      <td>10.763191</td>\n",
              "    </tr>\n",
              "    <tr>\n",
              "      <th>std</th>\n",
              "      <td>4.542552</td>\n",
              "      <td>3.221714</td>\n",
              "      <td>7.744992</td>\n",
              "    </tr>\n",
              "    <tr>\n",
              "      <th>min</th>\n",
              "      <td>0.380000</td>\n",
              "      <td>1.200000</td>\n",
              "      <td>0.520000</td>\n",
              "    </tr>\n",
              "    <tr>\n",
              "      <th>25%</th>\n",
              "      <td>3.290000</td>\n",
              "      <td>4.680000</td>\n",
              "      <td>4.720000</td>\n",
              "    </tr>\n",
              "    <tr>\n",
              "      <th>50%</th>\n",
              "      <td>5.540000</td>\n",
              "      <td>5.900000</td>\n",
              "      <td>9.130000</td>\n",
              "    </tr>\n",
              "    <tr>\n",
              "      <th>75%</th>\n",
              "      <td>8.100000</td>\n",
              "      <td>7.600000</td>\n",
              "      <td>15.210000</td>\n",
              "    </tr>\n",
              "    <tr>\n",
              "      <th>max</th>\n",
              "      <td>58.890000</td>\n",
              "      <td>33.920000</td>\n",
              "      <td>58.950000</td>\n",
              "    </tr>\n",
              "  </tbody>\n",
              "</table>\n",
              "</div>\n",
              "      <button class=\"colab-df-convert\" onclick=\"convertToInteractive('df-8bf35560-6fed-4625-96fe-45bda98d68e9')\"\n",
              "              title=\"Convert this dataframe to an interactive table.\"\n",
              "              style=\"display:none;\">\n",
              "        \n",
              "  <svg xmlns=\"http://www.w3.org/2000/svg\" height=\"24px\"viewBox=\"0 0 24 24\"\n",
              "       width=\"24px\">\n",
              "    <path d=\"M0 0h24v24H0V0z\" fill=\"none\"/>\n",
              "    <path d=\"M18.56 5.44l.94 2.06.94-2.06 2.06-.94-2.06-.94-.94-2.06-.94 2.06-2.06.94zm-11 1L8.5 8.5l.94-2.06 2.06-.94-2.06-.94L8.5 2.5l-.94 2.06-2.06.94zm10 10l.94 2.06.94-2.06 2.06-.94-2.06-.94-.94-2.06-.94 2.06-2.06.94z\"/><path d=\"M17.41 7.96l-1.37-1.37c-.4-.4-.92-.59-1.43-.59-.52 0-1.04.2-1.43.59L10.3 9.45l-7.72 7.72c-.78.78-.78 2.05 0 2.83L4 21.41c.39.39.9.59 1.41.59.51 0 1.02-.2 1.41-.59l7.78-7.78 2.81-2.81c.8-.78.8-2.07 0-2.86zM5.41 20L4 18.59l7.72-7.72 1.47 1.35L5.41 20z\"/>\n",
              "  </svg>\n",
              "      </button>\n",
              "      \n",
              "  <style>\n",
              "    .colab-df-container {\n",
              "      display:flex;\n",
              "      flex-wrap:wrap;\n",
              "      gap: 12px;\n",
              "    }\n",
              "\n",
              "    .colab-df-convert {\n",
              "      background-color: #E8F0FE;\n",
              "      border: none;\n",
              "      border-radius: 50%;\n",
              "      cursor: pointer;\n",
              "      display: none;\n",
              "      fill: #1967D2;\n",
              "      height: 32px;\n",
              "      padding: 0 0 0 0;\n",
              "      width: 32px;\n",
              "    }\n",
              "\n",
              "    .colab-df-convert:hover {\n",
              "      background-color: #E2EBFA;\n",
              "      box-shadow: 0px 1px 2px rgba(60, 64, 67, 0.3), 0px 1px 3px 1px rgba(60, 64, 67, 0.15);\n",
              "      fill: #174EA6;\n",
              "    }\n",
              "\n",
              "    [theme=dark] .colab-df-convert {\n",
              "      background-color: #3B4455;\n",
              "      fill: #D2E3FC;\n",
              "    }\n",
              "\n",
              "    [theme=dark] .colab-df-convert:hover {\n",
              "      background-color: #434B5C;\n",
              "      box-shadow: 0px 1px 3px 1px rgba(0, 0, 0, 0.15);\n",
              "      filter: drop-shadow(0px 1px 2px rgba(0, 0, 0, 0.3));\n",
              "      fill: #FFFFFF;\n",
              "    }\n",
              "  </style>\n",
              "\n",
              "      <script>\n",
              "        const buttonEl =\n",
              "          document.querySelector('#df-8bf35560-6fed-4625-96fe-45bda98d68e9 button.colab-df-convert');\n",
              "        buttonEl.style.display =\n",
              "          google.colab.kernel.accessAllowed ? 'block' : 'none';\n",
              "\n",
              "        async function convertToInteractive(key) {\n",
              "          const element = document.querySelector('#df-8bf35560-6fed-4625-96fe-45bda98d68e9');\n",
              "          const dataTable =\n",
              "            await google.colab.kernel.invokeFunction('convertToInteractive',\n",
              "                                                     [key], {});\n",
              "          if (!dataTable) return;\n",
              "\n",
              "          const docLinkHtml = 'Like what you see? Visit the ' +\n",
              "            '<a target=\"_blank\" href=https://colab.research.google.com/notebooks/data_table.ipynb>data table notebook</a>'\n",
              "            + ' to learn more about interactive tables.';\n",
              "          element.innerHTML = '';\n",
              "          dataTable['output_type'] = 'display_data';\n",
              "          await google.colab.output.renderOutput(dataTable, element);\n",
              "          const docLink = document.createElement('div');\n",
              "          docLink.innerHTML = docLinkHtml;\n",
              "          element.appendChild(docLink);\n",
              "        }\n",
              "      </script>\n",
              "    </div>\n",
              "  </div>\n",
              "  "
            ]
          },
          "metadata": {},
          "execution_count": 27
        }
      ]
    },
    {
      "cell_type": "code",
      "source": [
        "# find correlation of the numeric predictors\n",
        "train_dropped.corr()\n",
        "import seaborn as sns\n",
        "sns.heatmap(train_dropped.corr())\n",
        "plt.show()"
      ],
      "metadata": {
        "id": "41dIa3TjolkE",
        "colab": {
          "base_uri": "https://localhost:8080/",
          "height": 487
        },
        "outputId": "11494949-72d6-4106-cf5c-34dd3d979997"
      },
      "execution_count": 28,
      "outputs": [
        {
          "output_type": "display_data",
          "data": {
            "text/plain": [
              "<Figure size 1080x576 with 2 Axes>"
            ],
            "image/png": "[encoded data removed]"
          },
          "metadata": {
            "needs_background": "light"
          }
        }
      ]
    },
    {
      "cell_type": "code",
      "source": [
        "# visualization for the target variable\n",
        "label.hist(bins = 50, figsize = (20,15))\n",
        "plt.show()"
      ],
      "metadata": {
        "id": "pvR80qZ5TQ-c",
        "colab": {
          "base_uri": "https://localhost:8080/",
          "height": 863
        },
        "outputId": "26eb2e2b-4dab-4b60-e7ee-b8008c96933f"
      },
      "execution_count": 29,
      "outputs": [
        {
          "output_type": "display_data",
          "data": {
            "text/plain": [
              "<Figure size 1440x1080 with 1 Axes>"
            ],
            "image/png": "[encoded data removed]"
          },
          "metadata": {
            "needs_background": "light"
          }
        }
      ]
    },
    {
      "cell_type": "code",
      "source": [
        "# visualization for numeric, predictor variables\n",
        "train_dropped.hist(bins = 50, figsize = (20,15))\n",
        "plt.show()"
      ],
      "metadata": {
        "id": "ur5xyI5LSvBu",
        "colab": {
          "base_uri": "https://localhost:8080/",
          "height": 879
        },
        "outputId": "09d9607d-1e6e-44b1-e751-32ef0e36e1f3"
      },
      "execution_count": 30,
      "outputs": [
        {
          "output_type": "display_data",
          "data": {
            "text/plain": [
              "<Figure size 1440x1080 with 4 Axes>"
            ],
            "image/png": "[encoded data removed]"
          },
          "metadata": {
            "needs_background": "light"
          }
        }
      ]
    },
    {
      "cell_type": "markdown",
      "source": [
        "From above, we can see that there is a great amount of samples that are both poisonous and not poisonous. We can conclude that our classifier will have a sufficiently balanced dataset to adequately classify the two (i.e. there is no high skew in the two values as this can be problematic when considering accuracy rates)."
      ],
      "metadata": {
        "id": "YZlO2YL_xgrl"
      }
    },
    {
      "cell_type": "code",
      "source": [
        "# visualization of the categorical variables\n",
        "temp = (train_dropped.drop([\"cap-diameter\",\"stem-height\",\"stem-width\"], axis = 1)).apply(pd.value_counts).fillna(0)\n",
        "temp1 = temp.iloc[:,0:6]\n",
        "fig = temp1.plot(kind = 'pie',subplots = True, figsize = (30,30), legend = None)\n",
        "\n",
        "plt.show()\n"
      ],
      "metadata": {
        "id": "tvWXKMWfuFh-",
        "colab": {
          "base_uri": "https://localhost:8080/",
          "height": 270
        },
        "outputId": "4e12bdfc-94ca-4716-b1f1-a5704b408605"
      },
      "execution_count": 31,
      "outputs": [
        {
          "output_type": "display_data",
          "data": {
            "text/plain": [
              "<Figure size 2160x2160 with 6 Axes>"
            ],
            "image/png": "[encoded data removed]"
          },
          "metadata": {}
        }
      ]
    },
    {
      "cell_type": "code",
      "source": [
        "# next 5 predictors\n",
        "temp2 = temp.iloc[:, 6:11]\n",
        "fig = temp2.plot(kind = 'pie',subplots = True, figsize = (30,30), legend = None)\n",
        "\n",
        "plt.show()"
      ],
      "metadata": {
        "id": "MkVWoTLhxLcY",
        "colab": {
          "base_uri": "https://localhost:8080/",
          "height": 320
        },
        "outputId": "8924fd24-f84b-4c57-b382-69899fd2c623"
      },
      "execution_count": 32,
      "outputs": [
        {
          "output_type": "display_data",
          "data": {
            "text/plain": [
              "<Figure size 2160x2160 with 5 Axes>"
            ],
            "image/png": "[encoded data removed]"
          },
          "metadata": {}
        }
      ]
    },
    {
      "cell_type": "code",
      "source": [
        "# next 5 predictors\n",
        "temp3 = temp.iloc[:,11:]\n",
        "fig = temp3.plot(kind = 'pie',subplots = True, figsize = (30,30), legend = None)\n",
        "\n",
        "plt.show()\n"
      ],
      "metadata": {
        "colab": {
          "base_uri": "https://localhost:8080/",
          "height": 320
        },
        "id": "PKs2OPiS6liq",
        "outputId": "23001ac4-5363-4d96-f6a6-afc86106e2e8"
      },
      "execution_count": 33,
      "outputs": [
        {
          "output_type": "display_data",
          "data": {
            "text/plain": [
              "<Figure size 2160x2160 with 5 Axes>"
            ],
            "image/png": "[encoded data removed]"
          },
          "metadata": {}
        }
      ]
    },
    {
      "cell_type": "code",
      "source": [
        "# below shows whether we should scale or encode any of the variables\n",
        "for col in train_dropped:\n",
        "  print(col)\n",
        "  print(train_dropped[col].unique())"
      ],
      "metadata": {
        "id": "SXEKqNlxanPx",
        "colab": {
          "base_uri": "https://localhost:8080/",
          "height": 0
        },
        "outputId": "888635f4-e17e-4d9c-9fdb-9230ae70e4ad"
      },
      "execution_count": 34,
      "outputs": [
        {
          "output_type": "stream",
          "name": "stdout",
          "text": [
            "cap-diameter\n",
            "[15.26 16.6  14.07 ... 21.8  20.42 22.71]\n",
            "cap-shape\n",
            "['x' 'f' 'p' 'b' 'c' 's' 'o']\n",
            "cap-surface\n",
            "['g' 'h' nan 't' 'y' 'e' 's' 'l' 'd' 'w' 'i' 'k']\n",
            "cap-color\n",
            "['o' 'e' 'n' 'g' 'r' 'w' 'y' 'p' 'u' 'b' 'l' 'k']\n",
            "does-bruise-or-bleed\n",
            "['f' 't']\n",
            "gill-attachment\n",
            "['e' nan 'a' 'd' 's' 'x' 'p' 'f']\n",
            "gill-spacing\n",
            "[nan 'c' 'd' 'f']\n",
            "gill-color\n",
            "['w' 'n' 'p' 'u' 'b' 'g' 'y' 'r' 'e' 'o' 'k' 'f']\n",
            "stem-height\n",
            "[16.95 17.99 17.8  ... 17.7  14.62 15.15]\n",
            "stem-width\n",
            "[17.09 18.19 17.74 ... 21.78 21.56 22.53]\n",
            "stem-root\n",
            "['s' nan 'b' 'r']\n",
            "stem-surface\n",
            "['y' nan 's' 'k' 'i' 'h' 't' 'g']\n",
            "stem-color\n",
            "['w' 'y' 'n' 'u' 'b' 'l' 'r' 'p' 'e' 'k' 'g' 'o']\n",
            "veil-color\n",
            "['w' 'y' nan 'n' 'e' 'u']\n",
            "has-ring\n",
            "['t' 'f']\n",
            "ring-type\n",
            "['g' 'p' 'e' 'l' 'f' 'm' nan 'r' 'z']\n",
            "spore-print-color\n",
            "[nan 'w' 'p' 'k' 'r' 'u' 'n']\n",
            "habitat\n",
            "['d' 'm' 'g' 'h' 'l' 'p' 'w' 'u']\n",
            "season\n",
            "['w' 'u' 'a' 's']\n"
          ]
        }
      ]
    },
    {
      "cell_type": "code",
      "source": [
        "# since \"stem-width\" is in mm and \"stem-height\", \"cap-diameter\" are in cm, we aim to convert \"stem-height\" and \"cap-diameter\"\n",
        "# if we aim to convert \"stem-width\", since it is a small value, we may lose precision\n",
        "\n",
        "\n",
        "# for training data\n",
        "train_dropped['cap-diameter'] = train_dropped['cap-diameter']*100\n",
        "train_dropped['stem-height'] = train_dropped['stem-height']*100\n",
        "\n",
        "# for testing data\n",
        "test_dropped['cap-diameter'] = test_dropped['cap-diameter']*100\n",
        "test_dropped['stem-height'] = test_dropped['stem-height']*100"
      ],
      "metadata": {
        "id": "B0J3Sf0b_Irq"
      },
      "execution_count": 35,
      "outputs": []
    },
    {
      "cell_type": "code",
      "source": [
        "# build numeric pipeline\n",
        "from sklearn.pipeline import Pipeline\n",
        "from sklearn.preprocessing import StandardScaler, OneHotEncoder\n",
        "from sklearn.impute import SimpleImputer\n",
        "from sklearn.compose import ColumnTransformer, make_column_transformer\n",
        "\n",
        "train_num = train_dropped[[\"cap-diameter\",\"stem-height\",\"stem-width\"]]\n",
        "\n",
        "num_pipeline = Pipeline([\n",
        "    ('std_scalar', StandardScaler())\n",
        "])\n",
        "\n",
        "numerical_features = list(train_num)"
      ],
      "metadata": {
        "id": "QntgFmh_YwXf"
      },
      "execution_count": 36,
      "outputs": []
    },
    {
      "cell_type": "code",
      "source": [
        "# generate variable that will capture features that are used for one hot encoding\n",
        "OHE = list(train_dropped.drop([\"cap-diameter\",\"stem-height\",\"stem-width\"], axis = 1))\n"
      ],
      "metadata": {
        "id": "0Z7PASZ6f-Pa"
      },
      "execution_count": 37,
      "outputs": []
    },
    {
      "cell_type": "code",
      "source": [
        "# for training data\n",
        "#  use to impute missing values with mode\n",
        "\n",
        "# first store column names in variable\n",
        "column_names = train_dropped.columns\n",
        "\n",
        "# simple imputation using mode\n",
        "imp = SimpleImputer(missing_values = np.nan, strategy = 'most_frequent')\n",
        "\n",
        "# fit the simple imputation strategy\n",
        "imputed_train_dropped = imp.fit_transform(train_dropped)\n",
        "\n",
        "# revert back to data frame\n",
        "imputed_train_dropped = pd.DataFrame(imputed_train_dropped, columns = column_names).reset_index(drop = 'index')\n",
        "imputed_train_dropped"
      ],
      "metadata": {
        "colab": {
          "base_uri": "https://localhost:8080/",
          "height": 485
        },
        "id": "-9fKaE_rK4JF",
        "outputId": "842c7081-102c-447e-c342-285c00728e3a"
      },
      "execution_count": 38,
      "outputs": [
        {
          "output_type": "execute_result",
          "data": {
            "text/plain": [
              "      cap-diameter cap-shape cap-surface cap-color does-bruise-or-bleed  \\\n",
              "0           1526.0         x           g         o                    f   \n",
              "1           1660.0         x           g         o                    f   \n",
              "2           1407.0         x           g         o                    f   \n",
              "3           1417.0         f           h         e                    f   \n",
              "4           1464.0         x           h         o                    f   \n",
              "...            ...       ...         ...       ...                  ...   \n",
              "50208        118.0         s           s         y                    f   \n",
              "50209        127.0         f           s         y                    f   \n",
              "50210        127.0         s           s         y                    f   \n",
              "50211        124.0         f           s         y                    f   \n",
              "50212        117.0         s           s         y                    f   \n",
              "\n",
              "      gill-attachment gill-spacing gill-color stem-height stem-width  \\\n",
              "0                   e            c          w      1695.0      17.09   \n",
              "1                   e            c          w      1799.0      18.19   \n",
              "2                   e            c          w      1780.0      17.74   \n",
              "3                   e            c          w      1577.0      15.98   \n",
              "4                   e            c          w      1653.0       17.2   \n",
              "...               ...          ...        ...         ...        ...   \n",
              "50208               f            f          f       393.0       6.22   \n",
              "50209               f            f          f       318.0       5.43   \n",
              "50210               f            f          f       386.0       6.37   \n",
              "50211               f            f          f       356.0       5.44   \n",
              "50212               f            f          f       325.0       5.45   \n",
              "\n",
              "      stem-root stem-surface stem-color veil-color has-ring ring-type  \\\n",
              "0             s            y          w          w        t         g   \n",
              "1             s            y          w          w        t         g   \n",
              "2             s            y          w          w        t         g   \n",
              "3             s            y          w          w        t         p   \n",
              "4             s            y          w          w        t         p   \n",
              "...         ...          ...        ...        ...      ...       ...   \n",
              "50208         b            s          y          w        f         f   \n",
              "50209         b            s          y          w        f         f   \n",
              "50210         b            s          y          w        f         f   \n",
              "50211         b            s          y          w        f         f   \n",
              "50212         b            s          y          w        f         f   \n",
              "\n",
              "      spore-print-color habitat season  \n",
              "0                     k       d      w  \n",
              "1                     k       d      u  \n",
              "2                     k       d      w  \n",
              "3                     k       d      w  \n",
              "4                     k       d      w  \n",
              "...                 ...     ...    ...  \n",
              "50208                 k       d      a  \n",
              "50209                 k       d      a  \n",
              "50210                 k       d      u  \n",
              "50211                 k       d      u  \n",
              "50212                 k       d      u  \n",
              "\n",
              "[50213 rows x 19 columns]"
            ],
            "text/html": [
              "\n",
              "  <div id=\"df-1f3d41a9-488b-4d93-bb01-3be7561eb33a\">\n",
              "    <div class=\"colab-df-container\">\n",
              "      <div>\n",
              "<style scoped>\n",
              "    .dataframe tbody tr th:only-of-type {\n",
              "        vertical-align: middle;\n",
              "    }\n",
              "\n",
              "    .dataframe tbody tr th {\n",
              "        vertical-align: top;\n",
              "    }\n",
              "\n",
              "    .dataframe thead th {\n",
              "        text-align: right;\n",
              "    }\n",
              "</style>\n",
              "<table border=\"1\" class=\"dataframe\">\n",
              "  <thead>\n",
              "    <tr style=\"text-align: right;\">\n",
              "      <th></th>\n",
              "      <th>cap-diameter</th>\n",
              "      <th>cap-shape</th>\n",
              "      <th>cap-surface</th>\n",
              "      <th>cap-color</th>\n",
              "      <th>does-bruise-or-bleed</th>\n",
              "      <th>gill-attachment</th>\n",
              "      <th>gill-spacing</th>\n",
              "      <th>gill-color</th>\n",
              "      <th>stem-height</th>\n",
              "      <th>stem-width</th>\n",
              "      <th>stem-root</th>\n",
              "      <th>stem-surface</th>\n",
              "      <th>stem-color</th>\n",
              "      <th>veil-color</th>\n",
              "      <th>has-ring</th>\n",
              "      <th>ring-type</th>\n",
              "      <th>spore-print-color</th>\n",
              "      <th>habitat</th>\n",
              "      <th>season</th>\n",
              "    </tr>\n",
              "  </thead>\n",
              "  <tbody>\n",
              "    <tr>\n",
              "      <th>0</th>\n",
              "      <td>1526.0</td>\n",
              "      <td>x</td>\n",
              "      <td>g</td>\n",
              "      <td>o</td>\n",
              "      <td>f</td>\n",
              "      <td>e</td>\n",
              "      <td>c</td>\n",
              "      <td>w</td>\n",
              "      <td>1695.0</td>\n",
              "      <td>17.09</td>\n",
              "      <td>s</td>\n",
              "      <td>y</td>\n",
              "      <td>w</td>\n",
              "      <td>w</td>\n",
              "      <td>t</td>\n",
              "      <td>g</td>\n",
              "      <td>k</td>\n",
              "      <td>d</td>\n",
              "      <td>w</td>\n",
              "    </tr>\n",
              "    <tr>\n",
              "      <th>1</th>\n",
              "      <td>1660.0</td>\n",
              "      <td>x</td>\n",
              "      <td>g</td>\n",
              "      <td>o</td>\n",
              "      <td>f</td>\n",
              "      <td>e</td>\n",
              "      <td>c</td>\n",
              "      <td>w</td>\n",
              "      <td>1799.0</td>\n",
              "      <td>18.19</td>\n",
              "      <td>s</td>\n",
              "      <td>y</td>\n",
              "      <td>w</td>\n",
              "      <td>w</td>\n",
              "      <td>t</td>\n",
              "      <td>g</td>\n",
              "      <td>k</td>\n",
              "      <td>d</td>\n",
              "      <td>u</td>\n",
              "    </tr>\n",
              "    <tr>\n",
              "      <th>2</th>\n",
              "      <td>1407.0</td>\n",
              "      <td>x</td>\n",
              "      <td>g</td>\n",
              "      <td>o</td>\n",
              "      <td>f</td>\n",
              "      <td>e</td>\n",
              "      <td>c</td>\n",
              "      <td>w</td>\n",
              "      <td>1780.0</td>\n",
              "      <td>17.74</td>\n",
              "      <td>s</td>\n",
              "      <td>y</td>\n",
              "      <td>w</td>\n",
              "      <td>w</td>\n",
              "      <td>t</td>\n",
              "      <td>g</td>\n",
              "      <td>k</td>\n",
              "      <td>d</td>\n",
              "      <td>w</td>\n",
              "    </tr>\n",
              "    <tr>\n",
              "      <th>3</th>\n",
              "      <td>1417.0</td>\n",
              "      <td>f</td>\n",
              "      <td>h</td>\n",
              "      <td>e</td>\n",
              "      <td>f</td>\n",
              "      <td>e</td>\n",
              "      <td>c</td>\n",
              "      <td>w</td>\n",
              "      <td>1577.0</td>\n",
              "      <td>15.98</td>\n",
              "      <td>s</td>\n",
              "      <td>y</td>\n",
              "      <td>w</td>\n",
              "      <td>w</td>\n",
              "      <td>t</td>\n",
              "      <td>p</td>\n",
              "      <td>k</td>\n",
              "      <td>d</td>\n",
              "      <td>w</td>\n",
              "    </tr>\n",
              "    <tr>\n",
              "      <th>4</th>\n",
              "      <td>1464.0</td>\n",
              "      <td>x</td>\n",
              "      <td>h</td>\n",
              "      <td>o</td>\n",
              "      <td>f</td>\n",
              "      <td>e</td>\n",
              "      <td>c</td>\n",
              "      <td>w</td>\n",
              "      <td>1653.0</td>\n",
              "      <td>17.2</td>\n",
              "      <td>s</td>\n",
              "      <td>y</td>\n",
              "      <td>w</td>\n",
              "      <td>w</td>\n",
              "      <td>t</td>\n",
              "      <td>p</td>\n",
              "      <td>k</td>\n",
              "      <td>d</td>\n",
              "      <td>w</td>\n",
              "    </tr>\n",
              "    <tr>\n",
              "      <th>...</th>\n",
              "      <td>...</td>\n",
              "      <td>...</td>\n",
              "      <td>...</td>\n",
              "      <td>...</td>\n",
              "      <td>...</td>\n",
              "      <td>...</td>\n",
              "      <td>...</td>\n",
              "      <td>...</td>\n",
              "      <td>...</td>\n",
              "      <td>...</td>\n",
              "      <td>...</td>\n",
              "      <td>...</td>\n",
              "      <td>...</td>\n",
              "      <td>...</td>\n",
              "      <td>...</td>\n",
              "      <td>...</td>\n",
              "      <td>...</td>\n",
              "      <td>...</td>\n",
              "      <td>...</td>\n",
              "    </tr>\n",
              "    <tr>\n",
              "      <th>50208</th>\n",
              "      <td>118.0</td>\n",
              "      <td>s</td>\n",
              "      <td>s</td>\n",
              "      <td>y</td>\n",
              "      <td>f</td>\n",
              "      <td>f</td>\n",
              "      <td>f</td>\n",
              "      <td>f</td>\n",
              "      <td>393.0</td>\n",
              "      <td>6.22</td>\n",
              "      <td>b</td>\n",
              "      <td>s</td>\n",
              "      <td>y</td>\n",
              "      <td>w</td>\n",
              "      <td>f</td>\n",
              "      <td>f</td>\n",
              "      <td>k</td>\n",
              "      <td>d</td>\n",
              "      <td>a</td>\n",
              "    </tr>\n",
              "    <tr>\n",
              "      <th>50209</th>\n",
              "      <td>127.0</td>\n",
              "      <td>f</td>\n",
              "      <td>s</td>\n",
              "      <td>y</td>\n",
              "      <td>f</td>\n",
              "      <td>f</td>\n",
              "      <td>f</td>\n",
              "      <td>f</td>\n",
              "      <td>318.0</td>\n",
              "      <td>5.43</td>\n",
              "      <td>b</td>\n",
              "      <td>s</td>\n",
              "      <td>y</td>\n",
              "      <td>w</td>\n",
              "      <td>f</td>\n",
              "      <td>f</td>\n",
              "      <td>k</td>\n",
              "      <td>d</td>\n",
              "      <td>a</td>\n",
              "    </tr>\n",
              "    <tr>\n",
              "      <th>50210</th>\n",
              "      <td>127.0</td>\n",
              "      <td>s</td>\n",
              "      <td>s</td>\n",
              "      <td>y</td>\n",
              "      <td>f</td>\n",
              "      <td>f</td>\n",
              "      <td>f</td>\n",
              "      <td>f</td>\n",
              "      <td>386.0</td>\n",
              "      <td>6.37</td>\n",
              "      <td>b</td>\n",
              "      <td>s</td>\n",
              "      <td>y</td>\n",
              "      <td>w</td>\n",
              "      <td>f</td>\n",
              "      <td>f</td>\n",
              "      <td>k</td>\n",
              "      <td>d</td>\n",
              "      <td>u</td>\n",
              "    </tr>\n",
              "    <tr>\n",
              "      <th>50211</th>\n",
              "      <td>124.0</td>\n",
              "      <td>f</td>\n",
              "      <td>s</td>\n",
              "      <td>y</td>\n",
              "      <td>f</td>\n",
              "      <td>f</td>\n",
              "      <td>f</td>\n",
              "      <td>f</td>\n",
              "      <td>356.0</td>\n",
              "      <td>5.44</td>\n",
              "      <td>b</td>\n",
              "      <td>s</td>\n",
              "      <td>y</td>\n",
              "      <td>w</td>\n",
              "      <td>f</td>\n",
              "      <td>f</td>\n",
              "      <td>k</td>\n",
              "      <td>d</td>\n",
              "      <td>u</td>\n",
              "    </tr>\n",
              "    <tr>\n",
              "      <th>50212</th>\n",
              "      <td>117.0</td>\n",
              "      <td>s</td>\n",
              "      <td>s</td>\n",
              "      <td>y</td>\n",
              "      <td>f</td>\n",
              "      <td>f</td>\n",
              "      <td>f</td>\n",
              "      <td>f</td>\n",
              "      <td>325.0</td>\n",
              "      <td>5.45</td>\n",
              "      <td>b</td>\n",
              "      <td>s</td>\n",
              "      <td>y</td>\n",
              "      <td>w</td>\n",
              "      <td>f</td>\n",
              "      <td>f</td>\n",
              "      <td>k</td>\n",
              "      <td>d</td>\n",
              "      <td>u</td>\n",
              "    </tr>\n",
              "  </tbody>\n",
              "</table>\n",
              "<p>50213 rows × 19 columns</p>\n",
              "</div>\n",
              "      <button class=\"colab-df-convert\" onclick=\"convertToInteractive('df-1f3d41a9-488b-4d93-bb01-3be7561eb33a')\"\n",
              "              title=\"Convert this dataframe to an interactive table.\"\n",
              "              style=\"display:none;\">\n",
              "        \n",
              "  <svg xmlns=\"http://www.w3.org/2000/svg\" height=\"24px\"viewBox=\"0 0 24 24\"\n",
              "       width=\"24px\">\n",
              "    <path d=\"M0 0h24v24H0V0z\" fill=\"none\"/>\n",
              "    <path d=\"M18.56 5.44l.94 2.06.94-2.06 2.06-.94-2.06-.94-.94-2.06-.94 2.06-2.06.94zm-11 1L8.5 8.5l.94-2.06 2.06-.94-2.06-.94L8.5 2.5l-.94 2.06-2.06.94zm10 10l.94 2.06.94-2.06 2.06-.94-2.06-.94-.94-2.06-.94 2.06-2.06.94z\"/><path d=\"M17.41 7.96l-1.37-1.37c-.4-.4-.92-.59-1.43-.59-.52 0-1.04.2-1.43.59L10.3 9.45l-7.72 7.72c-.78.78-.78 2.05 0 2.83L4 21.41c.39.39.9.59 1.41.59.51 0 1.02-.2 1.41-.59l7.78-7.78 2.81-2.81c.8-.78.8-2.07 0-2.86zM5.41 20L4 18.59l7.72-7.72 1.47 1.35L5.41 20z\"/>\n",
              "  </svg>\n",
              "      </button>\n",
              "      \n",
              "  <style>\n",
              "    .colab-df-container {\n",
              "      display:flex;\n",
              "      flex-wrap:wrap;\n",
              "      gap: 12px;\n",
              "    }\n",
              "\n",
              "    .colab-df-convert {\n",
              "      background-color: #E8F0FE;\n",
              "      border: none;\n",
              "      border-radius: 50%;\n",
              "      cursor: pointer;\n",
              "      display: none;\n",
              "      fill: #1967D2;\n",
              "      height: 32px;\n",
              "      padding: 0 0 0 0;\n",
              "      width: 32px;\n",
              "    }\n",
              "\n",
              "    .colab-df-convert:hover {\n",
              "      background-color: #E2EBFA;\n",
              "      box-shadow: 0px 1px 2px rgba(60, 64, 67, 0.3), 0px 1px 3px 1px rgba(60, 64, 67, 0.15);\n",
              "      fill: #174EA6;\n",
              "    }\n",
              "\n",
              "    [theme=dark] .colab-df-convert {\n",
              "      background-color: #3B4455;\n",
              "      fill: #D2E3FC;\n",
              "    }\n",
              "\n",
              "    [theme=dark] .colab-df-convert:hover {\n",
              "      background-color: #434B5C;\n",
              "      box-shadow: 0px 1px 3px 1px rgba(0, 0, 0, 0.15);\n",
              "      filter: drop-shadow(0px 1px 2px rgba(0, 0, 0, 0.3));\n",
              "      fill: #FFFFFF;\n",
              "    }\n",
              "  </style>\n",
              "\n",
              "      <script>\n",
              "        const buttonEl =\n",
              "          document.querySelector('#df-1f3d41a9-488b-4d93-bb01-3be7561eb33a button.colab-df-convert');\n",
              "        buttonEl.style.display =\n",
              "          google.colab.kernel.accessAllowed ? 'block' : 'none';\n",
              "\n",
              "        async function convertToInteractive(key) {\n",
              "          const element = document.querySelector('#df-1f3d41a9-488b-4d93-bb01-3be7561eb33a');\n",
              "          const dataTable =\n",
              "            await google.colab.kernel.invokeFunction('convertToInteractive',\n",
              "                                                     [key], {});\n",
              "          if (!dataTable) return;\n",
              "\n",
              "          const docLinkHtml = 'Like what you see? Visit the ' +\n",
              "            '<a target=\"_blank\" href=https://colab.research.google.com/notebooks/data_table.ipynb>data table notebook</a>'\n",
              "            + ' to learn more about interactive tables.';\n",
              "          element.innerHTML = '';\n",
              "          dataTable['output_type'] = 'display_data';\n",
              "          await google.colab.output.renderOutput(dataTable, element);\n",
              "          const docLink = document.createElement('div');\n",
              "          docLink.innerHTML = docLinkHtml;\n",
              "          element.appendChild(docLink);\n",
              "        }\n",
              "      </script>\n",
              "    </div>\n",
              "  </div>\n",
              "  "
            ]
          },
          "metadata": {},
          "execution_count": 38
        }
      ]
    },
    {
      "cell_type": "code",
      "source": [
        "# for testing data\n",
        "#  use to impute missing values with mode\n",
        "\n",
        "# first store column names in variable\n",
        "column_names = test_dropped.columns\n",
        "\n",
        "# simple imputation using mode\n",
        "imp = SimpleImputer(missing_values = np.nan, strategy = 'most_frequent')\n",
        "\n",
        "# fit the simple imputation strategy\n",
        "imputed_test_dropped = imp.fit_transform(test_dropped)\n",
        "\n",
        "# revert back to data frame\n",
        "imputed_test_dropped = pd.DataFrame(imputed_test_dropped, columns = column_names).reset_index(drop = 'index')\n",
        "imputed_test_dropped"
      ],
      "metadata": {
        "colab": {
          "base_uri": "https://localhost:8080/",
          "height": 485
        },
        "id": "LGLJsxwkSZME",
        "outputId": "8652a21f-97a0-4117-a640-79fc549f2a48"
      },
      "execution_count": 39,
      "outputs": [
        {
          "output_type": "execute_result",
          "data": {
            "text/plain": [
              "      cap-diameter cap-shape cap-surface cap-color does-bruise-or-bleed  \\\n",
              "0            250.0         b           t         k                    f   \n",
              "1            307.0         b           t         k                    f   \n",
              "2            330.0         b           t         n                    f   \n",
              "3            349.0         b           t         k                    f   \n",
              "4            279.0         b           t         n                    f   \n",
              "...            ...       ...         ...       ...                  ...   \n",
              "10851       5241.0         o           y         y                    f   \n",
              "10852       5481.0         o           y         y                    f   \n",
              "10853       4995.0         o           y         y                    f   \n",
              "10854       5316.0         o           y         y                    f   \n",
              "10855       4978.0         o           y         y                    f   \n",
              "\n",
              "      gill-attachment gill-spacing gill-color stem-height stem-width  \\\n",
              "0                   a            c          k       842.0       2.46   \n",
              "1                   a            c          n       724.0       2.41   \n",
              "2                   a            c          n      1022.0       2.53   \n",
              "3                   a            c          k      1100.0       2.81   \n",
              "4                   a            c          n       697.0       2.37   \n",
              "...               ...          ...        ...         ...        ...   \n",
              "10851               p            c          y       547.0      25.02   \n",
              "10852               p            c          y       667.0      22.15   \n",
              "10853               p            c          y       643.0      26.35   \n",
              "10854               p            c          y       699.0      40.29   \n",
              "10855               p            c          y       577.0      18.26   \n",
              "\n",
              "      stem-root stem-surface stem-color veil-color has-ring ring-type  \\\n",
              "0             f            f          g          w        f         f   \n",
              "1             f            f          n          w        f         f   \n",
              "2             f            f          n          w        f         f   \n",
              "3             f            f          n          w        f         f   \n",
              "4             f            f          g          w        f         f   \n",
              "...         ...          ...        ...        ...      ...       ...   \n",
              "10851         f            k          k          w        f         f   \n",
              "10852         f            k          k          w        f         f   \n",
              "10853         f            k          n          w        f         f   \n",
              "10854         f            k          k          w        f         f   \n",
              "10855         f            k          k          w        f         f   \n",
              "\n",
              "      spore-print-color habitat season  \n",
              "0                     k       g      u  \n",
              "1                     k       g      a  \n",
              "2                     k       g      u  \n",
              "3                     k       g      a  \n",
              "4                     k       g      u  \n",
              "...                 ...     ...    ...  \n",
              "10851                 k       d      u  \n",
              "10852                 k       d      s  \n",
              "10853                 k       d      u  \n",
              "10854                 k       d      s  \n",
              "10855                 k       d      u  \n",
              "\n",
              "[10856 rows x 19 columns]"
            ],
            "text/html": [
              "\n",
              "  <div id=\"df-14f65808-c987-46cc-8944-37f903700985\">\n",
              "    <div class=\"colab-df-container\">\n",
              "      <div>\n",
              "<style scoped>\n",
              "    .dataframe tbody tr th:only-of-type {\n",
              "        vertical-align: middle;\n",
              "    }\n",
              "\n",
              "    .dataframe tbody tr th {\n",
              "        vertical-align: top;\n",
              "    }\n",
              "\n",
              "    .dataframe thead th {\n",
              "        text-align: right;\n",
              "    }\n",
              "</style>\n",
              "<table border=\"1\" class=\"dataframe\">\n",
              "  <thead>\n",
              "    <tr style=\"text-align: right;\">\n",
              "      <th></th>\n",
              "      <th>cap-diameter</th>\n",
              "      <th>cap-shape</th>\n",
              "      <th>cap-surface</th>\n",
              "      <th>cap-color</th>\n",
              "      <th>does-bruise-or-bleed</th>\n",
              "      <th>gill-attachment</th>\n",
              "      <th>gill-spacing</th>\n",
              "      <th>gill-color</th>\n",
              "      <th>stem-height</th>\n",
              "      <th>stem-width</th>\n",
              "      <th>stem-root</th>\n",
              "      <th>stem-surface</th>\n",
              "      <th>stem-color</th>\n",
              "      <th>veil-color</th>\n",
              "      <th>has-ring</th>\n",
              "      <th>ring-type</th>\n",
              "      <th>spore-print-color</th>\n",
              "      <th>habitat</th>\n",
              "      <th>season</th>\n",
              "    </tr>\n",
              "  </thead>\n",
              "  <tbody>\n",
              "    <tr>\n",
              "      <th>0</th>\n",
              "      <td>250.0</td>\n",
              "      <td>b</td>\n",
              "      <td>t</td>\n",
              "      <td>k</td>\n",
              "      <td>f</td>\n",
              "      <td>a</td>\n",
              "      <td>c</td>\n",
              "      <td>k</td>\n",
              "      <td>842.0</td>\n",
              "      <td>2.46</td>\n",
              "      <td>f</td>\n",
              "      <td>f</td>\n",
              "      <td>g</td>\n",
              "      <td>w</td>\n",
              "      <td>f</td>\n",
              "      <td>f</td>\n",
              "      <td>k</td>\n",
              "      <td>g</td>\n",
              "      <td>u</td>\n",
              "    </tr>\n",
              "    <tr>\n",
              "      <th>1</th>\n",
              "      <td>307.0</td>\n",
              "      <td>b</td>\n",
              "      <td>t</td>\n",
              "      <td>k</td>\n",
              "      <td>f</td>\n",
              "      <td>a</td>\n",
              "      <td>c</td>\n",
              "      <td>n</td>\n",
              "      <td>724.0</td>\n",
              "      <td>2.41</td>\n",
              "      <td>f</td>\n",
              "      <td>f</td>\n",
              "      <td>n</td>\n",
              "      <td>w</td>\n",
              "      <td>f</td>\n",
              "      <td>f</td>\n",
              "      <td>k</td>\n",
              "      <td>g</td>\n",
              "      <td>a</td>\n",
              "    </tr>\n",
              "    <tr>\n",
              "      <th>2</th>\n",
              "      <td>330.0</td>\n",
              "      <td>b</td>\n",
              "      <td>t</td>\n",
              "      <td>n</td>\n",
              "      <td>f</td>\n",
              "      <td>a</td>\n",
              "      <td>c</td>\n",
              "      <td>n</td>\n",
              "      <td>1022.0</td>\n",
              "      <td>2.53</td>\n",
              "      <td>f</td>\n",
              "      <td>f</td>\n",
              "      <td>n</td>\n",
              "      <td>w</td>\n",
              "      <td>f</td>\n",
              "      <td>f</td>\n",
              "      <td>k</td>\n",
              "      <td>g</td>\n",
              "      <td>u</td>\n",
              "    </tr>\n",
              "    <tr>\n",
              "      <th>3</th>\n",
              "      <td>349.0</td>\n",
              "      <td>b</td>\n",
              "      <td>t</td>\n",
              "      <td>k</td>\n",
              "      <td>f</td>\n",
              "      <td>a</td>\n",
              "      <td>c</td>\n",
              "      <td>k</td>\n",
              "      <td>1100.0</td>\n",
              "      <td>2.81</td>\n",
              "      <td>f</td>\n",
              "      <td>f</td>\n",
              "      <td>n</td>\n",
              "      <td>w</td>\n",
              "      <td>f</td>\n",
              "      <td>f</td>\n",
              "      <td>k</td>\n",
              "      <td>g</td>\n",
              "      <td>a</td>\n",
              "    </tr>\n",
              "    <tr>\n",
              "      <th>4</th>\n",
              "      <td>279.0</td>\n",
              "      <td>b</td>\n",
              "      <td>t</td>\n",
              "      <td>n</td>\n",
              "      <td>f</td>\n",
              "      <td>a</td>\n",
              "      <td>c</td>\n",
              "      <td>n</td>\n",
              "      <td>697.0</td>\n",
              "      <td>2.37</td>\n",
              "      <td>f</td>\n",
              "      <td>f</td>\n",
              "      <td>g</td>\n",
              "      <td>w</td>\n",
              "      <td>f</td>\n",
              "      <td>f</td>\n",
              "      <td>k</td>\n",
              "      <td>g</td>\n",
              "      <td>u</td>\n",
              "    </tr>\n",
              "    <tr>\n",
              "      <th>...</th>\n",
              "      <td>...</td>\n",
              "      <td>...</td>\n",
              "      <td>...</td>\n",
              "      <td>...</td>\n",
              "      <td>...</td>\n",
              "      <td>...</td>\n",
              "      <td>...</td>\n",
              "      <td>...</td>\n",
              "      <td>...</td>\n",
              "      <td>...</td>\n",
              "      <td>...</td>\n",
              "      <td>...</td>\n",
              "      <td>...</td>\n",
              "      <td>...</td>\n",
              "      <td>...</td>\n",
              "      <td>...</td>\n",
              "      <td>...</td>\n",
              "      <td>...</td>\n",
              "      <td>...</td>\n",
              "    </tr>\n",
              "    <tr>\n",
              "      <th>10851</th>\n",
              "      <td>5241.0</td>\n",
              "      <td>o</td>\n",
              "      <td>y</td>\n",
              "      <td>y</td>\n",
              "      <td>f</td>\n",
              "      <td>p</td>\n",
              "      <td>c</td>\n",
              "      <td>y</td>\n",
              "      <td>547.0</td>\n",
              "      <td>25.02</td>\n",
              "      <td>f</td>\n",
              "      <td>k</td>\n",
              "      <td>k</td>\n",
              "      <td>w</td>\n",
              "      <td>f</td>\n",
              "      <td>f</td>\n",
              "      <td>k</td>\n",
              "      <td>d</td>\n",
              "      <td>u</td>\n",
              "    </tr>\n",
              "    <tr>\n",
              "      <th>10852</th>\n",
              "      <td>5481.0</td>\n",
              "      <td>o</td>\n",
              "      <td>y</td>\n",
              "      <td>y</td>\n",
              "      <td>f</td>\n",
              "      <td>p</td>\n",
              "      <td>c</td>\n",
              "      <td>y</td>\n",
              "      <td>667.0</td>\n",
              "      <td>22.15</td>\n",
              "      <td>f</td>\n",
              "      <td>k</td>\n",
              "      <td>k</td>\n",
              "      <td>w</td>\n",
              "      <td>f</td>\n",
              "      <td>f</td>\n",
              "      <td>k</td>\n",
              "      <td>d</td>\n",
              "      <td>s</td>\n",
              "    </tr>\n",
              "    <tr>\n",
              "      <th>10853</th>\n",
              "      <td>4995.0</td>\n",
              "      <td>o</td>\n",
              "      <td>y</td>\n",
              "      <td>y</td>\n",
              "      <td>f</td>\n",
              "      <td>p</td>\n",
              "      <td>c</td>\n",
              "      <td>y</td>\n",
              "      <td>643.0</td>\n",
              "      <td>26.35</td>\n",
              "      <td>f</td>\n",
              "      <td>k</td>\n",
              "      <td>n</td>\n",
              "      <td>w</td>\n",
              "      <td>f</td>\n",
              "      <td>f</td>\n",
              "      <td>k</td>\n",
              "      <td>d</td>\n",
              "      <td>u</td>\n",
              "    </tr>\n",
              "    <tr>\n",
              "      <th>10854</th>\n",
              "      <td>5316.0</td>\n",
              "      <td>o</td>\n",
              "      <td>y</td>\n",
              "      <td>y</td>\n",
              "      <td>f</td>\n",
              "      <td>p</td>\n",
              "      <td>c</td>\n",
              "      <td>y</td>\n",
              "      <td>699.0</td>\n",
              "      <td>40.29</td>\n",
              "      <td>f</td>\n",
              "      <td>k</td>\n",
              "      <td>k</td>\n",
              "      <td>w</td>\n",
              "      <td>f</td>\n",
              "      <td>f</td>\n",
              "      <td>k</td>\n",
              "      <td>d</td>\n",
              "      <td>s</td>\n",
              "    </tr>\n",
              "    <tr>\n",
              "      <th>10855</th>\n",
              "      <td>4978.0</td>\n",
              "      <td>o</td>\n",
              "      <td>y</td>\n",
              "      <td>y</td>\n",
              "      <td>f</td>\n",
              "      <td>p</td>\n",
              "      <td>c</td>\n",
              "      <td>y</td>\n",
              "      <td>577.0</td>\n",
              "      <td>18.26</td>\n",
              "      <td>f</td>\n",
              "      <td>k</td>\n",
              "      <td>k</td>\n",
              "      <td>w</td>\n",
              "      <td>f</td>\n",
              "      <td>f</td>\n",
              "      <td>k</td>\n",
              "      <td>d</td>\n",
              "      <td>u</td>\n",
              "    </tr>\n",
              "  </tbody>\n",
              "</table>\n",
              "<p>10856 rows × 19 columns</p>\n",
              "</div>\n",
              "      <button class=\"colab-df-convert\" onclick=\"convertToInteractive('df-14f65808-c987-46cc-8944-37f903700985')\"\n",
              "              title=\"Convert this dataframe to an interactive table.\"\n",
              "              style=\"display:none;\">\n",
              "        \n",
              "  <svg xmlns=\"http://www.w3.org/2000/svg\" height=\"24px\"viewBox=\"0 0 24 24\"\n",
              "       width=\"24px\">\n",
              "    <path d=\"M0 0h24v24H0V0z\" fill=\"none\"/>\n",
              "    <path d=\"M18.56 5.44l.94 2.06.94-2.06 2.06-.94-2.06-.94-.94-2.06-.94 2.06-2.06.94zm-11 1L8.5 8.5l.94-2.06 2.06-.94-2.06-.94L8.5 2.5l-.94 2.06-2.06.94zm10 10l.94 2.06.94-2.06 2.06-.94-2.06-.94-.94-2.06-.94 2.06-2.06.94z\"/><path d=\"M17.41 7.96l-1.37-1.37c-.4-.4-.92-.59-1.43-.59-.52 0-1.04.2-1.43.59L10.3 9.45l-7.72 7.72c-.78.78-.78 2.05 0 2.83L4 21.41c.39.39.9.59 1.41.59.51 0 1.02-.2 1.41-.59l7.78-7.78 2.81-2.81c.8-.78.8-2.07 0-2.86zM5.41 20L4 18.59l7.72-7.72 1.47 1.35L5.41 20z\"/>\n",
              "  </svg>\n",
              "      </button>\n",
              "      \n",
              "  <style>\n",
              "    .colab-df-container {\n",
              "      display:flex;\n",
              "      flex-wrap:wrap;\n",
              "      gap: 12px;\n",
              "    }\n",
              "\n",
              "    .colab-df-convert {\n",
              "      background-color: #E8F0FE;\n",
              "      border: none;\n",
              "      border-radius: 50%;\n",
              "      cursor: pointer;\n",
              "      display: none;\n",
              "      fill: #1967D2;\n",
              "      height: 32px;\n",
              "      padding: 0 0 0 0;\n",
              "      width: 32px;\n",
              "    }\n",
              "\n",
              "    .colab-df-convert:hover {\n",
              "      background-color: #E2EBFA;\n",
              "      box-shadow: 0px 1px 2px rgba(60, 64, 67, 0.3), 0px 1px 3px 1px rgba(60, 64, 67, 0.15);\n",
              "      fill: #174EA6;\n",
              "    }\n",
              "\n",
              "    [theme=dark] .colab-df-convert {\n",
              "      background-color: #3B4455;\n",
              "      fill: #D2E3FC;\n",
              "    }\n",
              "\n",
              "    [theme=dark] .colab-df-convert:hover {\n",
              "      background-color: #434B5C;\n",
              "      box-shadow: 0px 1px 3px 1px rgba(0, 0, 0, 0.15);\n",
              "      filter: drop-shadow(0px 1px 2px rgba(0, 0, 0, 0.3));\n",
              "      fill: #FFFFFF;\n",
              "    }\n",
              "  </style>\n",
              "\n",
              "      <script>\n",
              "        const buttonEl =\n",
              "          document.querySelector('#df-14f65808-c987-46cc-8944-37f903700985 button.colab-df-convert');\n",
              "        buttonEl.style.display =\n",
              "          google.colab.kernel.accessAllowed ? 'block' : 'none';\n",
              "\n",
              "        async function convertToInteractive(key) {\n",
              "          const element = document.querySelector('#df-14f65808-c987-46cc-8944-37f903700985');\n",
              "          const dataTable =\n",
              "            await google.colab.kernel.invokeFunction('convertToInteractive',\n",
              "                                                     [key], {});\n",
              "          if (!dataTable) return;\n",
              "\n",
              "          const docLinkHtml = 'Like what you see? Visit the ' +\n",
              "            '<a target=\"_blank\" href=https://colab.research.google.com/notebooks/data_table.ipynb>data table notebook</a>'\n",
              "            + ' to learn more about interactive tables.';\n",
              "          element.innerHTML = '';\n",
              "          dataTable['output_type'] = 'display_data';\n",
              "          await google.colab.output.renderOutput(dataTable, element);\n",
              "          const docLink = document.createElement('div');\n",
              "          docLink.innerHTML = docLinkHtml;\n",
              "          element.appendChild(docLink);\n",
              "        }\n",
              "      </script>\n",
              "    </div>\n",
              "  </div>\n",
              "  "
            ]
          },
          "metadata": {},
          "execution_count": 39
        }
      ]
    },
    {
      "cell_type": "code",
      "source": [
        "# build fill pipeline\n",
        "full_pipeline = ColumnTransformer([\n",
        "    (\"num\", num_pipeline, numerical_features),\n",
        "    (\"cat\", OneHotEncoder(categories = \"auto\", handle_unknown = \"ignore\", sparse_output = False), OHE),\n",
        "])"
      ],
      "metadata": {
        "id": "Y5vJlGoxf9QW"
      },
      "execution_count": 40,
      "outputs": []
    },
    {
      "cell_type": "code",
      "source": [
        "# transform training data\n",
        "train_prepared = full_pipeline.fit_transform(imputed_train_dropped)\n",
        "print(train_prepared.shape)"
      ],
      "metadata": {
        "colab": {
          "base_uri": "https://localhost:8080/",
          "height": 0
        },
        "id": "ossfCgEAR2Hb",
        "outputId": "4e13dab2-8a09-4c73-eddd-fe2cb8a8d018"
      },
      "execution_count": 41,
      "outputs": [
        {
          "output_type": "stream",
          "name": "stdout",
          "text": [
            "(50213, 112)\n"
          ]
        }
      ]
    },
    {
      "cell_type": "code",
      "source": [
        "# transform testing data\n",
        "test_prepared = full_pipeline.fit_transform(imputed_test_dropped)\n",
        "print(test_prepared.shape)"
      ],
      "metadata": {
        "colab": {
          "base_uri": "https://localhost:8080/",
          "height": 0
        },
        "id": "kDhsHpidR5Jq",
        "outputId": "61f07ac2-876a-4fd5-b3cc-90dee561c0b6"
      },
      "execution_count": 42,
      "outputs": [
        {
          "output_type": "stream",
          "name": "stdout",
          "text": [
            "(10856, 87)\n"
          ]
        }
      ]
    },
    {
      "cell_type": "code",
      "source": [
        "# as fit_transform outputs an np.array, we aim to convert to a df\n",
        "\n",
        "# for training data\n",
        "\n",
        "# we aim to retrieve column names\n",
        "ohe_encoder = OneHotEncoder(categories = \"auto\", handle_unknown = \"ignore\", sparse_output = False)\n",
        "X_object = (imputed_train_dropped.drop([\"cap-diameter\",\"stem-height\",\"stem-width\"], axis = 1))\n",
        "ohe_encoder.fit(X_object)\n",
        "\n",
        "# features that will be introduced through One Hot Encoding\n",
        "feature_names_ohe = ohe_encoder.get_feature_names_out(OHE)\n",
        "feature_names_ohe\n",
        "\n",
        "# convert the np.array to df (this df will not have column names)\n",
        "train_prepared_df = pd.DataFrame(train_prepared)\n",
        "\n",
        "# combine numerical features and features that were OHE\n",
        "features_df = numerical_features + list(feature_names_ohe)\n",
        "features_df\n",
        "\n",
        "# rename df\n",
        "train_prepared_df.set_axis(features_df, axis = 1, inplace = True)\n",
        "\n",
        "train_prepared_df.head()"
      ],
      "metadata": {
        "colab": {
          "base_uri": "https://localhost:8080/",
          "height": 235
        },
        "id": "5Dn9fMOzYz1D",
        "outputId": "68f24dc8-f61f-4d4a-b7e2-8f910d8558e8"
      },
      "execution_count": 43,
      "outputs": [
        {
          "output_type": "execute_result",
          "data": {
            "text/plain": [
              "   cap-diameter  stem-height  stem-width  cap-shape_b  cap-shape_c  \\\n",
              "0      1.984546     3.212433    0.816899          0.0          0.0   \n",
              "1      2.279537     3.535246    0.958927          0.0          0.0   \n",
              "2      1.722576     3.476271    0.900825          0.0          0.0   \n",
              "3      1.744590     2.846165    0.673579          0.0          0.0   \n",
              "4      1.848058     3.082067    0.831101          0.0          0.0   \n",
              "\n",
              "   cap-shape_f  cap-shape_o  cap-shape_p  cap-shape_s  cap-shape_x  ...  \\\n",
              "0          0.0          0.0          0.0          0.0          1.0  ...   \n",
              "1          0.0          0.0          0.0          0.0          1.0  ...   \n",
              "2          0.0          0.0          0.0          0.0          1.0  ...   \n",
              "3          1.0          0.0          0.0          0.0          0.0  ...   \n",
              "4          0.0          0.0          0.0          0.0          1.0  ...   \n",
              "\n",
              "   habitat_h  habitat_l  habitat_m  habitat_p  habitat_u  habitat_w  season_a  \\\n",
              "0        0.0        0.0        0.0        0.0        0.0        0.0       0.0   \n",
              "1        0.0        0.0        0.0        0.0        0.0        0.0       0.0   \n",
              "2        0.0        0.0        0.0        0.0        0.0        0.0       0.0   \n",
              "3        0.0        0.0        0.0        0.0        0.0        0.0       0.0   \n",
              "4        0.0        0.0        0.0        0.0        0.0        0.0       0.0   \n",
              "\n",
              "   season_s  season_u  season_w  \n",
              "0       0.0       0.0       1.0  \n",
              "1       0.0       1.0       0.0  \n",
              "2       0.0       0.0       1.0  \n",
              "3       0.0       0.0       1.0  \n",
              "4       0.0       0.0       1.0  \n",
              "\n",
              "[5 rows x 112 columns]"
            ],
            "text/html": [
              "\n",
              "  <div id=\"df-ed822642-654c-4b04-b0c5-7c4de6e6605e\">\n",
              "    <div class=\"colab-df-container\">\n",
              "      <div>\n",
              "<style scoped>\n",
              "    .dataframe tbody tr th:only-of-type {\n",
              "        vertical-align: middle;\n",
              "    }\n",
              "\n",
              "    .dataframe tbody tr th {\n",
              "        vertical-align: top;\n",
              "    }\n",
              "\n",
              "    .dataframe thead th {\n",
              "        text-align: right;\n",
              "    }\n",
              "</style>\n",
              "<table border=\"1\" class=\"dataframe\">\n",
              "  <thead>\n",
              "    <tr style=\"text-align: right;\">\n",
              "      <th></th>\n",
              "      <th>cap-diameter</th>\n",
              "      <th>stem-height</th>\n",
              "      <th>stem-width</th>\n",
              "      <th>cap-shape_b</th>\n",
              "      <th>cap-shape_c</th>\n",
              "      <th>cap-shape_f</th>\n",
              "      <th>cap-shape_o</th>\n",
              "      <th>cap-shape_p</th>\n",
              "      <th>cap-shape_s</th>\n",
              "      <th>cap-shape_x</th>\n",
              "      <th>...</th>\n",
              "      <th>habitat_h</th>\n",
              "      <th>habitat_l</th>\n",
              "      <th>habitat_m</th>\n",
              "      <th>habitat_p</th>\n",
              "      <th>habitat_u</th>\n",
              "      <th>habitat_w</th>\n",
              "      <th>season_a</th>\n",
              "      <th>season_s</th>\n",
              "      <th>season_u</th>\n",
              "      <th>season_w</th>\n",
              "    </tr>\n",
              "  </thead>\n",
              "  <tbody>\n",
              "    <tr>\n",
              "      <th>0</th>\n",
              "      <td>1.984546</td>\n",
              "      <td>3.212433</td>\n",
              "      <td>0.816899</td>\n",
              "      <td>0.0</td>\n",
              "      <td>0.0</td>\n",
              "      <td>0.0</td>\n",
              "      <td>0.0</td>\n",
              "      <td>0.0</td>\n",
              "      <td>0.0</td>\n",
              "      <td>1.0</td>\n",
              "      <td>...</td>\n",
              "      <td>0.0</td>\n",
              "      <td>0.0</td>\n",
              "      <td>0.0</td>\n",
              "      <td>0.0</td>\n",
              "      <td>0.0</td>\n",
              "      <td>0.0</td>\n",
              "      <td>0.0</td>\n",
              "      <td>0.0</td>\n",
              "      <td>0.0</td>\n",
              "      <td>1.0</td>\n",
              "    </tr>\n",
              "    <tr>\n",
              "      <th>1</th>\n",
              "      <td>2.279537</td>\n",
              "      <td>3.535246</td>\n",
              "      <td>0.958927</td>\n",
              "      <td>0.0</td>\n",
              "      <td>0.0</td>\n",
              "      <td>0.0</td>\n",
              "      <td>0.0</td>\n",
              "      <td>0.0</td>\n",
              "      <td>0.0</td>\n",
              "      <td>1.0</td>\n",
              "      <td>...</td>\n",
              "      <td>0.0</td>\n",
              "      <td>0.0</td>\n",
              "      <td>0.0</td>\n",
              "      <td>0.0</td>\n",
              "      <td>0.0</td>\n",
              "      <td>0.0</td>\n",
              "      <td>0.0</td>\n",
              "      <td>0.0</td>\n",
              "      <td>1.0</td>\n",
              "      <td>0.0</td>\n",
              "    </tr>\n",
              "    <tr>\n",
              "      <th>2</th>\n",
              "      <td>1.722576</td>\n",
              "      <td>3.476271</td>\n",
              "      <td>0.900825</td>\n",
              "      <td>0.0</td>\n",
              "      <td>0.0</td>\n",
              "      <td>0.0</td>\n",
              "      <td>0.0</td>\n",
              "      <td>0.0</td>\n",
              "      <td>0.0</td>\n",
              "      <td>1.0</td>\n",
              "      <td>...</td>\n",
              "      <td>0.0</td>\n",
              "      <td>0.0</td>\n",
              "      <td>0.0</td>\n",
              "      <td>0.0</td>\n",
              "      <td>0.0</td>\n",
              "      <td>0.0</td>\n",
              "      <td>0.0</td>\n",
              "      <td>0.0</td>\n",
              "      <td>0.0</td>\n",
              "      <td>1.0</td>\n",
              "    </tr>\n",
              "    <tr>\n",
              "      <th>3</th>\n",
              "      <td>1.744590</td>\n",
              "      <td>2.846165</td>\n",
              "      <td>0.673579</td>\n",
              "      <td>0.0</td>\n",
              "      <td>0.0</td>\n",
              "      <td>1.0</td>\n",
              "      <td>0.0</td>\n",
              "      <td>0.0</td>\n",
              "      <td>0.0</td>\n",
              "      <td>0.0</td>\n",
              "      <td>...</td>\n",
              "      <td>0.0</td>\n",
              "      <td>0.0</td>\n",
              "      <td>0.0</td>\n",
              "      <td>0.0</td>\n",
              "      <td>0.0</td>\n",
              "      <td>0.0</td>\n",
              "      <td>0.0</td>\n",
              "      <td>0.0</td>\n",
              "      <td>0.0</td>\n",
              "      <td>1.0</td>\n",
              "    </tr>\n",
              "    <tr>\n",
              "      <th>4</th>\n",
              "      <td>1.848058</td>\n",
              "      <td>3.082067</td>\n",
              "      <td>0.831101</td>\n",
              "      <td>0.0</td>\n",
              "      <td>0.0</td>\n",
              "      <td>0.0</td>\n",
              "      <td>0.0</td>\n",
              "      <td>0.0</td>\n",
              "      <td>0.0</td>\n",
              "      <td>1.0</td>\n",
              "      <td>...</td>\n",
              "      <td>0.0</td>\n",
              "      <td>0.0</td>\n",
              "      <td>0.0</td>\n",
              "      <td>0.0</td>\n",
              "      <td>0.0</td>\n",
              "      <td>0.0</td>\n",
              "      <td>0.0</td>\n",
              "      <td>0.0</td>\n",
              "      <td>0.0</td>\n",
              "      <td>1.0</td>\n",
              "    </tr>\n",
              "  </tbody>\n",
              "</table>\n",
              "<p>5 rows × 112 columns</p>\n",
              "</div>\n",
              "      <button class=\"colab-df-convert\" onclick=\"convertToInteractive('df-ed822642-654c-4b04-b0c5-7c4de6e6605e')\"\n",
              "              title=\"Convert this dataframe to an interactive table.\"\n",
              "              style=\"display:none;\">\n",
              "        \n",
              "  <svg xmlns=\"http://www.w3.org/2000/svg\" height=\"24px\"viewBox=\"0 0 24 24\"\n",
              "       width=\"24px\">\n",
              "    <path d=\"M0 0h24v24H0V0z\" fill=\"none\"/>\n",
              "    <path d=\"M18.56 5.44l.94 2.06.94-2.06 2.06-.94-2.06-.94-.94-2.06-.94 2.06-2.06.94zm-11 1L8.5 8.5l.94-2.06 2.06-.94-2.06-.94L8.5 2.5l-.94 2.06-2.06.94zm10 10l.94 2.06.94-2.06 2.06-.94-2.06-.94-.94-2.06-.94 2.06-2.06.94z\"/><path d=\"M17.41 7.96l-1.37-1.37c-.4-.4-.92-.59-1.43-.59-.52 0-1.04.2-1.43.59L10.3 9.45l-7.72 7.72c-.78.78-.78 2.05 0 2.83L4 21.41c.39.39.9.59 1.41.59.51 0 1.02-.2 1.41-.59l7.78-7.78 2.81-2.81c.8-.78.8-2.07 0-2.86zM5.41 20L4 18.59l7.72-7.72 1.47 1.35L5.41 20z\"/>\n",
              "  </svg>\n",
              "      </button>\n",
              "      \n",
              "  <style>\n",
              "    .colab-df-container {\n",
              "      display:flex;\n",
              "      flex-wrap:wrap;\n",
              "      gap: 12px;\n",
              "    }\n",
              "\n",
              "    .colab-df-convert {\n",
              "      background-color: #E8F0FE;\n",
              "      border: none;\n",
              "      border-radius: 50%;\n",
              "      cursor: pointer;\n",
              "      display: none;\n",
              "      fill: #1967D2;\n",
              "      height: 32px;\n",
              "      padding: 0 0 0 0;\n",
              "      width: 32px;\n",
              "    }\n",
              "\n",
              "    .colab-df-convert:hover {\n",
              "      background-color: #E2EBFA;\n",
              "      box-shadow: 0px 1px 2px rgba(60, 64, 67, 0.3), 0px 1px 3px 1px rgba(60, 64, 67, 0.15);\n",
              "      fill: #174EA6;\n",
              "    }\n",
              "\n",
              "    [theme=dark] .colab-df-convert {\n",
              "      background-color: #3B4455;\n",
              "      fill: #D2E3FC;\n",
              "    }\n",
              "\n",
              "    [theme=dark] .colab-df-convert:hover {\n",
              "      background-color: #434B5C;\n",
              "      box-shadow: 0px 1px 3px 1px rgba(0, 0, 0, 0.15);\n",
              "      filter: drop-shadow(0px 1px 2px rgba(0, 0, 0, 0.3));\n",
              "      fill: #FFFFFF;\n",
              "    }\n",
              "  </style>\n",
              "\n",
              "      <script>\n",
              "        const buttonEl =\n",
              "          document.querySelector('#df-ed822642-654c-4b04-b0c5-7c4de6e6605e button.colab-df-convert');\n",
              "        buttonEl.style.display =\n",
              "          google.colab.kernel.accessAllowed ? 'block' : 'none';\n",
              "\n",
              "        async function convertToInteractive(key) {\n",
              "          const element = document.querySelector('#df-ed822642-654c-4b04-b0c5-7c4de6e6605e');\n",
              "          const dataTable =\n",
              "            await google.colab.kernel.invokeFunction('convertToInteractive',\n",
              "                                                     [key], {});\n",
              "          if (!dataTable) return;\n",
              "\n",
              "          const docLinkHtml = 'Like what you see? Visit the ' +\n",
              "            '<a target=\"_blank\" href=https://colab.research.google.com/notebooks/data_table.ipynb>data table notebook</a>'\n",
              "            + ' to learn more about interactive tables.';\n",
              "          element.innerHTML = '';\n",
              "          dataTable['output_type'] = 'display_data';\n",
              "          await google.colab.output.renderOutput(dataTable, element);\n",
              "          const docLink = document.createElement('div');\n",
              "          docLink.innerHTML = docLinkHtml;\n",
              "          element.appendChild(docLink);\n",
              "        }\n",
              "      </script>\n",
              "    </div>\n",
              "  </div>\n",
              "  "
            ]
          },
          "metadata": {},
          "execution_count": 43
        }
      ]
    },
    {
      "cell_type": "code",
      "source": [
        "# for testing data\n",
        "\n",
        "# we aim to retrieve column names\n",
        "ohe_encoder = OneHotEncoder(categories = \"auto\", handle_unknown = \"ignore\", sparse_output = False)\n",
        "X_object = (imputed_test_dropped.drop([\"cap-diameter\",\"stem-height\",\"stem-width\"], axis = 1))\n",
        "ohe_encoder.fit(X_object)\n",
        "\n",
        "# features that will be introduced through One Hot Encoding\n",
        "feature_names_ohe = ohe_encoder.get_feature_names_out(OHE)\n",
        "feature_names_ohe\n",
        "\n",
        "# convert the np.array to df (this df will not have column names)\n",
        "test_prepared_df = pd.DataFrame(test_prepared)\n",
        "\n",
        "# combine numerical features and features that were OHE\n",
        "features_df = numerical_features + list(feature_names_ohe)\n",
        "features_df\n",
        "\n",
        "# rename df\n",
        "test_prepared_df.set_axis(features_df, axis = 1, inplace = True)\n",
        "\n",
        "test_prepared_df.head()"
      ],
      "metadata": {
        "colab": {
          "base_uri": "https://localhost:8080/",
          "height": 297
        },
        "id": "yzFEAzi3pnfe",
        "outputId": "232d1ec3-2b63-45c7-c75e-5a170cc17de0"
      },
      "execution_count": 44,
      "outputs": [
        {
          "output_type": "execute_result",
          "data": {
            "text/plain": [
              "   cap-diameter  stem-height  stem-width  cap-shape_b  cap-shape_f  \\\n",
              "0     -0.881539     0.483594   -1.041207          1.0          0.0   \n",
              "1     -0.804165     0.187381   -1.044440          1.0          0.0   \n",
              "2     -0.772944     0.935446   -1.036680          1.0          0.0   \n",
              "3     -0.747152     1.131248   -1.018573          1.0          0.0   \n",
              "4     -0.842173     0.119603   -1.047027          1.0          0.0   \n",
              "\n",
              "   cap-shape_o  cap-shape_p  cap-shape_s  cap-shape_x  cap-surface_d  ...  \\\n",
              "0          0.0          0.0          0.0          0.0            0.0  ...   \n",
              "1          0.0          0.0          0.0          0.0            0.0  ...   \n",
              "2          0.0          0.0          0.0          0.0            0.0  ...   \n",
              "3          0.0          0.0          0.0          0.0            0.0  ...   \n",
              "4          0.0          0.0          0.0          0.0            0.0  ...   \n",
              "\n",
              "   spore-print-color_p  spore-print-color_w  habitat_d  habitat_g  habitat_h  \\\n",
              "0                  0.0                  0.0        0.0        1.0        0.0   \n",
              "1                  0.0                  0.0        0.0        1.0        0.0   \n",
              "2                  0.0                  0.0        0.0        1.0        0.0   \n",
              "3                  0.0                  0.0        0.0        1.0        0.0   \n",
              "4                  0.0                  0.0        0.0        1.0        0.0   \n",
              "\n",
              "   habitat_l  season_a  season_s  season_u  season_w  \n",
              "0        0.0       0.0       0.0       1.0       0.0  \n",
              "1        0.0       1.0       0.0       0.0       0.0  \n",
              "2        0.0       0.0       0.0       1.0       0.0  \n",
              "3        0.0       1.0       0.0       0.0       0.0  \n",
              "4        0.0       0.0       0.0       1.0       0.0  \n",
              "\n",
              "[5 rows x 87 columns]"
            ],
            "text/html": [
              "\n",
              "  <div id=\"df-dc86fb7c-39bb-46ce-80ef-7e894c1ea99e\">\n",
              "    <div class=\"colab-df-container\">\n",
              "      <div>\n",
              "<style scoped>\n",
              "    .dataframe tbody tr th:only-of-type {\n",
              "        vertical-align: middle;\n",
              "    }\n",
              "\n",
              "    .dataframe tbody tr th {\n",
              "        vertical-align: top;\n",
              "    }\n",
              "\n",
              "    .dataframe thead th {\n",
              "        text-align: right;\n",
              "    }\n",
              "</style>\n",
              "<table border=\"1\" class=\"dataframe\">\n",
              "  <thead>\n",
              "    <tr style=\"text-align: right;\">\n",
              "      <th></th>\n",
              "      <th>cap-diameter</th>\n",
              "      <th>stem-height</th>\n",
              "      <th>stem-width</th>\n",
              "      <th>cap-shape_b</th>\n",
              "      <th>cap-shape_f</th>\n",
              "      <th>cap-shape_o</th>\n",
              "      <th>cap-shape_p</th>\n",
              "      <th>cap-shape_s</th>\n",
              "      <th>cap-shape_x</th>\n",
              "      <th>cap-surface_d</th>\n",
              "      <th>...</th>\n",
              "      <th>spore-print-color_p</th>\n",
              "      <th>spore-print-color_w</th>\n",
              "      <th>habitat_d</th>\n",
              "      <th>habitat_g</th>\n",
              "      <th>habitat_h</th>\n",
              "      <th>habitat_l</th>\n",
              "      <th>season_a</th>\n",
              "      <th>season_s</th>\n",
              "      <th>season_u</th>\n",
              "      <th>season_w</th>\n",
              "    </tr>\n",
              "  </thead>\n",
              "  <tbody>\n",
              "    <tr>\n",
              "      <th>0</th>\n",
              "      <td>-0.881539</td>\n",
              "      <td>0.483594</td>\n",
              "      <td>-1.041207</td>\n",
              "      <td>1.0</td>\n",
              "      <td>0.0</td>\n",
              "      <td>0.0</td>\n",
              "      <td>0.0</td>\n",
              "      <td>0.0</td>\n",
              "      <td>0.0</td>\n",
              "      <td>0.0</td>\n",
              "      <td>...</td>\n",
              "      <td>0.0</td>\n",
              "      <td>0.0</td>\n",
              "      <td>0.0</td>\n",
              "      <td>1.0</td>\n",
              "      <td>0.0</td>\n",
              "      <td>0.0</td>\n",
              "      <td>0.0</td>\n",
              "      <td>0.0</td>\n",
              "      <td>1.0</td>\n",
              "      <td>0.0</td>\n",
              "    </tr>\n",
              "    <tr>\n",
              "      <th>1</th>\n",
              "      <td>-0.804165</td>\n",
              "      <td>0.187381</td>\n",
              "      <td>-1.044440</td>\n",
              "      <td>1.0</td>\n",
              "      <td>0.0</td>\n",
              "      <td>0.0</td>\n",
              "      <td>0.0</td>\n",
              "      <td>0.0</td>\n",
              "      <td>0.0</td>\n",
              "      <td>0.0</td>\n",
              "      <td>...</td>\n",
              "      <td>0.0</td>\n",
              "      <td>0.0</td>\n",
              "      <td>0.0</td>\n",
              "      <td>1.0</td>\n",
              "      <td>0.0</td>\n",
              "      <td>0.0</td>\n",
              "      <td>1.0</td>\n",
              "      <td>0.0</td>\n",
              "      <td>0.0</td>\n",
              "      <td>0.0</td>\n",
              "    </tr>\n",
              "    <tr>\n",
              "      <th>2</th>\n",
              "      <td>-0.772944</td>\n",
              "      <td>0.935446</td>\n",
              "      <td>-1.036680</td>\n",
              "      <td>1.0</td>\n",
              "      <td>0.0</td>\n",
              "      <td>0.0</td>\n",
              "      <td>0.0</td>\n",
              "      <td>0.0</td>\n",
              "      <td>0.0</td>\n",
              "      <td>0.0</td>\n",
              "      <td>...</td>\n",
              "      <td>0.0</td>\n",
              "      <td>0.0</td>\n",
              "      <td>0.0</td>\n",
              "      <td>1.0</td>\n",
              "      <td>0.0</td>\n",
              "      <td>0.0</td>\n",
              "      <td>0.0</td>\n",
              "      <td>0.0</td>\n",
              "      <td>1.0</td>\n",
              "      <td>0.0</td>\n",
              "    </tr>\n",
              "    <tr>\n",
              "      <th>3</th>\n",
              "      <td>-0.747152</td>\n",
              "      <td>1.131248</td>\n",
              "      <td>-1.018573</td>\n",
              "      <td>1.0</td>\n",
              "      <td>0.0</td>\n",
              "      <td>0.0</td>\n",
              "      <td>0.0</td>\n",
              "      <td>0.0</td>\n",
              "      <td>0.0</td>\n",
              "      <td>0.0</td>\n",
              "      <td>...</td>\n",
              "      <td>0.0</td>\n",
              "      <td>0.0</td>\n",
              "      <td>0.0</td>\n",
              "      <td>1.0</td>\n",
              "      <td>0.0</td>\n",
              "      <td>0.0</td>\n",
              "      <td>1.0</td>\n",
              "      <td>0.0</td>\n",
              "      <td>0.0</td>\n",
              "      <td>0.0</td>\n",
              "    </tr>\n",
              "    <tr>\n",
              "      <th>4</th>\n",
              "      <td>-0.842173</td>\n",
              "      <td>0.119603</td>\n",
              "      <td>-1.047027</td>\n",
              "      <td>1.0</td>\n",
              "      <td>0.0</td>\n",
              "      <td>0.0</td>\n",
              "      <td>0.0</td>\n",
              "      <td>0.0</td>\n",
              "      <td>0.0</td>\n",
              "      <td>0.0</td>\n",
              "      <td>...</td>\n",
              "      <td>0.0</td>\n",
              "      <td>0.0</td>\n",
              "      <td>0.0</td>\n",
              "      <td>1.0</td>\n",
              "      <td>0.0</td>\n",
              "      <td>0.0</td>\n",
              "      <td>0.0</td>\n",
              "      <td>0.0</td>\n",
              "      <td>1.0</td>\n",
              "      <td>0.0</td>\n",
              "    </tr>\n",
              "  </tbody>\n",
              "</table>\n",
              "<p>5 rows × 87 columns</p>\n",
              "</div>\n",
              "      <button class=\"colab-df-convert\" onclick=\"convertToInteractive('df-dc86fb7c-39bb-46ce-80ef-7e894c1ea99e')\"\n",
              "              title=\"Convert this dataframe to an interactive table.\"\n",
              "              style=\"display:none;\">\n",
              "        \n",
              "  <svg xmlns=\"http://www.w3.org/2000/svg\" height=\"24px\"viewBox=\"0 0 24 24\"\n",
              "       width=\"24px\">\n",
              "    <path d=\"M0 0h24v24H0V0z\" fill=\"none\"/>\n",
              "    <path d=\"M18.56 5.44l.94 2.06.94-2.06 2.06-.94-2.06-.94-.94-2.06-.94 2.06-2.06.94zm-11 1L8.5 8.5l.94-2.06 2.06-.94-2.06-.94L8.5 2.5l-.94 2.06-2.06.94zm10 10l.94 2.06.94-2.06 2.06-.94-2.06-.94-.94-2.06-.94 2.06-2.06.94z\"/><path d=\"M17.41 7.96l-1.37-1.37c-.4-.4-.92-.59-1.43-.59-.52 0-1.04.2-1.43.59L10.3 9.45l-7.72 7.72c-.78.78-.78 2.05 0 2.83L4 21.41c.39.39.9.59 1.41.59.51 0 1.02-.2 1.41-.59l7.78-7.78 2.81-2.81c.8-.78.8-2.07 0-2.86zM5.41 20L4 18.59l7.72-7.72 1.47 1.35L5.41 20z\"/>\n",
              "  </svg>\n",
              "      </button>\n",
              "      \n",
              "  <style>\n",
              "    .colab-df-container {\n",
              "      display:flex;\n",
              "      flex-wrap:wrap;\n",
              "      gap: 12px;\n",
              "    }\n",
              "\n",
              "    .colab-df-convert {\n",
              "      background-color: #E8F0FE;\n",
              "      border: none;\n",
              "      border-radius: 50%;\n",
              "      cursor: pointer;\n",
              "      display: none;\n",
              "      fill: #1967D2;\n",
              "      height: 32px;\n",
              "      padding: 0 0 0 0;\n",
              "      width: 32px;\n",
              "    }\n",
              "\n",
              "    .colab-df-convert:hover {\n",
              "      background-color: #E2EBFA;\n",
              "      box-shadow: 0px 1px 2px rgba(60, 64, 67, 0.3), 0px 1px 3px 1px rgba(60, 64, 67, 0.15);\n",
              "      fill: #174EA6;\n",
              "    }\n",
              "\n",
              "    [theme=dark] .colab-df-convert {\n",
              "      background-color: #3B4455;\n",
              "      fill: #D2E3FC;\n",
              "    }\n",
              "\n",
              "    [theme=dark] .colab-df-convert:hover {\n",
              "      background-color: #434B5C;\n",
              "      box-shadow: 0px 1px 3px 1px rgba(0, 0, 0, 0.15);\n",
              "      filter: drop-shadow(0px 1px 2px rgba(0, 0, 0, 0.3));\n",
              "      fill: #FFFFFF;\n",
              "    }\n",
              "  </style>\n",
              "\n",
              "      <script>\n",
              "        const buttonEl =\n",
              "          document.querySelector('#df-dc86fb7c-39bb-46ce-80ef-7e894c1ea99e button.colab-df-convert');\n",
              "        buttonEl.style.display =\n",
              "          google.colab.kernel.accessAllowed ? 'block' : 'none';\n",
              "\n",
              "        async function convertToInteractive(key) {\n",
              "          const element = document.querySelector('#df-dc86fb7c-39bb-46ce-80ef-7e894c1ea99e');\n",
              "          const dataTable =\n",
              "            await google.colab.kernel.invokeFunction('convertToInteractive',\n",
              "                                                     [key], {});\n",
              "          if (!dataTable) return;\n",
              "\n",
              "          const docLinkHtml = 'Like what you see? Visit the ' +\n",
              "            '<a target=\"_blank\" href=https://colab.research.google.com/notebooks/data_table.ipynb>data table notebook</a>'\n",
              "            + ' to learn more about interactive tables.';\n",
              "          element.innerHTML = '';\n",
              "          dataTable['output_type'] = 'display_data';\n",
              "          await google.colab.output.renderOutput(dataTable, element);\n",
              "          const docLink = document.createElement('div');\n",
              "          docLink.innerHTML = docLinkHtml;\n",
              "          element.appendChild(docLink);\n",
              "        }\n",
              "      </script>\n",
              "    </div>\n",
              "  </div>\n",
              "  "
            ]
          },
          "metadata": {},
          "execution_count": 44
        }
      ]
    },
    {
      "cell_type": "markdown",
      "source": [
        "# 5. Data Augmentation (Creating at least 2 New Features)"
      ],
      "metadata": {
        "id": "ZXY_GJc6ASh3"
      }
    },
    {
      "cell_type": "markdown",
      "source": [
        "#### \"stem_vol\" Predictor"
      ],
      "metadata": {
        "id": "yxJXEDt1qcR4"
      }
    },
    {
      "cell_type": "code",
      "source": [
        "# use volume of stem as a new predictor\n",
        "stem_vol_train = train_prepared_df[\"stem-height\"]*train_prepared_df[\"stem-width\"] # training data\n",
        "stem_vol_train"
      ],
      "metadata": {
        "id": "1_FXGszIemzz",
        "colab": {
          "base_uri": "https://localhost:8080/",
          "height": 0
        },
        "outputId": "b5b2595f-2021-4b0b-e3f0-636b6b87e5c2"
      },
      "execution_count": 45,
      "outputs": [
        {
          "output_type": "execute_result",
          "data": {
            "text/plain": [
              "0        2.624232\n",
              "1        3.390044\n",
              "2        3.131510\n",
              "3        1.917116\n",
              "4        2.561510\n",
              "           ...   \n",
              "50208    0.486255\n",
              "50209    0.731114\n",
              "50210    0.482526\n",
              "50211    0.648674\n",
              "50212    0.713467\n",
              "Length: 50213, dtype: float64"
            ]
          },
          "metadata": {},
          "execution_count": 45
        }
      ]
    },
    {
      "cell_type": "code",
      "source": [
        "# adding feature to the prepared training dataframe\n",
        "train_prepared_df[\"stem_vol\"] = stem_vol_train "
      ],
      "metadata": {
        "id": "kDa6bQxaA90e"
      },
      "execution_count": 46,
      "outputs": []
    },
    {
      "cell_type": "code",
      "source": [
        "# do the same for testing data\n",
        "stem_vol_test = test_prepared_df[\"stem-height\"]*test_prepared_df[\"stem-width\"]\n",
        "stem_vol_test"
      ],
      "metadata": {
        "colab": {
          "base_uri": "https://localhost:8080/",
          "height": 0
        },
        "id": "_GdV4tCUrB9I",
        "outputId": "f5a4537b-e47e-4012-99d3-10b7a409e66a"
      },
      "execution_count": 47,
      "outputs": [
        {
          "output_type": "execute_result",
          "data": {
            "text/plain": [
              "0       -0.503522\n",
              "1       -0.195708\n",
              "2       -0.969758\n",
              "3       -1.152259\n",
              "4       -0.125227\n",
              "           ...   \n",
              "10851   -0.107316\n",
              "10852    0.010280\n",
              "10853   -0.008035\n",
              "10854    0.175111\n",
              "10855    0.003538\n",
              "Length: 10856, dtype: float64"
            ]
          },
          "metadata": {},
          "execution_count": 47
        }
      ]
    },
    {
      "cell_type": "code",
      "source": [
        "# adding feature to the prepared testing dataframe\n",
        "test_prepared_df[\"stem_vol\"] = stem_vol_test"
      ],
      "metadata": {
        "id": "H71BJPNyrT_W"
      },
      "execution_count": 48,
      "outputs": []
    },
    {
      "cell_type": "markdown",
      "source": [
        "#### \"diam_stem_ratio\" Predictor"
      ],
      "metadata": {
        "id": "cd0NVtGgrgxu"
      }
    },
    {
      "cell_type": "code",
      "source": [
        "# ratio between cap-diameter and stem-width\n",
        "\n",
        "diam_stem_ratio_train = train_prepared_df[\"cap-diameter\"]/train_prepared_df[\"stem-width\"] # training data\n",
        "diam_stem_ratio_train"
      ],
      "metadata": {
        "colab": {
          "base_uri": "https://localhost:8080/",
          "height": 0
        },
        "id": "yaIvG4-o9UqX",
        "outputId": "8ddf418b-acce-4a60-bc4e-696be0b1bb1e"
      },
      "execution_count": 49,
      "outputs": [
        {
          "output_type": "execute_result",
          "data": {
            "text/plain": [
              "0        2.429367\n",
              "1        2.377175\n",
              "2        1.912222\n",
              "3        2.590032\n",
              "4        2.223625\n",
              "           ...   \n",
              "50208    1.900883\n",
              "50209    1.590535\n",
              "50210    1.930858\n",
              "50211    1.603132\n",
              "50212    1.628612\n",
              "Length: 50213, dtype: float64"
            ]
          },
          "metadata": {},
          "execution_count": 49
        }
      ]
    },
    {
      "cell_type": "code",
      "source": [
        "# adding feature to the prepared training dataframe\n",
        "train_prepared_df[\"diam_stem_ratio\"] = diam_stem_ratio_train"
      ],
      "metadata": {
        "id": "T2Tuw4F_BD65"
      },
      "execution_count": 50,
      "outputs": []
    },
    {
      "cell_type": "code",
      "source": [
        "# do the same for testing data\n",
        "\n",
        "diam_stem_ratio_test = test_prepared_df[\"cap-diameter\"]/test_prepared_df[\"stem-width\"]\n",
        "diam_stem_ratio_test"
      ],
      "metadata": {
        "colab": {
          "base_uri": "https://localhost:8080/",
          "height": 0
        },
        "id": "FfmN7TiNsLl2",
        "outputId": "044f18d2-50a6-4fcc-8919-c5fae8c70227"
      },
      "execution_count": 51,
      "outputs": [
        {
          "output_type": "execute_result",
          "data": {
            "text/plain": [
              "0          0.846651\n",
              "1          0.769948\n",
              "2          0.745595\n",
              "3          0.733528\n",
              "4          0.804348\n",
              "            ...    \n",
              "10851     14.110339\n",
              "10852     26.798266\n",
              "10853     11.037903\n",
              "10854      4.266704\n",
              "10855   -284.261085\n",
              "Length: 10856, dtype: float64"
            ]
          },
          "metadata": {},
          "execution_count": 51
        }
      ]
    },
    {
      "cell_type": "code",
      "source": [
        "# adding feature to the prepared testing dataframe\n",
        "test_prepared_df[\"diam_stem_ratio\"] = diam_stem_ratio_test"
      ],
      "metadata": {
        "id": "fUELnthAszqz"
      },
      "execution_count": 52,
      "outputs": []
    },
    {
      "cell_type": "markdown",
      "source": [
        "# 6.  Logistic Regression & Statistical Hypothesis Testing"
      ],
      "metadata": {
        "id": "h-J_WJ-06ZJN"
      }
    },
    {
      "cell_type": "markdown",
      "source": [
        "#### Logistic Regression"
      ],
      "metadata": {
        "id": "W0pF8Paqv9eV"
      }
    },
    {
      "cell_type": "code",
      "source": [
        "# splitting training data to have a validation set\n",
        "from sklearn.model_selection import train_test_split, cross_val_score, GridSearchCV\n",
        "X_train, X_test, Y_train, Y_test = train_test_split(train_prepared_df, label, test_size = 0.2)"
      ],
      "metadata": {
        "id": "pKU7zuUE_0X7"
      },
      "execution_count": 53,
      "outputs": []
    },
    {
      "cell_type": "code",
      "source": [
        "# fit logistic regression model\n",
        "from sklearn.linear_model import LogisticRegression\n",
        "log_model = LogisticRegression(random_state = 0, max_iter = 3000)\n",
        "log_model_fit = log_model.fit(X_train, Y_train)\n",
        "log_pred = log_model.predict(X_test)\n"
      ],
      "metadata": {
        "id": "J8gV_w00ADC3"
      },
      "execution_count": 54,
      "outputs": []
    },
    {
      "cell_type": "code",
      "source": [
        "# accuracy metrics of logistic regression model\n",
        "from sklearn import metrics\n",
        "\n",
        "# the accuracy of the model\n",
        "print(\"%-12s %f\" % ('Accuracy:', metrics.accuracy_score(log_pred, Y_test)))\n",
        "\n",
        "# the precision of the model\n",
        "print(\"%-12s %f\" % ('Precision:', metrics.precision_score(log_pred, Y_test)))\n",
        "\n",
        "# the recall score of the model\n",
        "print(\"%-12s %f\" % ('Recall Score:', metrics.recall_score(log_pred, Y_test)))\n",
        "\n",
        "# the F1 score of the model\n",
        "print(\"%-12s %f\" % ('F1 Score:', metrics.f1_score(log_pred, Y_test)))\n"
      ],
      "metadata": {
        "id": "8gZxu5_xeIpA",
        "colab": {
          "base_uri": "https://localhost:8080/",
          "height": 0
        },
        "outputId": "dc374077-9670-4334-ae57-7544ce2a02af"
      },
      "execution_count": 55,
      "outputs": [
        {
          "output_type": "stream",
          "name": "stdout",
          "text": [
            "Accuracy:    0.859803\n",
            "Precision:   0.875297\n",
            "Recall Score: 0.884892\n",
            "F1 Score:    0.880068\n"
          ]
        }
      ]
    },
    {
      "cell_type": "markdown",
      "source": [
        "#### Statistical Hypothesis Testing"
      ],
      "metadata": {
        "id": "VqosBep4vODI"
      }
    },
    {
      "cell_type": "code",
      "source": [
        "# the subset with 3 or more features\n",
        "# define the subset to be the first three columns or the numerical features\n",
        "train_prepared_df.iloc[:,0:3]"
      ],
      "metadata": {
        "colab": {
          "base_uri": "https://localhost:8080/",
          "height": 423
        },
        "id": "GesrEZDzAZrF",
        "outputId": "8b3d7d40-57bc-4e0f-8363-c30d4c27b32d"
      },
      "execution_count": 56,
      "outputs": [
        {
          "output_type": "execute_result",
          "data": {
            "text/plain": [
              "       cap-diameter  stem-height  stem-width\n",
              "0          1.984546     3.212433    0.816899\n",
              "1          2.279537     3.535246    0.958927\n",
              "2          1.722576     3.476271    0.900825\n",
              "3          1.744590     2.846165    0.673579\n",
              "4          1.848058     3.082067    0.831101\n",
              "...             ...          ...         ...\n",
              "50208     -1.115064    -0.828934   -0.586603\n",
              "50209     -1.095251    -1.061732   -0.688605\n",
              "50210     -1.095251    -0.850662   -0.567236\n",
              "50211     -1.101855    -0.943781   -0.687314\n",
              "50212     -1.117265    -1.040004   -0.686023\n",
              "\n",
              "[50213 rows x 3 columns]"
            ],
            "text/html": [
              "\n",
              "  <div id=\"df-2b305e62-f1ad-4574-9b00-0c14152c2b6e\">\n",
              "    <div class=\"colab-df-container\">\n",
              "      <div>\n",
              "<style scoped>\n",
              "    .dataframe tbody tr th:only-of-type {\n",
              "        vertical-align: middle;\n",
              "    }\n",
              "\n",
              "    .dataframe tbody tr th {\n",
              "        vertical-align: top;\n",
              "    }\n",
              "\n",
              "    .dataframe thead th {\n",
              "        text-align: right;\n",
              "    }\n",
              "</style>\n",
              "<table border=\"1\" class=\"dataframe\">\n",
              "  <thead>\n",
              "    <tr style=\"text-align: right;\">\n",
              "      <th></th>\n",
              "      <th>cap-diameter</th>\n",
              "      <th>stem-height</th>\n",
              "      <th>stem-width</th>\n",
              "    </tr>\n",
              "  </thead>\n",
              "  <tbody>\n",
              "    <tr>\n",
              "      <th>0</th>\n",
              "      <td>1.984546</td>\n",
              "      <td>3.212433</td>\n",
              "      <td>0.816899</td>\n",
              "    </tr>\n",
              "    <tr>\n",
              "      <th>1</th>\n",
              "      <td>2.279537</td>\n",
              "      <td>3.535246</td>\n",
              "      <td>0.958927</td>\n",
              "    </tr>\n",
              "    <tr>\n",
              "      <th>2</th>\n",
              "      <td>1.722576</td>\n",
              "      <td>3.476271</td>\n",
              "      <td>0.900825</td>\n",
              "    </tr>\n",
              "    <tr>\n",
              "      <th>3</th>\n",
              "      <td>1.744590</td>\n",
              "      <td>2.846165</td>\n",
              "      <td>0.673579</td>\n",
              "    </tr>\n",
              "    <tr>\n",
              "      <th>4</th>\n",
              "      <td>1.848058</td>\n",
              "      <td>3.082067</td>\n",
              "      <td>0.831101</td>\n",
              "    </tr>\n",
              "    <tr>\n",
              "      <th>...</th>\n",
              "      <td>...</td>\n",
              "      <td>...</td>\n",
              "      <td>...</td>\n",
              "    </tr>\n",
              "    <tr>\n",
              "      <th>50208</th>\n",
              "      <td>-1.115064</td>\n",
              "      <td>-0.828934</td>\n",
              "      <td>-0.586603</td>\n",
              "    </tr>\n",
              "    <tr>\n",
              "      <th>50209</th>\n",
              "      <td>-1.095251</td>\n",
              "      <td>-1.061732</td>\n",
              "      <td>-0.688605</td>\n",
              "    </tr>\n",
              "    <tr>\n",
              "      <th>50210</th>\n",
              "      <td>-1.095251</td>\n",
              "      <td>-0.850662</td>\n",
              "      <td>-0.567236</td>\n",
              "    </tr>\n",
              "    <tr>\n",
              "      <th>50211</th>\n",
              "      <td>-1.101855</td>\n",
              "      <td>-0.943781</td>\n",
              "      <td>-0.687314</td>\n",
              "    </tr>\n",
              "    <tr>\n",
              "      <th>50212</th>\n",
              "      <td>-1.117265</td>\n",
              "      <td>-1.040004</td>\n",
              "      <td>-0.686023</td>\n",
              "    </tr>\n",
              "  </tbody>\n",
              "</table>\n",
              "<p>50213 rows × 3 columns</p>\n",
              "</div>\n",
              "      <button class=\"colab-df-convert\" onclick=\"convertToInteractive('df-2b305e62-f1ad-4574-9b00-0c14152c2b6e')\"\n",
              "              title=\"Convert this dataframe to an interactive table.\"\n",
              "              style=\"display:none;\">\n",
              "        \n",
              "  <svg xmlns=\"http://www.w3.org/2000/svg\" height=\"24px\"viewBox=\"0 0 24 24\"\n",
              "       width=\"24px\">\n",
              "    <path d=\"M0 0h24v24H0V0z\" fill=\"none\"/>\n",
              "    <path d=\"M18.56 5.44l.94 2.06.94-2.06 2.06-.94-2.06-.94-.94-2.06-.94 2.06-2.06.94zm-11 1L8.5 8.5l.94-2.06 2.06-.94-2.06-.94L8.5 2.5l-.94 2.06-2.06.94zm10 10l.94 2.06.94-2.06 2.06-.94-2.06-.94-.94-2.06-.94 2.06-2.06.94z\"/><path d=\"M17.41 7.96l-1.37-1.37c-.4-.4-.92-.59-1.43-.59-.52 0-1.04.2-1.43.59L10.3 9.45l-7.72 7.72c-.78.78-.78 2.05 0 2.83L4 21.41c.39.39.9.59 1.41.59.51 0 1.02-.2 1.41-.59l7.78-7.78 2.81-2.81c.8-.78.8-2.07 0-2.86zM5.41 20L4 18.59l7.72-7.72 1.47 1.35L5.41 20z\"/>\n",
              "  </svg>\n",
              "      </button>\n",
              "      \n",
              "  <style>\n",
              "    .colab-df-container {\n",
              "      display:flex;\n",
              "      flex-wrap:wrap;\n",
              "      gap: 12px;\n",
              "    }\n",
              "\n",
              "    .colab-df-convert {\n",
              "      background-color: #E8F0FE;\n",
              "      border: none;\n",
              "      border-radius: 50%;\n",
              "      cursor: pointer;\n",
              "      display: none;\n",
              "      fill: #1967D2;\n",
              "      height: 32px;\n",
              "      padding: 0 0 0 0;\n",
              "      width: 32px;\n",
              "    }\n",
              "\n",
              "    .colab-df-convert:hover {\n",
              "      background-color: #E2EBFA;\n",
              "      box-shadow: 0px 1px 2px rgba(60, 64, 67, 0.3), 0px 1px 3px 1px rgba(60, 64, 67, 0.15);\n",
              "      fill: #174EA6;\n",
              "    }\n",
              "\n",
              "    [theme=dark] .colab-df-convert {\n",
              "      background-color: #3B4455;\n",
              "      fill: #D2E3FC;\n",
              "    }\n",
              "\n",
              "    [theme=dark] .colab-df-convert:hover {\n",
              "      background-color: #434B5C;\n",
              "      box-shadow: 0px 1px 3px 1px rgba(0, 0, 0, 0.15);\n",
              "      filter: drop-shadow(0px 1px 2px rgba(0, 0, 0, 0.3));\n",
              "      fill: #FFFFFF;\n",
              "    }\n",
              "  </style>\n",
              "\n",
              "      <script>\n",
              "        const buttonEl =\n",
              "          document.querySelector('#df-2b305e62-f1ad-4574-9b00-0c14152c2b6e button.colab-df-convert');\n",
              "        buttonEl.style.display =\n",
              "          google.colab.kernel.accessAllowed ? 'block' : 'none';\n",
              "\n",
              "        async function convertToInteractive(key) {\n",
              "          const element = document.querySelector('#df-2b305e62-f1ad-4574-9b00-0c14152c2b6e');\n",
              "          const dataTable =\n",
              "            await google.colab.kernel.invokeFunction('convertToInteractive',\n",
              "                                                     [key], {});\n",
              "          if (!dataTable) return;\n",
              "\n",
              "          const docLinkHtml = 'Like what you see? Visit the ' +\n",
              "            '<a target=\"_blank\" href=https://colab.research.google.com/notebooks/data_table.ipynb>data table notebook</a>'\n",
              "            + ' to learn more about interactive tables.';\n",
              "          element.innerHTML = '';\n",
              "          dataTable['output_type'] = 'display_data';\n",
              "          await google.colab.output.renderOutput(dataTable, element);\n",
              "          const docLink = document.createElement('div');\n",
              "          docLink.innerHTML = docLinkHtml;\n",
              "          element.appendChild(docLink);\n",
              "        }\n",
              "      </script>\n",
              "    </div>\n",
              "  </div>\n",
              "  "
            ]
          },
          "metadata": {},
          "execution_count": 56
        }
      ]
    },
    {
      "cell_type": "code",
      "source": [
        "import statsmodels.api as sm\n",
        "\n",
        "# run to add_constant to add a constant feature to df that will serve as Y intercept\n",
        "sm_x = sm.add_constant(train_prepared_df.iloc[:,0:3])\n",
        "\n",
        "shroom_stats = sm.Logit(label, sm_x)\n",
        "\n",
        "results_stats = shroom_stats.fit()\n",
        "\n",
        "print(results_stats.summary())"
      ],
      "metadata": {
        "colab": {
          "base_uri": "https://localhost:8080/",
          "height": 0
        },
        "id": "vIvVJzdXwEiP",
        "outputId": "04c1c535-ea3c-4d33-f9f0-57966331c422"
      },
      "execution_count": 57,
      "outputs": [
        {
          "output_type": "stream",
          "name": "stdout",
          "text": [
            "Optimization terminated successfully.\n",
            "         Current function value: 0.665016\n",
            "         Iterations 5\n",
            "                           Logit Regression Results                           \n",
            "==============================================================================\n",
            "Dep. Variable:                  class   No. Observations:                50213\n",
            "Model:                          Logit   Df Residuals:                    50209\n",
            "Method:                           MLE   Df Model:                            3\n",
            "Date:                Sun, 05 Mar 2023   Pseudo R-squ.:                 0.02134\n",
            "Time:                        11:11:00   Log-Likelihood:                -33392.\n",
            "converged:                       True   LL-Null:                       -34121.\n",
            "Covariance Type:            nonrobust   LLR p-value:                     0.000\n",
            "================================================================================\n",
            "                   coef    std err          z      P>|z|      [0.025      0.975]\n",
            "--------------------------------------------------------------------------------\n",
            "const            0.3326      0.009     36.200      0.000       0.315       0.351\n",
            "cap-diameter    -0.4377      0.020    -21.460      0.000      -0.478      -0.398\n",
            "stem-height      0.0210      0.011      1.918      0.055      -0.000       0.042\n",
            "stem-width       0.0512      0.016      3.162      0.002       0.019       0.083\n",
            "================================================================================\n"
          ]
        }
      ]
    },
    {
      "cell_type": "markdown",
      "source": [
        "# 7. Dimensionality Reduction using PCA\n",
        "\n"
      ],
      "metadata": {
        "id": "_gTzEm8uVvbw"
      }
    },
    {
      "cell_type": "code",
      "source": [
        "# PCA: https://scikit-learn.org/stable/modules/generated/sklearn.decomposition.PCA.html"
      ],
      "metadata": {
        "id": "bwunhLAEVvCM"
      },
      "execution_count": 58,
      "outputs": []
    },
    {
      "cell_type": "code",
      "source": [
        "# import necessary packages\n",
        "from sklearn import decomposition"
      ],
      "metadata": {
        "id": "B0TrnH1lFchl"
      },
      "execution_count": 59,
      "outputs": []
    },
    {
      "cell_type": "code",
      "source": [
        "# notice the shape of the current training set\n",
        "X_train.shape"
      ],
      "metadata": {
        "id": "BW7mxVEgKHNN",
        "colab": {
          "base_uri": "https://localhost:8080/",
          "height": 0
        },
        "outputId": "56f5b8cb-4bb1-4217-939e-99ef45982d52"
      },
      "execution_count": 60,
      "outputs": [
        {
          "output_type": "execute_result",
          "data": {
            "text/plain": [
              "(40170, 114)"
            ]
          },
          "metadata": {},
          "execution_count": 60
        }
      ]
    },
    {
      "cell_type": "code",
      "source": [
        "# we aim to decompose this through pca\n",
        "# first, we decompose through singular value decomposition\n",
        "# asign a value to number of components that will be utilized\n",
        "pca = decomposition.PCA(n_components = 10)\n",
        "\n",
        "pca_train = pca.fit_transform(X_train)"
      ],
      "metadata": {
        "id": "Ys8OLp4cFe_T"
      },
      "execution_count": 61,
      "outputs": []
    },
    {
      "cell_type": "code",
      "source": [
        "# notice that this aligns with the number of components\n",
        "pca_train.shape"
      ],
      "metadata": {
        "id": "m2h9fXXkFxaC",
        "colab": {
          "base_uri": "https://localhost:8080/",
          "height": 0
        },
        "outputId": "f4cc4d8e-3a82-4db9-985c-c1e36e01ad6f"
      },
      "execution_count": 62,
      "outputs": [
        {
          "output_type": "execute_result",
          "data": {
            "text/plain": [
              "(40170, 10)"
            ]
          },
          "metadata": {},
          "execution_count": 62
        }
      ]
    },
    {
      "cell_type": "code",
      "source": [
        "# perform logistic regression on these components\n",
        "log_reg = LogisticRegression(solver = 'liblinear')\n",
        "log_reg.fit(pca_train, Y_train)"
      ],
      "metadata": {
        "id": "pwFCk-hTHLxw",
        "colab": {
          "base_uri": "https://localhost:8080/",
          "height": 74
        },
        "outputId": "63ecacd1-e5c8-40d1-8b5f-66c735f09bac"
      },
      "execution_count": 63,
      "outputs": [
        {
          "output_type": "execute_result",
          "data": {
            "text/plain": [
              "LogisticRegression(solver='liblinear')"
            ],
            "text/html": [
              "<style>#sk-container-id-1 {color: black;background-color: white;}#sk-container-id-1 pre{padding: 0;}#sk-container-id-1 div.sk-toggleable {background-color: white;}#sk-container-id-1 label.sk-toggleable__label {cursor: pointer;display: block;width: 100%;margin-bottom: 0;padding: 0.3em;box-sizing: border-box;text-align: center;}#sk-container-id-1 label.sk-toggleable__label-arrow:before {content: \"▸\";float: left;margin-right: 0.25em;color: #696969;}#sk-container-id-1 label.sk-toggleable__label-arrow:hover:before {color: black;}#sk-container-id-1 div.sk-estimator:hover label.sk-toggleable__label-arrow:before {color: black;}#sk-container-id-1 div.sk-toggleable__content {max-height: 0;max-width: 0;overflow: hidden;text-align: left;background-color: #f0f8ff;}#sk-container-id-1 div.sk-toggleable__content pre {margin: 0.2em;color: black;border-radius: 0.25em;background-color: #f0f8ff;}#sk-container-id-1 input.sk-toggleable__control:checked~div.sk-toggleable__content {max-height: 200px;max-width: 100%;overflow: auto;}#sk-container-id-1 input.sk-toggleable__control:checked~label.sk-toggleable__label-arrow:before {content: \"▾\";}#sk-container-id-1 div.sk-estimator input.sk-toggleable__control:checked~label.sk-toggleable__label {background-color: #d4ebff;}#sk-container-id-1 div.sk-label input.sk-toggleable__control:checked~label.sk-toggleable__label {background-color: #d4ebff;}#sk-container-id-1 input.sk-hidden--visually {border: 0;clip: rect(1px 1px 1px 1px);clip: rect(1px, 1px, 1px, 1px);height: 1px;margin: -1px;overflow: hidden;padding: 0;position: absolute;width: 1px;}#sk-container-id-1 div.sk-estimator {font-family: monospace;background-color: #f0f8ff;border: 1px dotted black;border-radius: 0.25em;box-sizing: border-box;margin-bottom: 0.5em;}#sk-container-id-1 div.sk-estimator:hover {background-color: #d4ebff;}#sk-container-id-1 div.sk-parallel-item::after {content: \"\";width: 100%;border-bottom: 1px solid gray;flex-grow: 1;}#sk-container-id-1 div.sk-label:hover label.sk-toggleable__label {background-color: #d4ebff;}#sk-container-id-1 div.sk-serial::before {content: \"\";position: absolute;border-left: 1px solid gray;box-sizing: border-box;top: 0;bottom: 0;left: 50%;z-index: 0;}#sk-container-id-1 div.sk-serial {display: flex;flex-direction: column;align-items: center;background-color: white;padding-right: 0.2em;padding-left: 0.2em;position: relative;}#sk-container-id-1 div.sk-item {position: relative;z-index: 1;}#sk-container-id-1 div.sk-parallel {display: flex;align-items: stretch;justify-content: center;background-color: white;position: relative;}#sk-container-id-1 div.sk-item::before, #sk-container-id-1 div.sk-parallel-item::before {content: \"\";position: absolute;border-left: 1px solid gray;box-sizing: border-box;top: 0;bottom: 0;left: 50%;z-index: -1;}#sk-container-id-1 div.sk-parallel-item {display: flex;flex-direction: column;z-index: 1;position: relative;background-color: white;}#sk-container-id-1 div.sk-parallel-item:first-child::after {align-self: flex-end;width: 50%;}#sk-container-id-1 div.sk-parallel-item:last-child::after {align-self: flex-start;width: 50%;}#sk-container-id-1 div.sk-parallel-item:only-child::after {width: 0;}#sk-container-id-1 div.sk-dashed-wrapped {border: 1px dashed gray;margin: 0 0.4em 0.5em 0.4em;box-sizing: border-box;padding-bottom: 0.4em;background-color: white;}#sk-container-id-1 div.sk-label label {font-family: monospace;font-weight: bold;display: inline-block;line-height: 1.2em;}#sk-container-id-1 div.sk-label-container {text-align: center;}#sk-container-id-1 div.sk-container {/* jupyter's `normalize.less` sets `[hidden] { display: none; }` but bootstrap.min.css set `[hidden] { display: none !important; }` so we also need the `!important` here to be able to override the default hidden behavior on the sphinx rendered scikit-learn.org. See: https://github.com/scikit-learn/scikit-learn/issues/21755 */display: inline-block !important;position: relative;}#sk-container-id-1 div.sk-text-repr-fallback {display: none;}</style><div id=\"sk-container-id-1\" class=\"sk-top-container\"><div class=\"sk-text-repr-fallback\"><pre>LogisticRegression(solver=&#x27;liblinear&#x27;)</pre><b>In a Jupyter environment, please rerun this cell to show the HTML representation or trust the notebook. <br />On GitHub, the HTML representation is unable to render, please try loading this page with nbviewer.org.</b></div><div class=\"sk-container\" hidden><div class=\"sk-item\"><div class=\"sk-estimator sk-toggleable\"><input class=\"sk-toggleable__control sk-hidden--visually\" id=\"sk-estimator-id-1\" type=\"checkbox\" checked><label for=\"sk-estimator-id-1\" class=\"sk-toggleable__label sk-toggleable__label-arrow\">LogisticRegression</label><div class=\"sk-toggleable__content\"><pre>LogisticRegression(solver=&#x27;liblinear&#x27;)</pre></div></div></div></div></div>"
            ]
          },
          "metadata": {},
          "execution_count": 63
        }
      ]
    },
    {
      "cell_type": "code",
      "source": [
        "# now that we have our model from these components, we assess accuracy on validation data\n",
        "pca_val = pca.transform(X_test)\n",
        "predicted = log_reg.predict(pca_val)\n",
        "\n",
        "print(\"%-12s %f\" % ('Accuracy:', metrics.accuracy_score(Y_test, predicted)))"
      ],
      "metadata": {
        "id": "itI2vb9DHbEF",
        "colab": {
          "base_uri": "https://localhost:8080/",
          "height": 0
        },
        "outputId": "158fcb8c-a3a2-46b5-cbd5-3dc91e48756a"
      },
      "execution_count": 64,
      "outputs": [
        {
          "output_type": "stream",
          "name": "stdout",
          "text": [
            "Accuracy:    0.652096\n"
          ]
        }
      ]
    },
    {
      "cell_type": "code",
      "source": [
        "# tells us the proportion of the total variance in the data that is explained by each PC.\n",
        "print(pca.explained_variance_ratio_)\n",
        "\n",
        "# represent the amount of variance in the data that is accounted for by each principal component\n",
        "print(pca.singular_values_)\n"
      ],
      "metadata": {
        "colab": {
          "base_uri": "https://localhost:8080/",
          "height": 0
        },
        "id": "vZn00h_QXcJK",
        "outputId": "d3582960-25d6-4078-b390-45d81e55b6a9"
      },
      "execution_count": 65,
      "outputs": [
        {
          "output_type": "stream",
          "name": "stdout",
          "text": [
            "[9.77369313e-01 4.54321975e-03 2.41092619e-03 1.15340704e-03\n",
            " 9.21429073e-04 8.27259717e-04 8.02206587e-04 7.76805854e-04\n",
            " 6.50134638e-04 6.16988100e-04]\n",
            "[4505.17409913  307.15960544  223.75574069  154.76527682  138.32898318\n",
            "  131.06996021  129.07000919  127.01016319  116.19404789  113.19327435]\n"
          ]
        }
      ]
    },
    {
      "cell_type": "markdown",
      "source": [
        "The accuracy has gone down when utilizing principal component analysis."
      ],
      "metadata": {
        "id": "5Qt3mO0vJVHR"
      }
    },
    {
      "cell_type": "code",
      "source": [
        "# Now we do the same for the testing data\n",
        "pca = decomposition.PCA(n_components = 10)\n",
        "\n",
        "pca_test = pca.fit_transform(test_prepared_df)\n",
        "\n",
        "pca_test.shape"
      ],
      "metadata": {
        "colab": {
          "base_uri": "https://localhost:8080/",
          "height": 0
        },
        "id": "GckQvynwEaC1",
        "outputId": "a51cdaf2-b482-47dd-d5db-6f3df20e7086"
      },
      "execution_count": 66,
      "outputs": [
        {
          "output_type": "execute_result",
          "data": {
            "text/plain": [
              "(10856, 10)"
            ]
          },
          "metadata": {},
          "execution_count": 66
        }
      ]
    },
    {
      "cell_type": "markdown",
      "source": [
        "# 8. Experiment with any 2 other models (Non-Ensemble)"
      ],
      "metadata": {
        "id": "HazoMF_f7P_c"
      }
    },
    {
      "cell_type": "code",
      "source": [
        "# Models: https://scikit-learn.org/stable/supervised_learning.html"
      ],
      "metadata": {
        "id": "2c3uC9LWfgvn"
      },
      "execution_count": 67,
      "outputs": []
    },
    {
      "cell_type": "markdown",
      "source": [
        "### Model 1: Decision Trees"
      ],
      "metadata": {
        "id": "8f0e6EfHcukG"
      }
    },
    {
      "cell_type": "code",
      "source": [
        "# Decision Trees\n",
        "\n",
        "from sklearn import tree\n",
        "\n",
        "# call the model\n",
        "tree_model = tree.DecisionTreeClassifier()\n",
        "\n",
        "# fit the model with our data\n",
        "tree_fit = tree_model.fit(X_train, Y_train)\n",
        "\n",
        "# predict using our model\n",
        "tree_pred = tree_fit.predict(X_test)\n",
        "\n",
        "# accuracy score\n",
        "print(\"%-12s %f\" % ('Accuracy:', metrics.accuracy_score(tree_pred, Y_test)))"
      ],
      "metadata": {
        "colab": {
          "base_uri": "https://localhost:8080/",
          "height": 0
        },
        "id": "AoHmoT0oWq26",
        "outputId": "4605524f-c527-4c60-85b9-0a8f35d9f66a"
      },
      "execution_count": 68,
      "outputs": [
        {
          "output_type": "stream",
          "name": "stdout",
          "text": [
            "Accuracy:    0.998208\n"
          ]
        }
      ]
    },
    {
      "cell_type": "code",
      "source": [
        "# overall image of decision tree\n",
        "print(tree.plot_tree(tree_model))\n"
      ],
      "metadata": {
        "colab": {
          "base_uri": "https://localhost:8080/",
          "height": 504
        },
        "id": "lLxkFQqriwFo",
        "outputId": "89c26fa6-89df-4e04-98d3-aaf7be64de02"
      },
      "execution_count": 69,
      "outputs": [
        {
          "output_type": "stream",
          "name": "stdout",
          "text": [
            "[Text(0.5163931005141315, 0.9814814814814815, 'x[77] <= 0.5\\ngini = 0.487\\nsamples = 40170\\nvalue = [16830, 23340]'), Text(0.2978946461397059, 0.9444444444444444, 'x[55] <= 0.5\\ngini = 0.436\\nsamples = 23262\\nvalue = [7456, 15806]'), Text(0.22446576286764705, 0.9074074074074074, 'x[78] <= 0.5\\ngini = 0.355\\nsamples = 17565\\nvalue = [4052, 13513]'), Text(0.21711282169117646, 0.8703703703703703, 'x[43] <= 0.5\\ngini = 0.407\\nsamples = 14268\\nvalue = [4052, 10216]'), Text(0.16928998161764705, 0.8333333333333334, 'x[4] <= 0.5\\ngini = 0.363\\nsamples = 12751\\nvalue = [3036, 9715]'), Text(0.11776194852941177, 0.7962962962962963, 'x[2] <= -0.712\\ngini = 0.344\\nsamples = 12439\\nvalue = [2750, 9689]'), Text(0.03676470588235294, 0.7592592592592593, 'x[34] <= 0.5\\ngini = 0.076\\nsamples = 3772\\nvalue = [149, 3623]'), Text(0.022058823529411766, 0.7222222222222222, 'x[92] <= 0.5\\ngini = 0.012\\nsamples = 3588\\nvalue = [22, 3566]'), Text(0.014705882352941176, 0.6851851851851852, 'x[2] <= -0.724\\ngini = 0.001\\nsamples = 3568\\nvalue = [2, 3566]'), Text(0.007352941176470588, 0.6481481481481481, 'gini = 0.0\\nsamples = 3498\\nvalue = [0, 3498]'), Text(0.022058823529411766, 0.6481481481481481, 'x[28] <= 0.5\\ngini = 0.056\\nsamples = 70\\nvalue = [2, 68]'), Text(0.014705882352941176, 0.6111111111111112, 'gini = 0.0\\nsamples = 67\\nvalue = [0, 67]'), Text(0.029411764705882353, 0.6111111111111112, 'x[1] <= -0.785\\ngini = 0.444\\nsamples = 3\\nvalue = [2, 1]'), Text(0.022058823529411766, 0.5740740740740741, 'gini = 0.0\\nsamples = 2\\nvalue = [2, 0]'), Text(0.03676470588235294, 0.5740740740740741, 'gini = 0.0\\nsamples = 1\\nvalue = [0, 1]'), Text(0.029411764705882353, 0.6851851851851852, 'gini = 0.0\\nsamples = 20\\nvalue = [20, 0]'), Text(0.051470588235294115, 0.7222222222222222, 'x[52] <= 0.5\\ngini = 0.428\\nsamples = 184\\nvalue = [127, 57]'), Text(0.04411764705882353, 0.6851851851851852, 'gini = 0.0\\nsamples = 47\\nvalue = [0, 47]'), Text(0.058823529411764705, 0.6851851851851852, 'x[17] <= 0.5\\ngini = 0.135\\nsamples = 137\\nvalue = [127, 10]'), Text(0.051470588235294115, 0.6481481481481481, 'gini = 0.0\\nsamples = 127\\nvalue = [127, 0]'), Text(0.0661764705882353, 0.6481481481481481, 'gini = 0.0\\nsamples = 10\\nvalue = [0, 10]'), Text(0.1987591911764706, 0.7592592592592593, 'x[17] <= 0.5\\ngini = 0.42\\nsamples = 8667\\nvalue = [2601, 6066]'), Text(0.15119485294117646, 0.7222222222222222, 'x[51] <= 0.5\\ngini = 0.337\\nsamples = 5462\\nvalue = [1170, 4292]'), Text(0.12224264705882353, 0.6851851851851852, 'x[6] <= 0.5\\ngini = 0.301\\nsamples = 5154\\nvalue = [953, 4201]'), Text(0.11488970588235294, 0.6481481481481481, 'x[41] <= 0.5\\ngini = 0.276\\nsamples = 5034\\nvalue = [833, 4201]'), Text(0.08639705882352941, 0.6111111111111112, 'x[52] <= 0.5\\ngini = 0.246\\nsamples = 4892\\nvalue = [703, 4189]'), Text(0.051470588235294115, 0.5740740740740741, 'x[40] <= 0.5\\ngini = 0.146\\nsamples = 3894\\nvalue = [308, 3586]'), Text(0.025735294117647058, 0.5370370370370371, 'x[46] <= 0.5\\ngini = 0.054\\nsamples = 3086\\nvalue = [86, 3000]'), Text(0.01838235294117647, 0.5, 'gini = 0.0\\nsamples = 2843\\nvalue = [0, 2843]'), Text(0.03308823529411765, 0.5, 'x[94] <= 0.5\\ngini = 0.457\\nsamples = 243\\nvalue = [86, 157]'), Text(0.025735294117647058, 0.46296296296296297, 'gini = 0.0\\nsamples = 157\\nvalue = [0, 157]'), Text(0.04044117647058824, 0.46296296296296297, 'gini = 0.0\\nsamples = 86\\nvalue = [86, 0]'), Text(0.07720588235294118, 0.5370370370370371, 'x[1] <= 0.45\\ngini = 0.399\\nsamples = 808\\nvalue = [222, 586]'), Text(0.0625, 0.5, 'x[12] <= 0.5\\ngini = 0.052\\nsamples = 559\\nvalue = [15, 544]'), Text(0.05514705882352941, 0.46296296296296297, 'x[27] <= 0.5\\ngini = 0.025\\nsamples = 551\\nvalue = [7, 544]'), Text(0.04779411764705882, 0.42592592592592593, 'x[65] <= 0.5\\ngini = 0.011\\nsamples = 547\\nvalue = [3, 544]'), Text(0.04044117647058824, 0.3888888888888889, 'x[1] <= 0.402\\ngini = 0.004\\nsamples = 545\\nvalue = [1, 544]'), Text(0.03308823529411765, 0.35185185185185186, 'gini = 0.0\\nsamples = 529\\nvalue = [0, 529]'), Text(0.04779411764705882, 0.35185185185185186, 'x[0] <= 0.26\\ngini = 0.117\\nsamples = 16\\nvalue = [1, 15]'), Text(0.04044117647058824, 0.3148148148148148, 'x[26] <= 0.5\\ngini = 0.5\\nsamples = 2\\nvalue = [1, 1]'), Text(0.03308823529411765, 0.2777777777777778, 'gini = 0.0\\nsamples = 1\\nvalue = [0, 1]'), Text(0.04779411764705882, 0.2777777777777778, 'gini = 0.0\\nsamples = 1\\nvalue = [1, 0]'), Text(0.05514705882352941, 0.3148148148148148, 'gini = 0.0\\nsamples = 14\\nvalue = [0, 14]'), Text(0.05514705882352941, 0.3888888888888889, 'gini = 0.0\\nsamples = 2\\nvalue = [2, 0]'), Text(0.0625, 0.42592592592592593, 'gini = 0.0\\nsamples = 4\\nvalue = [4, 0]'), Text(0.06985294117647059, 0.46296296296296297, 'gini = 0.0\\nsamples = 8\\nvalue = [8, 0]'), Text(0.09191176470588236, 0.5, 'x[2] <= 0.558\\ngini = 0.28\\nsamples = 249\\nvalue = [207, 42]'), Text(0.08455882352941177, 0.46296296296296297, 'gini = 0.0\\nsamples = 207\\nvalue = [207, 0]'), Text(0.09926470588235294, 0.46296296296296297, 'gini = 0.0\\nsamples = 42\\nvalue = [0, 42]'), Text(0.1213235294117647, 0.5740740740740741, 'x[74] <= 0.5\\ngini = 0.478\\nsamples = 998\\nvalue = [395, 603]'), Text(0.11397058823529412, 0.5370370370370371, 'x[2] <= 0.386\\ngini = 0.24\\nsamples = 459\\nvalue = [395, 64]'), Text(0.10661764705882353, 0.5, 'gini = 0.0\\nsamples = 395\\nvalue = [395, 0]'), Text(0.1213235294117647, 0.5, 'gini = 0.0\\nsamples = 64\\nvalue = [0, 64]'), Text(0.12867647058823528, 0.5370370370370371, 'gini = 0.0\\nsamples = 539\\nvalue = [0, 539]'), Text(0.14338235294117646, 0.6111111111111112, 'x[9] <= 0.5\\ngini = 0.155\\nsamples = 142\\nvalue = [130, 12]'), Text(0.13602941176470587, 0.5740740740740741, 'gini = 0.0\\nsamples = 12\\nvalue = [0, 12]'), Text(0.15073529411764705, 0.5740740740740741, 'gini = 0.0\\nsamples = 130\\nvalue = [130, 0]'), Text(0.12959558823529413, 0.6481481481481481, 'gini = 0.0\\nsamples = 120\\nvalue = [120, 0]'), Text(0.1801470588235294, 0.6851851851851852, 'x[112] <= 0.613\\ngini = 0.416\\nsamples = 308\\nvalue = [217, 91]'), Text(0.16544117647058823, 0.6481481481481481, 'x[1] <= -0.958\\ngini = 0.044\\nsamples = 220\\nvalue = [215, 5]'), Text(0.15808823529411764, 0.6111111111111112, 'gini = 0.0\\nsamples = 3\\nvalue = [0, 3]'), Text(0.17279411764705882, 0.6111111111111112, 'x[2] <= 0.442\\ngini = 0.018\\nsamples = 217\\nvalue = [215, 2]'), Text(0.16544117647058823, 0.5740740740740741, 'gini = 0.0\\nsamples = 215\\nvalue = [215, 0]'), Text(0.1801470588235294, 0.5740740740740741, 'gini = 0.0\\nsamples = 2\\nvalue = [0, 2]'), Text(0.1948529411764706, 0.6481481481481481, 'x[22] <= 0.5\\ngini = 0.044\\nsamples = 88\\nvalue = [2, 86]'), Text(0.1875, 0.6111111111111112, 'gini = 0.0\\nsamples = 86\\nvalue = [0, 86]'), Text(0.20220588235294118, 0.6111111111111112, 'gini = 0.0\\nsamples = 2\\nvalue = [2, 0]'), Text(0.24632352941176472, 0.7222222222222222, 'x[64] <= 0.5\\ngini = 0.494\\nsamples = 3205\\nvalue = [1431, 1774]'), Text(0.23161764705882354, 0.6851851851851852, 'x[37] <= 0.5\\ngini = 0.21\\nsamples = 1082\\nvalue = [129, 953]'), Text(0.22426470588235295, 0.6481481481481481, 'x[5] <= 0.5\\ngini = 0.118\\nsamples = 1017\\nvalue = [64, 953]'), Text(0.21691176470588236, 0.6111111111111112, 'gini = 0.0\\nsamples = 953\\nvalue = [0, 953]'), Text(0.23161764705882354, 0.6111111111111112, 'gini = 0.0\\nsamples = 64\\nvalue = [64, 0]'), Text(0.23897058823529413, 0.6481481481481481, 'gini = 0.0\\nsamples = 65\\nvalue = [65, 0]'), Text(0.2610294117647059, 0.6851851851851852, 'x[33] <= 0.5\\ngini = 0.474\\nsamples = 2123\\nvalue = [1302, 821]'), Text(0.2536764705882353, 0.6481481481481481, 'gini = 0.0\\nsamples = 427\\nvalue = [0, 427]'), Text(0.26838235294117646, 0.6481481481481481, 'x[56] <= 0.5\\ngini = 0.357\\nsamples = 1696\\nvalue = [1302, 394]'), Text(0.2610294117647059, 0.6111111111111112, 'x[37] <= 0.5\\ngini = 0.11\\nsamples = 1383\\nvalue = [1302, 81]'), Text(0.2536764705882353, 0.5740740740740741, 'x[1] <= -0.911\\ngini = 0.037\\nsamples = 1327\\nvalue = [1302, 25]'), Text(0.23897058823529413, 0.5370370370370371, 'x[51] <= 0.5\\ngini = 0.32\\nsamples = 30\\nvalue = [6, 24]'), Text(0.23161764705882354, 0.5, 'gini = 0.0\\nsamples = 6\\nvalue = [6, 0]'), Text(0.24632352941176472, 0.5, 'gini = 0.0\\nsamples = 24\\nvalue = [0, 24]'), Text(0.26838235294117646, 0.5370370370370371, 'x[1] <= -0.852\\ngini = 0.002\\nsamples = 1297\\nvalue = [1296, 1]'), Text(0.2610294117647059, 0.5, 'x[5] <= 0.5\\ngini = 0.245\\nsamples = 7\\nvalue = [6, 1]'), Text(0.2536764705882353, 0.46296296296296297, 'gini = 0.0\\nsamples = 6\\nvalue = [6, 0]'), Text(0.26838235294117646, 0.46296296296296297, 'gini = 0.0\\nsamples = 1\\nvalue = [0, 1]'), Text(0.2757352941176471, 0.5, 'gini = 0.0\\nsamples = 1290\\nvalue = [1290, 0]'), Text(0.26838235294117646, 0.5740740740740741, 'gini = 0.0\\nsamples = 56\\nvalue = [0, 56]'), Text(0.2757352941176471, 0.6111111111111112, 'gini = 0.0\\nsamples = 313\\nvalue = [0, 313]'), Text(0.22081801470588236, 0.7962962962962963, 'x[62] <= 0.5\\ngini = 0.153\\nsamples = 312\\nvalue = [286, 26]'), Text(0.21346507352941177, 0.7592592592592593, 'gini = 0.0\\nsamples = 286\\nvalue = [286, 0]'), Text(0.22817095588235295, 0.7592592592592593, 'gini = 0.0\\nsamples = 26\\nvalue = [0, 26]'), Text(0.2649356617647059, 0.8333333333333334, 'x[1] <= -1.128\\ngini = 0.442\\nsamples = 1517\\nvalue = [1016, 501]'), Text(0.2502297794117647, 0.7962962962962963, 'x[56] <= 0.5\\ngini = 0.007\\nsamples = 290\\nvalue = [1, 289]'), Text(0.24287683823529413, 0.7592592592592593, 'gini = 0.0\\nsamples = 289\\nvalue = [0, 289]'), Text(0.2575827205882353, 0.7592592592592593, 'gini = 0.0\\nsamples = 1\\nvalue = [1, 0]'), Text(0.2796415441176471, 0.7962962962962963, 'x[41] <= 0.5\\ngini = 0.286\\nsamples = 1227\\nvalue = [1015, 212]'), Text(0.27228860294117646, 0.7592592592592593, 'x[58] <= 0.5\\ngini = 0.118\\nsamples = 1083\\nvalue = [1015, 68]'), Text(0.2649356617647059, 0.7222222222222222, 'gini = 0.0\\nsamples = 1015\\nvalue = [1015, 0]'), Text(0.2796415441176471, 0.7222222222222222, 'gini = 0.0\\nsamples = 68\\nvalue = [0, 68]'), Text(0.28699448529411764, 0.7592592592592593, 'gini = 0.0\\nsamples = 144\\nvalue = [0, 144]'), Text(0.23181870404411764, 0.8703703703703703, 'gini = 0.0\\nsamples = 3297\\nvalue = [0, 3297]'), Text(0.3713235294117647, 0.9074074074074074, 'x[33] <= 0.5\\ngini = 0.481\\nsamples = 5697\\nvalue = [3404, 2293]'), Text(0.3492647058823529, 0.8703703703703703, 'x[0] <= -0.835\\ngini = 0.288\\nsamples = 830\\nvalue = [145, 685]'), Text(0.34191176470588236, 0.8333333333333334, 'gini = 0.0\\nsamples = 145\\nvalue = [145, 0]'), Text(0.35661764705882354, 0.8333333333333334, 'gini = 0.0\\nsamples = 685\\nvalue = [0, 685]'), Text(0.39338235294117646, 0.8703703703703703, 'x[2] <= -0.254\\ngini = 0.442\\nsamples = 4867\\nvalue = [3259, 1608]'), Text(0.3713235294117647, 0.8333333333333334, 'x[3] <= 0.5\\ngini = 0.494\\nsamples = 2344\\nvalue = [1049, 1295]'), Text(0.3639705882352941, 0.7962962962962963, 'x[65] <= 0.5\\ngini = 0.465\\nsamples = 2051\\nvalue = [756, 1295]'), Text(0.35661764705882354, 0.7592592592592593, 'x[69] <= 0.5\\ngini = 0.391\\nsamples = 1766\\nvalue = [471, 1295]'), Text(0.3492647058823529, 0.7222222222222222, 'x[13] <= 0.5\\ngini = 0.321\\nsamples = 1621\\nvalue = [326, 1295]'), Text(0.33455882352941174, 0.6851851851851852, 'x[27] <= 0.5\\ngini = 0.173\\nsamples = 1329\\nvalue = [127, 1202]'), Text(0.3272058823529412, 0.6481481481481481, 'x[2] <= -0.346\\ngini = 0.131\\nsamples = 1293\\nvalue = [91, 1202]'), Text(0.3125, 0.6111111111111112, 'x[63] <= 0.5\\ngini = 0.069\\nsamples = 1176\\nvalue = [42, 1134]'), Text(0.30514705882352944, 0.5740740740740741, 'x[109] <= 0.5\\ngini = 0.052\\nsamples = 1165\\nvalue = [31, 1134]'), Text(0.2977941176470588, 0.5370370370370371, 'x[111] <= 0.5\\ngini = 0.044\\nsamples = 1160\\nvalue = [26, 1134]'), Text(0.29044117647058826, 0.5, 'x[73] <= 0.5\\ngini = 0.039\\nsamples = 1157\\nvalue = [23, 1134]'), Text(0.28308823529411764, 0.46296296296296297, 'x[2] <= -0.844\\ngini = 0.036\\nsamples = 1155\\nvalue = [21, 1134]'), Text(0.2757352941176471, 0.42592592592592593, 'gini = 0.0\\nsamples = 854\\nvalue = [0, 854]'), Text(0.29044117647058826, 0.42592592592592593, 'x[85] <= 0.5\\ngini = 0.13\\nsamples = 301\\nvalue = [21, 280]'), Text(0.28308823529411764, 0.3888888888888889, 'x[43] <= 0.5\\ngini = 0.079\\nsamples = 292\\nvalue = [12, 280]'), Text(0.2757352941176471, 0.35185185185185186, 'x[100] <= 0.5\\ngini = 0.034\\nsamples = 285\\nvalue = [5, 280]'), Text(0.26838235294117646, 0.3148148148148148, 'gini = 0.0\\nsamples = 5\\nvalue = [5, 0]'), Text(0.28308823529411764, 0.3148148148148148, 'gini = 0.0\\nsamples = 280\\nvalue = [0, 280]'), Text(0.29044117647058826, 0.35185185185185186, 'gini = 0.0\\nsamples = 7\\nvalue = [7, 0]'), Text(0.2977941176470588, 0.3888888888888889, 'gini = 0.0\\nsamples = 9\\nvalue = [9, 0]'), Text(0.2977941176470588, 0.46296296296296297, 'gini = 0.0\\nsamples = 2\\nvalue = [2, 0]'), Text(0.30514705882352944, 0.5, 'gini = 0.0\\nsamples = 3\\nvalue = [3, 0]'), Text(0.3125, 0.5370370370370371, 'gini = 0.0\\nsamples = 5\\nvalue = [5, 0]'), Text(0.31985294117647056, 0.5740740740740741, 'gini = 0.0\\nsamples = 11\\nvalue = [11, 0]'), Text(0.34191176470588236, 0.6111111111111112, 'x[60] <= 0.5\\ngini = 0.487\\nsamples = 117\\nvalue = [49, 68]'), Text(0.33455882352941174, 0.5740740740740741, 'x[72] <= 0.5\\ngini = 0.484\\nsamples = 83\\nvalue = [49, 34]'), Text(0.3272058823529412, 0.5370370370370371, 'gini = 0.0\\nsamples = 23\\nvalue = [0, 23]'), Text(0.34191176470588236, 0.5370370370370371, 'x[36] <= 0.5\\ngini = 0.299\\nsamples = 60\\nvalue = [49, 11]'), Text(0.33455882352941174, 0.5, 'gini = 0.0\\nsamples = 49\\nvalue = [49, 0]'), Text(0.3492647058823529, 0.5, 'gini = 0.0\\nsamples = 11\\nvalue = [0, 11]'), Text(0.3492647058823529, 0.5740740740740741, 'gini = 0.0\\nsamples = 34\\nvalue = [0, 34]'), Text(0.34191176470588236, 0.6481481481481481, 'gini = 0.0\\nsamples = 36\\nvalue = [36, 0]'), Text(0.3639705882352941, 0.6851851851851852, 'x[60] <= 0.5\\ngini = 0.434\\nsamples = 292\\nvalue = [199, 93]'), Text(0.35661764705882354, 0.6481481481481481, 'gini = 0.0\\nsamples = 199\\nvalue = [199, 0]'), Text(0.3713235294117647, 0.6481481481481481, 'gini = 0.0\\nsamples = 93\\nvalue = [0, 93]'), Text(0.3639705882352941, 0.7222222222222222, 'gini = 0.0\\nsamples = 145\\nvalue = [145, 0]'), Text(0.3713235294117647, 0.7592592592592593, 'gini = 0.0\\nsamples = 285\\nvalue = [285, 0]'), Text(0.3786764705882353, 0.7962962962962963, 'gini = 0.0\\nsamples = 293\\nvalue = [293, 0]'), Text(0.41544117647058826, 0.8333333333333334, 'x[1] <= -0.761\\ngini = 0.217\\nsamples = 2523\\nvalue = [2210, 313]'), Text(0.4007352941176471, 0.7962962962962963, 'x[2] <= -0.124\\ngini = 0.201\\nsamples = 106\\nvalue = [12, 94]'), Text(0.39338235294117646, 0.7592592592592593, 'gini = 0.0\\nsamples = 12\\nvalue = [12, 0]'), Text(0.40808823529411764, 0.7592592592592593, 'gini = 0.0\\nsamples = 94\\nvalue = [0, 94]'), Text(0.43014705882352944, 0.7962962962962963, 'x[11] <= 0.5\\ngini = 0.165\\nsamples = 2417\\nvalue = [2198, 219]'), Text(0.4227941176470588, 0.7592592592592593, 'x[36] <= 0.5\\ngini = 0.123\\nsamples = 2353\\nvalue = [2198, 155]'), Text(0.40808823529411764, 0.7222222222222222, 'x[58] <= 0.5\\ngini = 0.024\\nsamples = 2068\\nvalue = [2043, 25]'), Text(0.4007352941176471, 0.6851851851851852, 'x[1] <= -0.647\\ngini = 0.012\\nsamples = 2055\\nvalue = [2043, 12]'), Text(0.3860294117647059, 0.6481481481481481, 'x[78] <= 0.5\\ngini = 0.388\\nsamples = 38\\nvalue = [28, 10]'), Text(0.3786764705882353, 0.6111111111111112, 'gini = 0.0\\nsamples = 28\\nvalue = [28, 0]'), Text(0.39338235294117646, 0.6111111111111112, 'gini = 0.0\\nsamples = 10\\nvalue = [0, 10]'), Text(0.41544117647058826, 0.6481481481481481, 'x[30] <= 0.5\\ngini = 0.002\\nsamples = 2017\\nvalue = [2015, 2]'), Text(0.40808823529411764, 0.6111111111111112, 'x[1] <= -0.619\\ngini = 0.001\\nsamples = 2016\\nvalue = [2015, 1]'), Text(0.4007352941176471, 0.5740740740740741, 'x[78] <= 0.5\\ngini = 0.18\\nsamples = 10\\nvalue = [9, 1]'), Text(0.39338235294117646, 0.5370370370370371, 'gini = 0.0\\nsamples = 9\\nvalue = [9, 0]'), Text(0.40808823529411764, 0.5370370370370371, 'gini = 0.0\\nsamples = 1\\nvalue = [0, 1]'), Text(0.41544117647058826, 0.5740740740740741, 'gini = 0.0\\nsamples = 2006\\nvalue = [2006, 0]'), Text(0.4227941176470588, 0.6111111111111112, 'gini = 0.0\\nsamples = 1\\nvalue = [0, 1]'), Text(0.41544117647058826, 0.6851851851851852, 'gini = 0.0\\nsamples = 13\\nvalue = [0, 13]'), Text(0.4375, 0.7222222222222222, 'x[43] <= 0.5\\ngini = 0.496\\nsamples = 285\\nvalue = [155, 130]'), Text(0.43014705882352944, 0.6851851851851852, 'gini = 0.0\\nsamples = 130\\nvalue = [0, 130]'), Text(0.44485294117647056, 0.6851851851851852, 'gini = 0.0\\nsamples = 155\\nvalue = [155, 0]'), Text(0.4375, 0.7592592592592593, 'gini = 0.0\\nsamples = 64\\nvalue = [0, 64]'), Text(0.734891554888557, 0.9444444444444444, 'x[64] <= 0.5\\ngini = 0.494\\nsamples = 16908\\nvalue = [9374, 7534]'), Text(0.5177504595588235, 0.9074074074074074, 'x[26] <= 0.5\\ngini = 0.386\\nsamples = 3168\\nvalue = [826, 2342]'), Text(0.49752987132352944, 0.8703703703703703, 'x[65] <= 0.5\\ngini = 0.084\\nsamples = 1863\\nvalue = [82, 1781]'), Text(0.4901769301470588, 0.8333333333333334, 'gini = 0.0\\nsamples = 1781\\nvalue = [0, 1781]'), Text(0.5048828125, 0.8333333333333334, 'gini = 0.0\\nsamples = 82\\nvalue = [82, 0]'), Text(0.5379710477941176, 0.8703703703703703, 'x[55] <= 0.5\\ngini = 0.49\\nsamples = 1305\\nvalue = [744, 561]'), Text(0.5195886948529411, 0.8333333333333334, 'x[53] <= 0.5\\ngini = 0.162\\nsamples = 584\\nvalue = [532, 52]'), Text(0.5122357536764706, 0.7962962962962963, 'x[63] <= 0.5\\ngini = 0.076\\nsamples = 554\\nvalue = [532, 22]'), Text(0.5048828125, 0.7592592592592593, 'gini = 0.0\\nsamples = 532\\nvalue = [532, 0]'), Text(0.5195886948529411, 0.7592592592592593, 'gini = 0.0\\nsamples = 22\\nvalue = [0, 22]'), Text(0.5269416360294118, 0.7962962962962963, 'gini = 0.0\\nsamples = 30\\nvalue = [0, 30]'), Text(0.5563534007352942, 0.8333333333333334, 'x[2] <= 0.067\\ngini = 0.415\\nsamples = 721\\nvalue = [212, 509]'), Text(0.5416475183823529, 0.7962962962962963, 'x[58] <= 0.5\\ngini = 0.447\\nsamples = 303\\nvalue = [201, 102]'), Text(0.5342945772058824, 0.7592592592592593, 'x[62] <= 0.5\\ngini = 0.307\\nsamples = 248\\nvalue = [201, 47]'), Text(0.5269416360294118, 0.7222222222222222, 'gini = 0.0\\nsamples = 47\\nvalue = [0, 47]'), Text(0.5416475183823529, 0.7222222222222222, 'gini = 0.0\\nsamples = 201\\nvalue = [201, 0]'), Text(0.5490004595588235, 0.7592592592592593, 'gini = 0.0\\nsamples = 55\\nvalue = [0, 55]'), Text(0.5710592830882353, 0.7962962962962963, 'x[101] <= 0.5\\ngini = 0.051\\nsamples = 418\\nvalue = [11, 407]'), Text(0.5637063419117647, 0.7592592592592593, 'x[104] <= 0.5\\ngini = 0.038\\nsamples = 415\\nvalue = [8, 407]'), Text(0.5563534007352942, 0.7222222222222222, 'x[103] <= 0.5\\ngini = 0.024\\nsamples = 412\\nvalue = [5, 407]'), Text(0.5490004595588235, 0.6851851851851852, 'x[94] <= 0.5\\ngini = 0.015\\nsamples = 410\\nvalue = [3, 407]'), Text(0.5416475183823529, 0.6481481481481481, 'gini = 0.0\\nsamples = 1\\nvalue = [1, 0]'), Text(0.5563534007352942, 0.6481481481481481, 'x[2] <= 0.076\\ngini = 0.01\\nsamples = 409\\nvalue = [2, 407]'), Text(0.5416475183823529, 0.6111111111111112, 'x[1] <= -0.045\\ngini = 0.245\\nsamples = 7\\nvalue = [1, 6]'), Text(0.5342945772058824, 0.5740740740740741, 'gini = 0.0\\nsamples = 1\\nvalue = [1, 0]'), Text(0.5490004595588235, 0.5740740740740741, 'gini = 0.0\\nsamples = 6\\nvalue = [0, 6]'), Text(0.5710592830882353, 0.6111111111111112, 'x[40] <= 0.5\\ngini = 0.005\\nsamples = 402\\nvalue = [1, 401]'), Text(0.5637063419117647, 0.5740740740740741, 'gini = 0.0\\nsamples = 370\\nvalue = [0, 370]'), Text(0.5784122242647058, 0.5740740740740741, 'x[57] <= 0.5\\ngini = 0.061\\nsamples = 32\\nvalue = [1, 31]'), Text(0.5710592830882353, 0.5370370370370371, 'gini = 0.0\\nsamples = 31\\nvalue = [0, 31]'), Text(0.5857651654411765, 0.5370370370370371, 'gini = 0.0\\nsamples = 1\\nvalue = [1, 0]'), Text(0.5637063419117647, 0.6851851851851852, 'gini = 0.0\\nsamples = 2\\nvalue = [2, 0]'), Text(0.5710592830882353, 0.7222222222222222, 'gini = 0.0\\nsamples = 3\\nvalue = [3, 0]'), Text(0.5784122242647058, 0.7592592592592593, 'gini = 0.0\\nsamples = 3\\nvalue = [3, 0]'), Text(0.9520326502182904, 0.9074074074074074, 'x[93] <= 0.5\\ngini = 0.47\\nsamples = 13740\\nvalue = [8548, 5192]'), Text(0.9446797090418199, 0.8703703703703703, 'x[4] <= 0.5\\ngini = 0.456\\nsamples = 13178\\nvalue = [8548, 4630]'), Text(0.9040653004365808, 0.8333333333333334, 'x[29] <= 0.5\\ngini = 0.438\\nsamples = 12548\\nvalue = [8484, 4064]'), Text(0.8448953067555147, 0.7962962962962963, 'x[22] <= 0.5\\ngini = 0.417\\nsamples = 11987\\nvalue = [8433, 3554]'), Text(0.7853788488051471, 0.7592592592592593, 'x[96] <= 0.5\\ngini = 0.397\\nsamples = 11476\\nvalue = [8344, 3132]'), Text(0.7780259076286765, 0.7222222222222222, 'x[112] <= 1.915\\ngini = 0.38\\nsamples = 11198\\nvalue = [8344, 2854]'), Text(0.6663459329044118, 0.6851851851851852, 'x[15] <= 0.5\\ngini = 0.352\\nsamples = 10637\\nvalue = [8211, 2426]'), Text(0.6589929917279411, 0.6481481481481481, 'x[57] <= 0.5\\ngini = 0.331\\nsamples = 10389\\nvalue = [8211, 2178]'), Text(0.6004710477941176, 0.6111111111111112, 'x[20] <= 0.5\\ngini = 0.499\\nsamples = 1066\\nvalue = [510, 556]'), Text(0.5931181066176471, 0.5740740740740741, 'gini = 0.0\\nsamples = 510\\nvalue = [510, 0]'), Text(0.6078239889705882, 0.5740740740740741, 'gini = 0.0\\nsamples = 556\\nvalue = [0, 556]'), Text(0.7175149356617647, 0.6111111111111112, 'x[113] <= 1.377\\ngini = 0.287\\nsamples = 9323\\nvalue = [7701, 1622]'), Text(0.6225298713235294, 0.5740740740740741, 'x[2] <= -1.268\\ngini = 0.198\\nsamples = 7157\\nvalue = [6358, 799]'), Text(0.6151769301470589, 0.5370370370370371, 'gini = 0.0\\nsamples = 127\\nvalue = [0, 127]'), Text(0.6298828125, 0.5370370370370371, 'x[112] <= 1.665\\ngini = 0.173\\nsamples = 7030\\nvalue = [6358, 672]'), Text(0.5708869485294118, 0.5, 'x[41] <= 0.5\\ngini = 0.161\\nsamples = 6937\\nvalue = [6324, 613]'), Text(0.5080422794117647, 0.46296296296296297, 'x[30] <= 0.5\\ngini = 0.116\\nsamples = 5532\\nvalue = [5191, 341]'), Text(0.43887867647058826, 0.42592592592592593, 'x[1] <= 0.247\\ngini = 0.089\\nsamples = 5173\\nvalue = [4932, 241]'), Text(0.3740808823529412, 0.3888888888888889, 'x[1] <= -1.116\\ngini = 0.056\\nsamples = 4591\\nvalue = [4459, 132]'), Text(0.3125, 0.35185185185185186, 'x[113] <= 1.115\\ngini = 0.326\\nsamples = 234\\nvalue = [186, 48]'), Text(0.2977941176470588, 0.3148148148148148, 'x[101] <= 0.5\\ngini = 0.044\\nsamples = 178\\nvalue = [174, 4]'), Text(0.29044117647058826, 0.2777777777777778, 'gini = 0.0\\nsamples = 153\\nvalue = [153, 0]'), Text(0.30514705882352944, 0.2777777777777778, 'x[42] <= 0.5\\ngini = 0.269\\nsamples = 25\\nvalue = [21, 4]'), Text(0.2977941176470588, 0.24074074074074073, 'gini = 0.0\\nsamples = 21\\nvalue = [21, 0]'), Text(0.3125, 0.24074074074074073, 'gini = 0.0\\nsamples = 4\\nvalue = [0, 4]'), Text(0.3272058823529412, 0.3148148148148148, 'x[42] <= 0.5\\ngini = 0.337\\nsamples = 56\\nvalue = [12, 44]'), Text(0.31985294117647056, 0.2777777777777778, 'gini = 0.0\\nsamples = 10\\nvalue = [10, 0]'), Text(0.33455882352941174, 0.2777777777777778, 'x[100] <= 0.5\\ngini = 0.083\\nsamples = 46\\nvalue = [2, 44]'), Text(0.3272058823529412, 0.24074074074074073, 'gini = 0.0\\nsamples = 44\\nvalue = [0, 44]'), Text(0.34191176470588236, 0.24074074074074073, 'gini = 0.0\\nsamples = 2\\nvalue = [2, 0]'), Text(0.43566176470588236, 0.35185185185185186, 'x[12] <= 0.5\\ngini = 0.038\\nsamples = 4357\\nvalue = [4273, 84]'), Text(0.4117647058823529, 0.3148148148148148, 'x[51] <= 0.5\\ngini = 0.022\\nsamples = 4176\\nvalue = [4130, 46]'), Text(0.3860294117647059, 0.2777777777777778, 'x[1] <= -1.032\\ngini = 0.007\\nsamples = 3766\\nvalue = [3753, 13]'), Text(0.35661764705882354, 0.24074074074074073, 'x[113] <= 1.251\\ngini = 0.169\\nsamples = 86\\nvalue = [78, 8]'), Text(0.34191176470588236, 0.2037037037037037, 'x[23] <= 0.5\\ngini = 0.025\\nsamples = 78\\nvalue = [77, 1]'), Text(0.33455882352941174, 0.16666666666666666, 'gini = 0.0\\nsamples = 77\\nvalue = [77, 0]'), Text(0.3492647058823529, 0.16666666666666666, 'gini = 0.0\\nsamples = 1\\nvalue = [0, 1]'), Text(0.3713235294117647, 0.2037037037037037, 'x[111] <= 0.5\\ngini = 0.219\\nsamples = 8\\nvalue = [1, 7]'), Text(0.3639705882352941, 0.16666666666666666, 'gini = 0.0\\nsamples = 7\\nvalue = [0, 7]'), Text(0.3786764705882353, 0.16666666666666666, 'gini = 0.0\\nsamples = 1\\nvalue = [1, 0]'), Text(0.41544117647058826, 0.24074074074074073, 'x[18] <= 0.5\\ngini = 0.003\\nsamples = 3680\\nvalue = [3675, 5]'), Text(0.4007352941176471, 0.2037037037037037, 'x[1] <= -0.995\\ngini = 0.001\\nsamples = 3638\\nvalue = [3637, 1]'), Text(0.39338235294117646, 0.16666666666666666, 'x[113] <= 1.231\\ngini = 0.022\\nsamples = 91\\nvalue = [90, 1]'), Text(0.3860294117647059, 0.12962962962962962, 'gini = 0.0\\nsamples = 87\\nvalue = [87, 0]'), Text(0.4007352941176471, 0.12962962962962962, 'x[113] <= 1.288\\ngini = 0.375\\nsamples = 4\\nvalue = [3, 1]'), Text(0.39338235294117646, 0.09259259259259259, 'gini = 0.0\\nsamples = 1\\nvalue = [0, 1]'), Text(0.40808823529411764, 0.09259259259259259, 'gini = 0.0\\nsamples = 3\\nvalue = [3, 0]'), Text(0.40808823529411764, 0.16666666666666666, 'gini = 0.0\\nsamples = 3547\\nvalue = [3547, 0]'), Text(0.43014705882352944, 0.2037037037037037, 'x[94] <= 0.5\\ngini = 0.172\\nsamples = 42\\nvalue = [38, 4]'), Text(0.4227941176470588, 0.16666666666666666, 'gini = 0.0\\nsamples = 38\\nvalue = [38, 0]'), Text(0.4375, 0.16666666666666666, 'gini = 0.0\\nsamples = 4\\nvalue = [0, 4]'), Text(0.4375, 0.2777777777777778, 'x[84] <= 0.5\\ngini = 0.148\\nsamples = 410\\nvalue = [377, 33]'), Text(0.43014705882352944, 0.24074074074074073, 'gini = 0.0\\nsamples = 33\\nvalue = [0, 33]'), Text(0.44485294117647056, 0.24074074074074073, 'gini = 0.0\\nsamples = 377\\nvalue = [377, 0]'), Text(0.45955882352941174, 0.3148148148148148, 'x[2] <= -1.128\\ngini = 0.332\\nsamples = 181\\nvalue = [143, 38]'), Text(0.4522058823529412, 0.2777777777777778, 'gini = 0.0\\nsamples = 143\\nvalue = [143, 0]'), Text(0.46691176470588236, 0.2777777777777778, 'gini = 0.0\\nsamples = 38\\nvalue = [0, 38]'), Text(0.5036764705882353, 0.3888888888888889, 'x[17] <= 0.5\\ngini = 0.304\\nsamples = 582\\nvalue = [473, 109]'), Text(0.48161764705882354, 0.35185185185185186, 'x[35] <= 0.5\\ngini = 0.474\\nsamples = 277\\nvalue = [170, 107]'), Text(0.4742647058823529, 0.3148148148148148, 'gini = 0.0\\nsamples = 137\\nvalue = [137, 0]'), Text(0.4889705882352941, 0.3148148148148148, 'x[113] <= 0.841\\ngini = 0.36\\nsamples = 140\\nvalue = [33, 107]'), Text(0.48161764705882354, 0.2777777777777778, 'x[50] <= 0.5\\ngini = 0.156\\nsamples = 117\\nvalue = [10, 107]'), Text(0.4742647058823529, 0.24074074074074073, 'x[111] <= 0.5\\ngini = 0.053\\nsamples = 110\\nvalue = [3, 107]'), Text(0.46691176470588236, 0.2037037037037037, 'x[1] <= 0.34\\ngini = 0.036\\nsamples = 109\\nvalue = [2, 107]'), Text(0.45955882352941174, 0.16666666666666666, 'x[3] <= 0.5\\ngini = 0.231\\nsamples = 15\\nvalue = [2, 13]'), Text(0.4522058823529412, 0.12962962962962962, 'gini = 0.0\\nsamples = 13\\nvalue = [0, 13]'), Text(0.46691176470588236, 0.12962962962962962, 'gini = 0.0\\nsamples = 2\\nvalue = [2, 0]'), Text(0.4742647058823529, 0.16666666666666666, 'gini = 0.0\\nsamples = 94\\nvalue = [0, 94]'), Text(0.48161764705882354, 0.2037037037037037, 'gini = 0.0\\nsamples = 1\\nvalue = [1, 0]'), Text(0.4889705882352941, 0.24074074074074073, 'gini = 0.0\\nsamples = 7\\nvalue = [7, 0]'), Text(0.4963235294117647, 0.2777777777777778, 'gini = 0.0\\nsamples = 23\\nvalue = [23, 0]'), Text(0.5257352941176471, 0.35185185185185186, 'x[113] <= -6.298\\ngini = 0.013\\nsamples = 305\\nvalue = [303, 2]'), Text(0.5183823529411765, 0.3148148148148148, 'x[23] <= 0.5\\ngini = 0.444\\nsamples = 6\\nvalue = [4, 2]'), Text(0.5110294117647058, 0.2777777777777778, 'gini = 0.0\\nsamples = 4\\nvalue = [4, 0]'), Text(0.5257352941176471, 0.2777777777777778, 'gini = 0.0\\nsamples = 2\\nvalue = [0, 2]'), Text(0.5330882352941176, 0.3148148148148148, 'gini = 0.0\\nsamples = 299\\nvalue = [299, 0]'), Text(0.5772058823529411, 0.42592592592592593, 'x[8] <= 0.5\\ngini = 0.402\\nsamples = 359\\nvalue = [259, 100]'), Text(0.5698529411764706, 0.3888888888888889, 'x[112] <= 0.139\\ngini = 0.264\\nsamples = 307\\nvalue = [259, 48]'), Text(0.5551470588235294, 0.35185185185185186, 'x[112] <= 0.121\\ngini = 0.01\\nsamples = 197\\nvalue = [196, 1]'), Text(0.5477941176470589, 0.3148148148148148, 'gini = 0.0\\nsamples = 188\\nvalue = [188, 0]'), Text(0.5625, 0.3148148148148148, 'x[2] <= -0.515\\ngini = 0.198\\nsamples = 9\\nvalue = [8, 1]'), Text(0.5551470588235294, 0.2777777777777778, 'gini = 0.0\\nsamples = 8\\nvalue = [8, 0]'), Text(0.5698529411764706, 0.2777777777777778, 'gini = 0.0\\nsamples = 1\\nvalue = [0, 1]'), Text(0.5845588235294118, 0.35185185185185186, 'x[43] <= 0.5\\ngini = 0.489\\nsamples = 110\\nvalue = [63, 47]'), Text(0.5772058823529411, 0.3148148148148148, 'gini = 0.0\\nsamples = 47\\nvalue = [0, 47]'), Text(0.5919117647058824, 0.3148148148148148, 'gini = 0.0\\nsamples = 63\\nvalue = [63, 0]'), Text(0.5845588235294118, 0.3888888888888889, 'gini = 0.0\\nsamples = 52\\nvalue = [0, 52]'), Text(0.6337316176470589, 0.46296296296296297, 'x[1] <= -0.264\\ngini = 0.312\\nsamples = 1405\\nvalue = [1133, 272]'), Text(0.6079963235294118, 0.42592592592592593, 'x[112] <= -0.021\\ngini = 0.342\\nsamples = 242\\nvalue = [53, 189]'), Text(0.6006433823529411, 0.3888888888888889, 'gini = 0.0\\nsamples = 31\\nvalue = [31, 0]'), Text(0.6153492647058824, 0.3888888888888889, 'x[2] <= -0.779\\ngini = 0.187\\nsamples = 211\\nvalue = [22, 189]'), Text(0.6079963235294118, 0.35185185185185186, 'gini = 0.0\\nsamples = 22\\nvalue = [22, 0]'), Text(0.6227022058823529, 0.35185185185185186, 'gini = 0.0\\nsamples = 189\\nvalue = [0, 189]'), Text(0.6594669117647058, 0.42592592592592593, 'x[113] <= -1.499\\ngini = 0.133\\nsamples = 1163\\nvalue = [1080, 83]'), Text(0.6447610294117647, 0.3888888888888889, 'x[5] <= 0.5\\ngini = 0.293\\nsamples = 28\\nvalue = [5, 23]'), Text(0.6374080882352942, 0.35185185185185186, 'gini = 0.0\\nsamples = 5\\nvalue = [5, 0]'), Text(0.6521139705882353, 0.35185185185185186, 'gini = 0.0\\nsamples = 23\\nvalue = [0, 23]'), Text(0.6741727941176471, 0.3888888888888889, 'x[21] <= 0.5\\ngini = 0.1\\nsamples = 1135\\nvalue = [1075, 60]'), Text(0.6668198529411765, 0.35185185185185186, 'x[5] <= 0.5\\ngini = 0.083\\nsamples = 1124\\nvalue = [1075, 49]'), Text(0.6066176470588235, 0.3148148148148148, 'x[1] <= -0.203\\ngini = 0.019\\nsamples = 846\\nvalue = [838, 8]'), Text(0.5845588235294118, 0.2777777777777778, 'x[2] <= -0.17\\ngini = 0.298\\nsamples = 22\\nvalue = [18, 4]'), Text(0.5772058823529411, 0.24074074074074073, 'x[2] <= -0.705\\ngini = 0.494\\nsamples = 9\\nvalue = [5, 4]'), Text(0.5698529411764706, 0.2037037037037037, 'gini = 0.0\\nsamples = 5\\nvalue = [5, 0]'), Text(0.5845588235294118, 0.2037037037037037, 'gini = 0.0\\nsamples = 4\\nvalue = [0, 4]'), Text(0.5919117647058824, 0.24074074074074073, 'gini = 0.0\\nsamples = 13\\nvalue = [13, 0]'), Text(0.6286764705882353, 0.2777777777777778, 'x[1] <= -0.061\\ngini = 0.01\\nsamples = 824\\nvalue = [820, 4]'), Text(0.6213235294117647, 0.24074074074074073, 'x[113] <= 0.716\\ngini = 0.1\\nsamples = 76\\nvalue = [72, 4]'), Text(0.5992647058823529, 0.2037037037037037, 'x[1] <= -0.098\\ngini = 0.029\\nsamples = 67\\nvalue = [66, 1]'), Text(0.5919117647058824, 0.16666666666666666, 'gini = 0.0\\nsamples = 47\\nvalue = [47, 0]'), Text(0.6066176470588235, 0.16666666666666666, 'x[1] <= -0.095\\ngini = 0.095\\nsamples = 20\\nvalue = [19, 1]'), Text(0.5992647058823529, 0.12962962962962962, 'gini = 0.0\\nsamples = 1\\nvalue = [0, 1]'), Text(0.6139705882352942, 0.12962962962962962, 'gini = 0.0\\nsamples = 19\\nvalue = [19, 0]'), Text(0.6433823529411765, 0.2037037037037037, 'x[0] <= -0.113\\ngini = 0.444\\nsamples = 9\\nvalue = [6, 3]'), Text(0.6360294117647058, 0.16666666666666666, 'x[2] <= -0.689\\ngini = 0.375\\nsamples = 4\\nvalue = [1, 3]'), Text(0.6286764705882353, 0.12962962962962962, 'gini = 0.0\\nsamples = 1\\nvalue = [1, 0]'), Text(0.6433823529411765, 0.12962962962962962, 'gini = 0.0\\nsamples = 3\\nvalue = [0, 3]'), Text(0.6507352941176471, 0.16666666666666666, 'gini = 0.0\\nsamples = 5\\nvalue = [5, 0]'), Text(0.6360294117647058, 0.24074074074074073, 'gini = 0.0\\nsamples = 748\\nvalue = [748, 0]'), Text(0.7270220588235294, 0.3148148148148148, 'x[56] <= 0.5\\ngini = 0.251\\nsamples = 278\\nvalue = [237, 41]'), Text(0.7196691176470589, 0.2777777777777778, 'x[113] <= 0.909\\ngini = 0.155\\nsamples = 259\\nvalue = [237, 22]'), Text(0.6966911764705882, 0.24074074074074073, 'x[113] <= -0.274\\ngini = 0.085\\nsamples = 247\\nvalue = [236, 11]'), Text(0.6727941176470589, 0.2037037037037037, 'x[0] <= -0.105\\ngini = 0.32\\nsamples = 5\\nvalue = [1, 4]'), Text(0.6654411764705882, 0.16666666666666666, 'gini = 0.0\\nsamples = 1\\nvalue = [1, 0]'), Text(0.6801470588235294, 0.16666666666666666, 'gini = 0.0\\nsamples = 4\\nvalue = [0, 4]'), Text(0.7205882352941176, 0.2037037037037037, 'x[113] <= 0.642\\ngini = 0.056\\nsamples = 242\\nvalue = [235, 7]'), Text(0.6948529411764706, 0.16666666666666666, 'x[50] <= 0.5\\ngini = 0.034\\nsamples = 228\\nvalue = [224, 4]'), Text(0.6801470588235294, 0.12962962962962962, 'x[113] <= 0.514\\ngini = 0.011\\nsamples = 185\\nvalue = [184, 1]'), Text(0.6727941176470589, 0.09259259259259259, 'gini = 0.0\\nsamples = 155\\nvalue = [155, 0]'), Text(0.6875, 0.09259259259259259, 'x[113] <= 0.515\\ngini = 0.064\\nsamples = 30\\nvalue = [29, 1]'), Text(0.6801470588235294, 0.05555555555555555, 'gini = 0.0\\nsamples = 1\\nvalue = [0, 1]'), Text(0.6948529411764706, 0.05555555555555555, 'gini = 0.0\\nsamples = 29\\nvalue = [29, 0]'), Text(0.7095588235294118, 0.12962962962962962, 'x[113] <= 0.14\\ngini = 0.13\\nsamples = 43\\nvalue = [40, 3]'), Text(0.7022058823529411, 0.09259259259259259, 'gini = 0.0\\nsamples = 1\\nvalue = [0, 1]'), Text(0.7169117647058824, 0.09259259259259259, 'x[0] <= -0.069\\ngini = 0.091\\nsamples = 42\\nvalue = [40, 2]'), Text(0.7095588235294118, 0.05555555555555555, 'gini = 0.0\\nsamples = 33\\nvalue = [33, 0]'), Text(0.7242647058823529, 0.05555555555555555, 'x[2] <= 0.788\\ngini = 0.346\\nsamples = 9\\nvalue = [7, 2]'), Text(0.7169117647058824, 0.018518518518518517, 'gini = 0.0\\nsamples = 2\\nvalue = [0, 2]'), Text(0.7316176470588235, 0.018518518518518517, 'gini = 0.0\\nsamples = 7\\nvalue = [7, 0]'), Text(0.7463235294117647, 0.16666666666666666, 'x[0] <= 0.274\\ngini = 0.337\\nsamples = 14\\nvalue = [11, 3]'), Text(0.7389705882352942, 0.12962962962962962, 'x[0] <= -0.5\\ngini = 0.5\\nsamples = 6\\nvalue = [3, 3]'), Text(0.7316176470588235, 0.09259259259259259, 'gini = 0.0\\nsamples = 3\\nvalue = [3, 0]'), Text(0.7463235294117647, 0.09259259259259259, 'gini = 0.0\\nsamples = 3\\nvalue = [0, 3]'), Text(0.7536764705882353, 0.12962962962962962, 'gini = 0.0\\nsamples = 8\\nvalue = [8, 0]'), Text(0.7426470588235294, 0.24074074074074073, 'x[0] <= 0.927\\ngini = 0.153\\nsamples = 12\\nvalue = [1, 11]'), Text(0.7352941176470589, 0.2037037037037037, 'gini = 0.0\\nsamples = 11\\nvalue = [0, 11]'), Text(0.75, 0.2037037037037037, 'gini = 0.0\\nsamples = 1\\nvalue = [1, 0]'), Text(0.734375, 0.2777777777777778, 'gini = 0.0\\nsamples = 19\\nvalue = [0, 19]'), Text(0.6815257352941176, 0.35185185185185186, 'gini = 0.0\\nsamples = 11\\nvalue = [0, 11]'), Text(0.6888786764705882, 0.5, 'x[20] <= 0.5\\ngini = 0.464\\nsamples = 93\\nvalue = [34, 59]'), Text(0.6815257352941176, 0.46296296296296297, 'x[18] <= 0.5\\ngini = 0.4\\nsamples = 47\\nvalue = [34, 13]'), Text(0.6741727941176471, 0.42592592592592593, 'gini = 0.0\\nsamples = 34\\nvalue = [34, 0]'), Text(0.6888786764705882, 0.42592592592592593, 'gini = 0.0\\nsamples = 13\\nvalue = [0, 13]'), Text(0.6962316176470589, 0.46296296296296297, 'gini = 0.0\\nsamples = 46\\nvalue = [0, 46]'), Text(0.8125, 0.5740740740740741, 'x[17] <= 0.5\\ngini = 0.471\\nsamples = 2166\\nvalue = [1343, 823]'), Text(0.8051470588235294, 0.5370370370370371, 'gini = 0.0\\nsamples = 652\\nvalue = [652, 0]'), Text(0.8198529411764706, 0.5370370370370371, 'x[35] <= 0.5\\ngini = 0.496\\nsamples = 1514\\nvalue = [691, 823]'), Text(0.8051470588235294, 0.5, 'x[1] <= 1.811\\ngini = 0.377\\nsamples = 1038\\nvalue = [262, 776]'), Text(0.7977941176470589, 0.46296296296296297, 'x[112] <= -0.008\\ngini = 0.263\\nsamples = 919\\nvalue = [143, 776]'), Text(0.7757352941176471, 0.42592592592592593, 'x[34] <= 0.5\\ngini = 0.49\\nsamples = 292\\nvalue = [125, 167]'), Text(0.7683823529411765, 0.3888888888888889, 'x[32] <= 0.5\\ngini = 0.171\\nsamples = 138\\nvalue = [125, 13]'), Text(0.7610294117647058, 0.35185185185185186, 'gini = 0.0\\nsamples = 123\\nvalue = [123, 0]'), Text(0.7757352941176471, 0.35185185185185186, 'x[85] <= 0.5\\ngini = 0.231\\nsamples = 15\\nvalue = [2, 13]'), Text(0.7683823529411765, 0.3148148148148148, 'gini = 0.0\\nsamples = 13\\nvalue = [0, 13]'), Text(0.7830882352941176, 0.3148148148148148, 'gini = 0.0\\nsamples = 2\\nvalue = [2, 0]'), Text(0.7830882352941176, 0.3888888888888889, 'gini = 0.0\\nsamples = 154\\nvalue = [0, 154]'), Text(0.8198529411764706, 0.42592592592592593, 'x[111] <= 0.5\\ngini = 0.056\\nsamples = 627\\nvalue = [18, 609]'), Text(0.8125, 0.3888888888888889, 'x[109] <= 0.5\\ngini = 0.032\\nsamples = 619\\nvalue = [10, 609]'), Text(0.8051470588235294, 0.35185185185185186, 'x[53] <= 0.5\\ngini = 0.022\\nsamples = 616\\nvalue = [7, 609]'), Text(0.7977941176470589, 0.3148148148148148, 'x[52] <= 0.5\\ngini = 0.016\\nsamples = 614\\nvalue = [5, 609]'), Text(0.7904411764705882, 0.2777777777777778, 'x[42] <= 0.5\\ngini = 0.013\\nsamples = 613\\nvalue = [4, 609]'), Text(0.7830882352941176, 0.24074074074074073, 'gini = 0.0\\nsamples = 1\\nvalue = [1, 0]'), Text(0.7977941176470589, 0.24074074074074073, 'x[113] <= 453.3\\ngini = 0.01\\nsamples = 612\\nvalue = [3, 609]'), Text(0.7904411764705882, 0.2037037037037037, 'x[113] <= 26.689\\ngini = 0.007\\nsamples = 611\\nvalue = [2, 609]'), Text(0.7757352941176471, 0.16666666666666666, 'x[113] <= 7.845\\ngini = 0.003\\nsamples = 606\\nvalue = [1, 605]'), Text(0.7683823529411765, 0.12962962962962962, 'gini = 0.0\\nsamples = 586\\nvalue = [0, 586]'), Text(0.7830882352941176, 0.12962962962962962, 'x[113] <= 7.975\\ngini = 0.095\\nsamples = 20\\nvalue = [1, 19]'), Text(0.7757352941176471, 0.09259259259259259, 'gini = 0.0\\nsamples = 1\\nvalue = [1, 0]'), Text(0.7904411764705882, 0.09259259259259259, 'gini = 0.0\\nsamples = 19\\nvalue = [0, 19]'), Text(0.8051470588235294, 0.16666666666666666, 'x[0] <= -0.013\\ngini = 0.32\\nsamples = 5\\nvalue = [1, 4]'), Text(0.7977941176470589, 0.12962962962962962, 'gini = 0.0\\nsamples = 1\\nvalue = [1, 0]'), Text(0.8125, 0.12962962962962962, 'gini = 0.0\\nsamples = 4\\nvalue = [0, 4]'), Text(0.8051470588235294, 0.2037037037037037, 'gini = 0.0\\nsamples = 1\\nvalue = [1, 0]'), Text(0.8051470588235294, 0.2777777777777778, 'gini = 0.0\\nsamples = 1\\nvalue = [1, 0]'), Text(0.8125, 0.3148148148148148, 'gini = 0.0\\nsamples = 2\\nvalue = [2, 0]'), Text(0.8198529411764706, 0.35185185185185186, 'gini = 0.0\\nsamples = 3\\nvalue = [3, 0]'), Text(0.8272058823529411, 0.3888888888888889, 'gini = 0.0\\nsamples = 8\\nvalue = [8, 0]'), Text(0.8125, 0.46296296296296297, 'gini = 0.0\\nsamples = 119\\nvalue = [119, 0]'), Text(0.8345588235294118, 0.5, 'x[30] <= 0.5\\ngini = 0.178\\nsamples = 476\\nvalue = [429, 47]'), Text(0.8272058823529411, 0.46296296296296297, 'gini = 0.0\\nsamples = 418\\nvalue = [418, 0]'), Text(0.8419117647058824, 0.46296296296296297, 'x[0] <= 0.073\\ngini = 0.307\\nsamples = 58\\nvalue = [11, 47]'), Text(0.8345588235294118, 0.42592592592592593, 'gini = 0.0\\nsamples = 47\\nvalue = [0, 47]'), Text(0.8492647058823529, 0.42592592592592593, 'gini = 0.0\\nsamples = 11\\nvalue = [11, 0]'), Text(0.6736988740808824, 0.6481481481481481, 'gini = 0.0\\nsamples = 248\\nvalue = [0, 248]'), Text(0.8897058823529411, 0.6851851851851852, 'x[113] <= 0.708\\ngini = 0.362\\nsamples = 561\\nvalue = [133, 428]'), Text(0.8639705882352942, 0.6481481481481481, 'x[17] <= 0.5\\ngini = 0.116\\nsamples = 436\\nvalue = [27, 409]'), Text(0.8566176470588235, 0.6111111111111112, 'x[35] <= 0.5\\ngini = 0.033\\nsamples = 416\\nvalue = [7, 409]'), Text(0.8419117647058824, 0.5740740740740741, 'x[0] <= 1.617\\ngini = 0.245\\nsamples = 7\\nvalue = [6, 1]'), Text(0.8345588235294118, 0.5370370370370371, 'gini = 0.0\\nsamples = 6\\nvalue = [6, 0]'), Text(0.8492647058823529, 0.5370370370370371, 'gini = 0.0\\nsamples = 1\\nvalue = [0, 1]'), Text(0.8713235294117647, 0.5740740740740741, 'x[57] <= 0.5\\ngini = 0.005\\nsamples = 409\\nvalue = [1, 408]'), Text(0.8639705882352942, 0.5370370370370371, 'gini = 0.0\\nsamples = 1\\nvalue = [1, 0]'), Text(0.8786764705882353, 0.5370370370370371, 'gini = 0.0\\nsamples = 408\\nvalue = [0, 408]'), Text(0.8713235294117647, 0.6111111111111112, 'gini = 0.0\\nsamples = 20\\nvalue = [20, 0]'), Text(0.9154411764705882, 0.6481481481481481, 'x[2] <= 2.648\\ngini = 0.258\\nsamples = 125\\nvalue = [106, 19]'), Text(0.9080882352941176, 0.6111111111111112, 'x[3] <= 0.5\\ngini = 0.131\\nsamples = 114\\nvalue = [106, 8]'), Text(0.9007352941176471, 0.5740740740740741, 'x[0] <= 0.702\\ngini = 0.054\\nsamples = 109\\nvalue = [106, 3]'), Text(0.8933823529411765, 0.5370370370370371, 'gini = 0.0\\nsamples = 2\\nvalue = [0, 2]'), Text(0.9080882352941176, 0.5370370370370371, 'x[112] <= 4.51\\ngini = 0.019\\nsamples = 107\\nvalue = [106, 1]'), Text(0.9007352941176471, 0.5, 'gini = 0.0\\nsamples = 106\\nvalue = [106, 0]'), Text(0.9154411764705882, 0.5, 'gini = 0.0\\nsamples = 1\\nvalue = [0, 1]'), Text(0.9154411764705882, 0.5740740740740741, 'gini = 0.0\\nsamples = 5\\nvalue = [0, 5]'), Text(0.9227941176470589, 0.6111111111111112, 'gini = 0.0\\nsamples = 11\\nvalue = [0, 11]'), Text(0.7927317899816176, 0.7222222222222222, 'gini = 0.0\\nsamples = 278\\nvalue = [0, 278]'), Text(0.9044117647058824, 0.7592592592592593, 'x[17] <= 0.5\\ngini = 0.288\\nsamples = 511\\nvalue = [89, 422]'), Text(0.8970588235294118, 0.7222222222222222, 'gini = 0.0\\nsamples = 357\\nvalue = [0, 357]'), Text(0.9117647058823529, 0.7222222222222222, 'x[2] <= -0.097\\ngini = 0.488\\nsamples = 154\\nvalue = [89, 65]'), Text(0.9044117647058824, 0.6851851851851852, 'gini = 0.0\\nsamples = 65\\nvalue = [0, 65]'), Text(0.9191176470588235, 0.6851851851851852, 'gini = 0.0\\nsamples = 89\\nvalue = [89, 0]'), Text(0.9632352941176471, 0.7962962962962963, 'x[53] <= 0.5\\ngini = 0.165\\nsamples = 561\\nvalue = [51, 510]'), Text(0.9558823529411765, 0.7592592592592593, 'x[2] <= 1.141\\ngini = 0.083\\nsamples = 533\\nvalue = [23, 510]'), Text(0.9411764705882353, 0.7222222222222222, 'x[112] <= -0.474\\ngini = 0.008\\nsamples = 511\\nvalue = [2, 509]'), Text(0.9338235294117647, 0.6851851851851852, 'gini = 0.0\\nsamples = 1\\nvalue = [1, 0]'), Text(0.9485294117647058, 0.6851851851851852, 'x[2] <= 1.079\\ngini = 0.004\\nsamples = 510\\nvalue = [1, 509]'), Text(0.9411764705882353, 0.6481481481481481, 'gini = 0.0\\nsamples = 507\\nvalue = [0, 507]'), Text(0.9558823529411765, 0.6481481481481481, 'x[50] <= 0.5\\ngini = 0.444\\nsamples = 3\\nvalue = [1, 2]'), Text(0.9485294117647058, 0.6111111111111112, 'gini = 0.0\\nsamples = 2\\nvalue = [0, 2]'), Text(0.9632352941176471, 0.6111111111111112, 'gini = 0.0\\nsamples = 1\\nvalue = [1, 0]'), Text(0.9705882352941176, 0.7222222222222222, 'x[17] <= 0.5\\ngini = 0.087\\nsamples = 22\\nvalue = [21, 1]'), Text(0.9632352941176471, 0.6851851851851852, 'gini = 0.0\\nsamples = 1\\nvalue = [0, 1]'), Text(0.9779411764705882, 0.6851851851851852, 'gini = 0.0\\nsamples = 21\\nvalue = [21, 0]'), Text(0.9705882352941176, 0.7592592592592593, 'gini = 0.0\\nsamples = 28\\nvalue = [28, 0]'), Text(0.9852941176470589, 0.8333333333333334, 'x[1] <= 1.075\\ngini = 0.183\\nsamples = 630\\nvalue = [64, 566]'), Text(0.9779411764705882, 0.7962962962962963, 'gini = 0.0\\nsamples = 566\\nvalue = [0, 566]'), Text(0.9926470588235294, 0.7962962962962963, 'gini = 0.0\\nsamples = 64\\nvalue = [64, 0]'), Text(0.959385591394761, 0.8703703703703703, 'gini = 0.0\\nsamples = 562\\nvalue = [0, 562]')]\n"
          ]
        },
        {
          "output_type": "display_data",
          "data": {
            "text/plain": [
              "<Figure size 1080x576 with 1 Axes>"
            ],
            "image/png": "[encoded data removed]"
          },
          "metadata": {
            "needs_background": "light"
          }
        }
      ]
    },
    {
      "cell_type": "code",
      "source": [
        "### pruning decision tree\n",
        "\n",
        "# find the best max_length to use without negatively affecting the decision tree\n",
        "max_depth = []\n",
        "acc_gini = []\n",
        "acc_entropy = []\n",
        "for i in range(1,30):\n",
        " dtree = tree.DecisionTreeClassifier(criterion='gini', max_depth=i)\n",
        " dtree.fit(X_train, Y_train)\n",
        " pred = dtree.predict(X_test)\n",
        " acc_gini.append(metrics.accuracy_score(Y_test, pred))\n",
        " ####\n",
        " max_depth.append(i)\n",
        "d = pd.DataFrame({'acc_gini':pd.Series(acc_gini), \n",
        " 'max_depth':pd.Series(max_depth)})\n",
        "\n",
        "# plot to find the max_depth value when elbow occurs\n",
        "plt.plot('max_depth','acc_gini', data=d, label='gini')\n",
        "plt.xlabel('max_depth')\n",
        "plt.ylabel('accuracy')\n",
        "\n",
        "# we should use max_depth = 15"
      ],
      "metadata": {
        "colab": {
          "base_uri": "https://localhost:8080/",
          "height": 516
        },
        "id": "K2w-ZCcGo4Qs",
        "outputId": "c2b2ed23-9e70-4d61-ad28-743b2fc35b1c"
      },
      "execution_count": 70,
      "outputs": [
        {
          "output_type": "execute_result",
          "data": {
            "text/plain": [
              "Text(0, 0.5, 'accuracy')"
            ]
          },
          "metadata": {},
          "execution_count": 70
        },
        {
          "output_type": "display_data",
          "data": {
            "text/plain": [
              "<Figure size 1080x576 with 1 Axes>"
            ],
            "image/png": "[encoded data removed]"
          },
          "metadata": {
            "needs_background": "light"
          }
        }
      ]
    },
    {
      "cell_type": "code",
      "source": [
        "# prune the decision tree by using max_depth = 15\n",
        "\n",
        "# call the pruned model\n",
        "tree_model_prune = tree.DecisionTreeClassifier(max_depth = 15)\n",
        "\n",
        "# fit the model with our data\n",
        "tree_fit_prune = tree_model_prune.fit(X_train, Y_train)\n",
        "\n",
        "# predict using our model\n",
        "tree_pred_prune = tree_fit_prune.predict(X_test)\n",
        "\n",
        "# accuracy score of pruned model\n",
        "print(\"%-12s %f\" % ('Accuracy:', metrics.accuracy_score(tree_pred_prune, Y_test)))"
      ],
      "metadata": {
        "colab": {
          "base_uri": "https://localhost:8080/",
          "height": 0
        },
        "id": "_o88PfnCiwPD",
        "outputId": "f654d649-f00b-4a2c-9f76-ee89a967eb77"
      },
      "execution_count": 71,
      "outputs": [
        {
          "output_type": "stream",
          "name": "stdout",
          "text": [
            "Accuracy:    0.983172\n"
          ]
        }
      ]
    },
    {
      "cell_type": "code",
      "source": [
        "# overall image of the pruned decision tree\n",
        "print(tree.plot_tree(tree_model_prune))\n"
      ],
      "metadata": {
        "colab": {
          "base_uri": "https://localhost:8080/",
          "height": 504
        },
        "id": "hgH03NS1rAgi",
        "outputId": "f4236a61-3cca-4693-c1a8-d348b8aa9140"
      },
      "execution_count": 72,
      "outputs": [
        {
          "output_type": "stream",
          "name": "stdout",
          "text": [
            "[Text(0.5856309557174888, 0.96875, 'x[77] <= 0.5\\ngini = 0.487\\nsamples = 40170\\nvalue = [16830, 23340]'), Text(0.3961427970852018, 0.90625, 'x[55] <= 0.5\\ngini = 0.436\\nsamples = 23262\\nvalue = [7456, 15806]'), Text(0.28555913677130046, 0.84375, 'x[78] <= 0.5\\ngini = 0.355\\nsamples = 17565\\nvalue = [4052, 13513]'), Text(0.2765905269058296, 0.78125, 'x[43] <= 0.5\\ngini = 0.407\\nsamples = 14268\\nvalue = [4052, 10216]'), Text(0.2165779147982063, 0.71875, 'x[4] <= 0.5\\ngini = 0.363\\nsamples = 12751\\nvalue = [3036, 9715]'), Text(0.15036434977578475, 0.65625, 'x[2] <= -0.712\\ngini = 0.344\\nsamples = 12439\\nvalue = [2750, 9689]'), Text(0.04484304932735426, 0.59375, 'x[34] <= 0.5\\ngini = 0.076\\nsamples = 3772\\nvalue = [149, 3623]'), Text(0.026905829596412557, 0.53125, 'x[92] <= 0.5\\ngini = 0.012\\nsamples = 3588\\nvalue = [22, 3566]'), Text(0.017937219730941704, 0.46875, 'x[2] <= -0.724\\ngini = 0.001\\nsamples = 3568\\nvalue = [2, 3566]'), Text(0.008968609865470852, 0.40625, 'gini = 0.0\\nsamples = 3498\\nvalue = [0, 3498]'), Text(0.026905829596412557, 0.40625, 'x[28] <= 0.5\\ngini = 0.056\\nsamples = 70\\nvalue = [2, 68]'), Text(0.017937219730941704, 0.34375, 'gini = 0.0\\nsamples = 67\\nvalue = [0, 67]'), Text(0.03587443946188341, 0.34375, 'x[113] <= 0.897\\ngini = 0.444\\nsamples = 3\\nvalue = [2, 1]'), Text(0.026905829596412557, 0.28125, 'gini = 0.0\\nsamples = 1\\nvalue = [0, 1]'), Text(0.04484304932735426, 0.28125, 'gini = 0.0\\nsamples = 2\\nvalue = [2, 0]'), Text(0.03587443946188341, 0.46875, 'gini = 0.0\\nsamples = 20\\nvalue = [20, 0]'), Text(0.06278026905829596, 0.53125, 'x[52] <= 0.5\\ngini = 0.428\\nsamples = 184\\nvalue = [127, 57]'), Text(0.053811659192825115, 0.46875, 'gini = 0.0\\nsamples = 47\\nvalue = [0, 47]'), Text(0.07174887892376682, 0.46875, 'x[17] <= 0.5\\ngini = 0.135\\nsamples = 137\\nvalue = [127, 10]'), Text(0.06278026905829596, 0.40625, 'gini = 0.0\\nsamples = 127\\nvalue = [127, 0]'), Text(0.08071748878923767, 0.40625, 'gini = 0.0\\nsamples = 10\\nvalue = [0, 10]'), Text(0.2558856502242152, 0.59375, 'x[17] <= 0.5\\ngini = 0.42\\nsamples = 8667\\nvalue = [2601, 6066]'), Text(0.19338565022421525, 0.53125, 'x[51] <= 0.5\\ngini = 0.337\\nsamples = 5462\\nvalue = [1170, 4292]'), Text(0.1491031390134529, 0.46875, 'x[6] <= 0.5\\ngini = 0.301\\nsamples = 5154\\nvalue = [953, 4201]'), Text(0.14013452914798205, 0.40625, 'x[41] <= 0.5\\ngini = 0.276\\nsamples = 5034\\nvalue = [833, 4201]'), Text(0.10538116591928251, 0.34375, 'x[52] <= 0.5\\ngini = 0.246\\nsamples = 4892\\nvalue = [703, 4189]'), Text(0.06278026905829596, 0.28125, 'x[40] <= 0.5\\ngini = 0.146\\nsamples = 3894\\nvalue = [308, 3586]'), Text(0.03139013452914798, 0.21875, 'x[46] <= 0.5\\ngini = 0.054\\nsamples = 3086\\nvalue = [86, 3000]'), Text(0.02242152466367713, 0.15625, 'gini = 0.0\\nsamples = 2843\\nvalue = [0, 2843]'), Text(0.04035874439461883, 0.15625, 'x[100] <= 0.5\\ngini = 0.457\\nsamples = 243\\nvalue = [86, 157]'), Text(0.03139013452914798, 0.09375, 'gini = 0.0\\nsamples = 86\\nvalue = [86, 0]'), Text(0.04932735426008968, 0.09375, 'gini = 0.0\\nsamples = 157\\nvalue = [0, 157]'), Text(0.09417040358744394, 0.21875, 'x[1] <= 0.45\\ngini = 0.399\\nsamples = 808\\nvalue = [222, 586]'), Text(0.07623318385650224, 0.15625, 'x[12] <= 0.5\\ngini = 0.052\\nsamples = 559\\nvalue = [15, 544]'), Text(0.06726457399103139, 0.09375, 'x[27] <= 0.5\\ngini = 0.025\\nsamples = 551\\nvalue = [7, 544]'), Text(0.05829596412556054, 0.03125, 'gini = 0.011\\nsamples = 547\\nvalue = [3, 544]'), Text(0.07623318385650224, 0.03125, 'gini = 0.0\\nsamples = 4\\nvalue = [4, 0]'), Text(0.08520179372197309, 0.09375, 'gini = 0.0\\nsamples = 8\\nvalue = [8, 0]'), Text(0.11210762331838565, 0.15625, 'x[2] <= 0.558\\ngini = 0.28\\nsamples = 249\\nvalue = [207, 42]'), Text(0.1031390134529148, 0.09375, 'gini = 0.0\\nsamples = 207\\nvalue = [207, 0]'), Text(0.1210762331838565, 0.09375, 'gini = 0.0\\nsamples = 42\\nvalue = [0, 42]'), Text(0.14798206278026907, 0.28125, 'x[74] <= 0.5\\ngini = 0.478\\nsamples = 998\\nvalue = [395, 603]'), Text(0.13901345291479822, 0.21875, 'x[62] <= 0.5\\ngini = 0.24\\nsamples = 459\\nvalue = [395, 64]'), Text(0.13004484304932734, 0.15625, 'gini = 0.0\\nsamples = 395\\nvalue = [395, 0]'), Text(0.14798206278026907, 0.15625, 'gini = 0.0\\nsamples = 64\\nvalue = [0, 64]'), Text(0.15695067264573992, 0.21875, 'gini = 0.0\\nsamples = 539\\nvalue = [0, 539]'), Text(0.17488789237668162, 0.34375, 'x[52] <= 0.5\\ngini = 0.155\\nsamples = 142\\nvalue = [130, 12]'), Text(0.16591928251121077, 0.28125, 'gini = 0.0\\nsamples = 130\\nvalue = [130, 0]'), Text(0.18385650224215247, 0.28125, 'gini = 0.0\\nsamples = 12\\nvalue = [0, 12]'), Text(0.15807174887892378, 0.40625, 'gini = 0.0\\nsamples = 120\\nvalue = [120, 0]'), Text(0.23766816143497757, 0.46875, 'x[112] <= 0.613\\ngini = 0.416\\nsamples = 308\\nvalue = [217, 91]'), Text(0.21973094170403587, 0.40625, 'x[20] <= 0.5\\ngini = 0.044\\nsamples = 220\\nvalue = [215, 5]'), Text(0.21076233183856502, 0.34375, 'x[92] <= 0.5\\ngini = 0.018\\nsamples = 217\\nvalue = [215, 2]'), Text(0.20179372197309417, 0.28125, 'gini = 0.0\\nsamples = 215\\nvalue = [215, 0]'), Text(0.21973094170403587, 0.28125, 'gini = 0.0\\nsamples = 2\\nvalue = [0, 2]'), Text(0.22869955156950672, 0.34375, 'gini = 0.0\\nsamples = 3\\nvalue = [0, 3]'), Text(0.2556053811659193, 0.40625, 'x[22] <= 0.5\\ngini = 0.044\\nsamples = 88\\nvalue = [2, 86]'), Text(0.24663677130044842, 0.34375, 'gini = 0.0\\nsamples = 86\\nvalue = [0, 86]'), Text(0.2645739910313901, 0.34375, 'gini = 0.0\\nsamples = 2\\nvalue = [2, 0]'), Text(0.3183856502242152, 0.53125, 'x[64] <= 0.5\\ngini = 0.494\\nsamples = 3205\\nvalue = [1431, 1774]'), Text(0.3004484304932735, 0.46875, 'x[37] <= 0.5\\ngini = 0.21\\nsamples = 1082\\nvalue = [129, 953]'), Text(0.2914798206278027, 0.40625, 'x[5] <= 0.5\\ngini = 0.118\\nsamples = 1017\\nvalue = [64, 953]'), Text(0.2825112107623318, 0.34375, 'gini = 0.0\\nsamples = 953\\nvalue = [0, 953]'), Text(0.3004484304932735, 0.34375, 'gini = 0.0\\nsamples = 64\\nvalue = [64, 0]'), Text(0.3094170403587444, 0.40625, 'gini = 0.0\\nsamples = 65\\nvalue = [65, 0]'), Text(0.336322869955157, 0.46875, 'x[34] <= 0.5\\ngini = 0.474\\nsamples = 2123\\nvalue = [1302, 821]'), Text(0.3273542600896861, 0.40625, 'x[56] <= 0.5\\ngini = 0.357\\nsamples = 1696\\nvalue = [1302, 394]'), Text(0.3183856502242152, 0.34375, 'x[37] <= 0.5\\ngini = 0.11\\nsamples = 1383\\nvalue = [1302, 81]'), Text(0.3094170403587444, 0.28125, 'x[1] <= -0.911\\ngini = 0.037\\nsamples = 1327\\nvalue = [1302, 25]'), Text(0.2914798206278027, 0.21875, 'x[27] <= 0.5\\ngini = 0.32\\nsamples = 30\\nvalue = [6, 24]'), Text(0.2825112107623318, 0.15625, 'gini = 0.0\\nsamples = 6\\nvalue = [6, 0]'), Text(0.3004484304932735, 0.15625, 'gini = 0.0\\nsamples = 24\\nvalue = [0, 24]'), Text(0.3273542600896861, 0.21875, 'x[1] <= -0.852\\ngini = 0.002\\nsamples = 1297\\nvalue = [1296, 1]'), Text(0.3183856502242152, 0.15625, 'x[36] <= 0.5\\ngini = 0.245\\nsamples = 7\\nvalue = [6, 1]'), Text(0.3094170403587444, 0.09375, 'gini = 0.0\\nsamples = 6\\nvalue = [6, 0]'), Text(0.3273542600896861, 0.09375, 'gini = 0.0\\nsamples = 1\\nvalue = [0, 1]'), Text(0.336322869955157, 0.15625, 'gini = 0.0\\nsamples = 1290\\nvalue = [1290, 0]'), Text(0.3273542600896861, 0.28125, 'gini = 0.0\\nsamples = 56\\nvalue = [0, 56]'), Text(0.336322869955157, 0.34375, 'gini = 0.0\\nsamples = 313\\nvalue = [0, 313]'), Text(0.3452914798206278, 0.40625, 'gini = 0.0\\nsamples = 427\\nvalue = [0, 427]'), Text(0.2827914798206278, 0.65625, 'x[50] <= 0.5\\ngini = 0.153\\nsamples = 312\\nvalue = [286, 26]'), Text(0.273822869955157, 0.59375, 'gini = 0.0\\nsamples = 286\\nvalue = [286, 0]'), Text(0.2917600896860987, 0.59375, 'gini = 0.0\\nsamples = 26\\nvalue = [0, 26]'), Text(0.3366031390134529, 0.71875, 'x[1] <= -1.128\\ngini = 0.442\\nsamples = 1517\\nvalue = [1016, 501]'), Text(0.3186659192825112, 0.65625, 'x[113] <= 0.716\\ngini = 0.007\\nsamples = 290\\nvalue = [1, 289]'), Text(0.3096973094170404, 0.59375, 'gini = 0.0\\nsamples = 1\\nvalue = [1, 0]'), Text(0.3276345291479821, 0.59375, 'gini = 0.0\\nsamples = 289\\nvalue = [0, 289]'), Text(0.3545403587443946, 0.65625, 'x[16] <= 0.5\\ngini = 0.286\\nsamples = 1227\\nvalue = [1015, 212]'), Text(0.3455717488789238, 0.59375, 'x[34] <= 0.5\\ngini = 0.118\\nsamples = 1083\\nvalue = [1015, 68]'), Text(0.3366031390134529, 0.53125, 'gini = 0.0\\nsamples = 1015\\nvalue = [1015, 0]'), Text(0.3545403587443946, 0.53125, 'gini = 0.0\\nsamples = 68\\nvalue = [0, 68]'), Text(0.3635089686098655, 0.59375, 'gini = 0.0\\nsamples = 144\\nvalue = [0, 144]'), Text(0.2945277466367713, 0.78125, 'gini = 0.0\\nsamples = 3297\\nvalue = [0, 3297]'), Text(0.5067264573991032, 0.84375, 'x[34] <= 0.5\\ngini = 0.481\\nsamples = 5697\\nvalue = [3404, 2293]'), Text(0.4798206278026906, 0.78125, 'x[2] <= -0.254\\ngini = 0.442\\nsamples = 4867\\nvalue = [3259, 1608]'), Text(0.452914798206278, 0.71875, 'x[3] <= 0.5\\ngini = 0.494\\nsamples = 2344\\nvalue = [1049, 1295]'), Text(0.4439461883408072, 0.65625, 'x[65] <= 0.5\\ngini = 0.465\\nsamples = 2051\\nvalue = [756, 1295]'), Text(0.4349775784753363, 0.59375, 'x[69] <= 0.5\\ngini = 0.391\\nsamples = 1766\\nvalue = [471, 1295]'), Text(0.4260089686098655, 0.53125, 'x[13] <= 0.5\\ngini = 0.321\\nsamples = 1621\\nvalue = [326, 1295]'), Text(0.4080717488789238, 0.46875, 'x[27] <= 0.5\\ngini = 0.173\\nsamples = 1329\\nvalue = [127, 1202]'), Text(0.3991031390134529, 0.40625, 'x[2] <= -0.346\\ngini = 0.131\\nsamples = 1293\\nvalue = [91, 1202]'), Text(0.3811659192825112, 0.34375, 'x[63] <= 0.5\\ngini = 0.069\\nsamples = 1176\\nvalue = [42, 1134]'), Text(0.3721973094170404, 0.28125, 'x[109] <= 0.5\\ngini = 0.052\\nsamples = 1165\\nvalue = [31, 1134]'), Text(0.3632286995515695, 0.21875, 'x[73] <= 0.5\\ngini = 0.044\\nsamples = 1160\\nvalue = [26, 1134]'), Text(0.3542600896860987, 0.15625, 'x[111] <= 0.5\\ngini = 0.039\\nsamples = 1157\\nvalue = [23, 1134]'), Text(0.3452914798206278, 0.09375, 'x[2] <= -0.844\\ngini = 0.036\\nsamples = 1155\\nvalue = [21, 1134]'), Text(0.336322869955157, 0.03125, 'gini = 0.0\\nsamples = 854\\nvalue = [0, 854]'), Text(0.3542600896860987, 0.03125, 'gini = 0.13\\nsamples = 301\\nvalue = [21, 280]'), Text(0.3632286995515695, 0.09375, 'gini = 0.0\\nsamples = 2\\nvalue = [2, 0]'), Text(0.3721973094170404, 0.15625, 'gini = 0.0\\nsamples = 3\\nvalue = [3, 0]'), Text(0.3811659192825112, 0.21875, 'gini = 0.0\\nsamples = 5\\nvalue = [5, 0]'), Text(0.3901345291479821, 0.28125, 'gini = 0.0\\nsamples = 11\\nvalue = [11, 0]'), Text(0.4170403587443946, 0.34375, 'x[57] <= 0.5\\ngini = 0.487\\nsamples = 117\\nvalue = [49, 68]'), Text(0.4080717488789238, 0.28125, 'gini = 0.0\\nsamples = 34\\nvalue = [0, 34]'), Text(0.4260089686098655, 0.28125, 'x[72] <= 0.5\\ngini = 0.484\\nsamples = 83\\nvalue = [49, 34]'), Text(0.4170403587443946, 0.21875, 'gini = 0.0\\nsamples = 23\\nvalue = [0, 23]'), Text(0.4349775784753363, 0.21875, 'x[36] <= 0.5\\ngini = 0.299\\nsamples = 60\\nvalue = [49, 11]'), Text(0.4260089686098655, 0.15625, 'gini = 0.0\\nsamples = 49\\nvalue = [49, 0]'), Text(0.4439461883408072, 0.15625, 'gini = 0.0\\nsamples = 11\\nvalue = [0, 11]'), Text(0.4170403587443946, 0.40625, 'gini = 0.0\\nsamples = 36\\nvalue = [36, 0]'), Text(0.4439461883408072, 0.46875, 'x[57] <= 0.5\\ngini = 0.434\\nsamples = 292\\nvalue = [199, 93]'), Text(0.4349775784753363, 0.40625, 'gini = 0.0\\nsamples = 93\\nvalue = [0, 93]'), Text(0.452914798206278, 0.40625, 'gini = 0.0\\nsamples = 199\\nvalue = [199, 0]'), Text(0.4439461883408072, 0.53125, 'gini = 0.0\\nsamples = 145\\nvalue = [145, 0]'), Text(0.452914798206278, 0.59375, 'gini = 0.0\\nsamples = 285\\nvalue = [285, 0]'), Text(0.4618834080717489, 0.65625, 'gini = 0.0\\nsamples = 293\\nvalue = [293, 0]'), Text(0.5067264573991032, 0.71875, 'x[1] <= -0.761\\ngini = 0.217\\nsamples = 2523\\nvalue = [2210, 313]'), Text(0.48878923766816146, 0.65625, 'x[35] <= 0.5\\ngini = 0.201\\nsamples = 106\\nvalue = [12, 94]'), Text(0.4798206278026906, 0.59375, 'gini = 0.0\\nsamples = 12\\nvalue = [12, 0]'), Text(0.4977578475336323, 0.59375, 'gini = 0.0\\nsamples = 94\\nvalue = [0, 94]'), Text(0.5246636771300448, 0.65625, 'x[11] <= 0.5\\ngini = 0.165\\nsamples = 2417\\nvalue = [2198, 219]'), Text(0.515695067264574, 0.59375, 'x[36] <= 0.5\\ngini = 0.123\\nsamples = 2353\\nvalue = [2198, 155]'), Text(0.4977578475336323, 0.53125, 'x[60] <= 0.5\\ngini = 0.024\\nsamples = 2068\\nvalue = [2043, 25]'), Text(0.48878923766816146, 0.46875, 'x[1] <= -0.647\\ngini = 0.012\\nsamples = 2055\\nvalue = [2043, 12]'), Text(0.47085201793721976, 0.40625, 'x[78] <= 0.5\\ngini = 0.388\\nsamples = 38\\nvalue = [28, 10]'), Text(0.4618834080717489, 0.34375, 'gini = 0.0\\nsamples = 28\\nvalue = [28, 0]'), Text(0.4798206278026906, 0.34375, 'gini = 0.0\\nsamples = 10\\nvalue = [0, 10]'), Text(0.5067264573991032, 0.40625, 'x[30] <= 0.5\\ngini = 0.002\\nsamples = 2017\\nvalue = [2015, 2]'), Text(0.4977578475336323, 0.34375, 'x[1] <= -0.619\\ngini = 0.001\\nsamples = 2016\\nvalue = [2015, 1]'), Text(0.48878923766816146, 0.28125, 'x[113] <= -0.147\\ngini = 0.18\\nsamples = 10\\nvalue = [9, 1]'), Text(0.4798206278026906, 0.21875, 'gini = 0.0\\nsamples = 1\\nvalue = [0, 1]'), Text(0.4977578475336323, 0.21875, 'gini = 0.0\\nsamples = 9\\nvalue = [9, 0]'), Text(0.5067264573991032, 0.28125, 'gini = 0.0\\nsamples = 2006\\nvalue = [2006, 0]'), Text(0.515695067264574, 0.34375, 'gini = 0.0\\nsamples = 1\\nvalue = [0, 1]'), Text(0.5067264573991032, 0.46875, 'gini = 0.0\\nsamples = 13\\nvalue = [0, 13]'), Text(0.5336322869955157, 0.53125, 'x[94] <= 0.5\\ngini = 0.496\\nsamples = 285\\nvalue = [155, 130]'), Text(0.5246636771300448, 0.46875, 'gini = 0.0\\nsamples = 155\\nvalue = [155, 0]'), Text(0.5426008968609866, 0.46875, 'gini = 0.0\\nsamples = 130\\nvalue = [0, 130]'), Text(0.5336322869955157, 0.59375, 'gini = 0.0\\nsamples = 64\\nvalue = [0, 64]'), Text(0.5336322869955157, 0.78125, 'x[35] <= 0.5\\ngini = 0.288\\nsamples = 830\\nvalue = [145, 685]'), Text(0.5246636771300448, 0.71875, 'gini = 0.0\\nsamples = 685\\nvalue = [0, 685]'), Text(0.5426008968609866, 0.71875, 'gini = 0.0\\nsamples = 145\\nvalue = [145, 0]'), Text(0.7751191143497758, 0.90625, 'x[64] <= 0.5\\ngini = 0.494\\nsamples = 16908\\nvalue = [9374, 7534]'), Text(0.594170403587444, 0.84375, 'x[26] <= 0.5\\ngini = 0.386\\nsamples = 3168\\nvalue = [826, 2342]'), Text(0.5695067264573991, 0.78125, 'x[65] <= 0.5\\ngini = 0.084\\nsamples = 1863\\nvalue = [82, 1781]'), Text(0.5605381165919282, 0.71875, 'gini = 0.0\\nsamples = 1781\\nvalue = [0, 1781]'), Text(0.57847533632287, 0.71875, 'gini = 0.0\\nsamples = 82\\nvalue = [82, 0]'), Text(0.6188340807174888, 0.78125, 'x[55] <= 0.5\\ngini = 0.49\\nsamples = 1305\\nvalue = [744, 561]'), Text(0.5964125560538116, 0.71875, 'x[58] <= 0.5\\ngini = 0.162\\nsamples = 584\\nvalue = [532, 52]'), Text(0.5874439461883408, 0.65625, 'x[86] <= 0.5\\ngini = 0.076\\nsamples = 554\\nvalue = [532, 22]'), Text(0.57847533632287, 0.59375, 'gini = 0.0\\nsamples = 532\\nvalue = [532, 0]'), Text(0.5964125560538116, 0.59375, 'gini = 0.0\\nsamples = 22\\nvalue = [0, 22]'), Text(0.6053811659192825, 0.65625, 'gini = 0.0\\nsamples = 30\\nvalue = [0, 30]'), Text(0.6412556053811659, 0.71875, 'x[2] <= 0.067\\ngini = 0.415\\nsamples = 721\\nvalue = [212, 509]'), Text(0.6233183856502242, 0.65625, 'x[41] <= 0.5\\ngini = 0.447\\nsamples = 303\\nvalue = [201, 102]'), Text(0.6143497757847534, 0.59375, 'x[62] <= 0.5\\ngini = 0.307\\nsamples = 248\\nvalue = [201, 47]'), Text(0.6053811659192825, 0.53125, 'gini = 0.0\\nsamples = 47\\nvalue = [0, 47]'), Text(0.6233183856502242, 0.53125, 'gini = 0.0\\nsamples = 201\\nvalue = [201, 0]'), Text(0.6322869955156951, 0.59375, 'gini = 0.0\\nsamples = 55\\nvalue = [0, 55]'), Text(0.6591928251121076, 0.65625, 'x[104] <= 0.5\\ngini = 0.051\\nsamples = 418\\nvalue = [11, 407]'), Text(0.6502242152466368, 0.59375, 'x[101] <= 0.5\\ngini = 0.038\\nsamples = 415\\nvalue = [8, 407]'), Text(0.6412556053811659, 0.53125, 'x[103] <= 0.5\\ngini = 0.024\\nsamples = 412\\nvalue = [5, 407]'), Text(0.6322869955156951, 0.46875, 'x[96] <= 0.5\\ngini = 0.015\\nsamples = 410\\nvalue = [3, 407]'), Text(0.6233183856502242, 0.40625, 'x[2] <= 0.076\\ngini = 0.01\\nsamples = 409\\nvalue = [2, 407]'), Text(0.6053811659192825, 0.34375, 'x[112] <= -0.003\\ngini = 0.245\\nsamples = 7\\nvalue = [1, 6]'), Text(0.5964125560538116, 0.28125, 'gini = 0.0\\nsamples = 1\\nvalue = [1, 0]'), Text(0.6143497757847534, 0.28125, 'gini = 0.0\\nsamples = 6\\nvalue = [0, 6]'), Text(0.6412556053811659, 0.34375, 'x[40] <= 0.5\\ngini = 0.005\\nsamples = 402\\nvalue = [1, 401]'), Text(0.6322869955156951, 0.28125, 'gini = 0.0\\nsamples = 370\\nvalue = [0, 370]'), Text(0.6502242152466368, 0.28125, 'x[9] <= 0.5\\ngini = 0.061\\nsamples = 32\\nvalue = [1, 31]'), Text(0.6412556053811659, 0.21875, 'gini = 0.0\\nsamples = 1\\nvalue = [1, 0]'), Text(0.6591928251121076, 0.21875, 'gini = 0.0\\nsamples = 31\\nvalue = [0, 31]'), Text(0.6412556053811659, 0.40625, 'gini = 0.0\\nsamples = 1\\nvalue = [1, 0]'), Text(0.6502242152466368, 0.46875, 'gini = 0.0\\nsamples = 2\\nvalue = [2, 0]'), Text(0.6591928251121076, 0.53125, 'gini = 0.0\\nsamples = 3\\nvalue = [3, 0]'), Text(0.6681614349775785, 0.59375, 'gini = 0.0\\nsamples = 3\\nvalue = [3, 0]'), Text(0.9560678251121076, 0.84375, 'x[93] <= 0.5\\ngini = 0.47\\nsamples = 13740\\nvalue = [8548, 5192]'), Text(0.9470992152466368, 0.78125, 'x[4] <= 0.5\\ngini = 0.456\\nsamples = 13178\\nvalue = [8548, 4630]'), Text(0.9121356502242153, 0.71875, 'x[29] <= 0.5\\ngini = 0.438\\nsamples = 12548\\nvalue = [8484, 4064]'), Text(0.8691143497757847, 0.65625, 'x[22] <= 0.5\\ngini = 0.417\\nsamples = 11987\\nvalue = [8433, 3554]'), Text(0.8368834080717489, 0.59375, 'x[96] <= 0.5\\ngini = 0.397\\nsamples = 11476\\nvalue = [8344, 3132]'), Text(0.827914798206278, 0.53125, 'x[112] <= 1.915\\ngini = 0.38\\nsamples = 11198\\nvalue = [8344, 2854]'), Text(0.7724215246636771, 0.46875, 'x[15] <= 0.5\\ngini = 0.352\\nsamples = 10637\\nvalue = [8211, 2426]'), Text(0.7634529147982063, 0.40625, 'x[59] <= 0.5\\ngini = 0.331\\nsamples = 10389\\nvalue = [8211, 2178]'), Text(0.7286995515695067, 0.34375, 'x[113] <= 1.377\\ngini = 0.287\\nsamples = 9323\\nvalue = [7701, 1622]'), Text(0.6860986547085202, 0.28125, 'x[2] <= -1.268\\ngini = 0.198\\nsamples = 7157\\nvalue = [6358, 799]'), Text(0.6771300448430493, 0.21875, 'gini = 0.0\\nsamples = 127\\nvalue = [0, 127]'), Text(0.695067264573991, 0.21875, 'x[112] <= 1.665\\ngini = 0.173\\nsamples = 7030\\nvalue = [6358, 672]'), Text(0.6636771300448431, 0.15625, 'x[41] <= 0.5\\ngini = 0.161\\nsamples = 6937\\nvalue = [6324, 613]'), Text(0.6457399103139013, 0.09375, 'x[30] <= 0.5\\ngini = 0.116\\nsamples = 5532\\nvalue = [5191, 341]'), Text(0.6367713004484304, 0.03125, 'gini = 0.089\\nsamples = 5173\\nvalue = [4932, 241]'), Text(0.6547085201793722, 0.03125, 'gini = 0.402\\nsamples = 359\\nvalue = [259, 100]'), Text(0.6816143497757847, 0.09375, 'x[1] <= -0.264\\ngini = 0.312\\nsamples = 1405\\nvalue = [1133, 272]'), Text(0.672645739910314, 0.03125, 'gini = 0.342\\nsamples = 242\\nvalue = [53, 189]'), Text(0.6905829596412556, 0.03125, 'gini = 0.133\\nsamples = 1163\\nvalue = [1080, 83]'), Text(0.726457399103139, 0.15625, 'x[20] <= 0.5\\ngini = 0.464\\nsamples = 93\\nvalue = [34, 59]'), Text(0.7174887892376681, 0.09375, 'x[42] <= 0.5\\ngini = 0.4\\nsamples = 47\\nvalue = [34, 13]'), Text(0.7085201793721974, 0.03125, 'gini = 0.0\\nsamples = 13\\nvalue = [0, 13]'), Text(0.726457399103139, 0.03125, 'gini = 0.0\\nsamples = 34\\nvalue = [34, 0]'), Text(0.7354260089686099, 0.09375, 'gini = 0.0\\nsamples = 46\\nvalue = [0, 46]'), Text(0.7713004484304933, 0.28125, 'x[17] <= 0.5\\ngini = 0.471\\nsamples = 2166\\nvalue = [1343, 823]'), Text(0.7623318385650224, 0.21875, 'gini = 0.0\\nsamples = 652\\nvalue = [652, 0]'), Text(0.7802690582959642, 0.21875, 'x[35] <= 0.5\\ngini = 0.496\\nsamples = 1514\\nvalue = [691, 823]'), Text(0.7623318385650224, 0.15625, 'x[1] <= 1.811\\ngini = 0.377\\nsamples = 1038\\nvalue = [262, 776]'), Text(0.7533632286995515, 0.09375, 'x[112] <= -0.008\\ngini = 0.263\\nsamples = 919\\nvalue = [143, 776]'), Text(0.7443946188340808, 0.03125, 'gini = 0.49\\nsamples = 292\\nvalue = [125, 167]'), Text(0.7623318385650224, 0.03125, 'gini = 0.056\\nsamples = 627\\nvalue = [18, 609]'), Text(0.7713004484304933, 0.09375, 'gini = 0.0\\nsamples = 119\\nvalue = [119, 0]'), Text(0.7982062780269058, 0.15625, 'x[30] <= 0.5\\ngini = 0.178\\nsamples = 476\\nvalue = [429, 47]'), Text(0.7892376681614349, 0.09375, 'gini = 0.0\\nsamples = 418\\nvalue = [418, 0]'), Text(0.8071748878923767, 0.09375, 'x[2] <= 0.023\\ngini = 0.307\\nsamples = 58\\nvalue = [11, 47]'), Text(0.7982062780269058, 0.03125, 'gini = 0.0\\nsamples = 47\\nvalue = [0, 47]'), Text(0.8161434977578476, 0.03125, 'gini = 0.0\\nsamples = 11\\nvalue = [11, 0]'), Text(0.7982062780269058, 0.34375, 'x[20] <= 0.5\\ngini = 0.499\\nsamples = 1066\\nvalue = [510, 556]'), Text(0.7892376681614349, 0.28125, 'gini = 0.0\\nsamples = 510\\nvalue = [510, 0]'), Text(0.8071748878923767, 0.28125, 'gini = 0.0\\nsamples = 556\\nvalue = [0, 556]'), Text(0.781390134529148, 0.40625, 'gini = 0.0\\nsamples = 248\\nvalue = [0, 248]'), Text(0.8834080717488789, 0.46875, 'x[113] <= 0.708\\ngini = 0.362\\nsamples = 561\\nvalue = [133, 428]'), Text(0.852017937219731, 0.40625, 'x[17] <= 0.5\\ngini = 0.116\\nsamples = 436\\nvalue = [27, 409]'), Text(0.8430493273542601, 0.34375, 'x[35] <= 0.5\\ngini = 0.033\\nsamples = 416\\nvalue = [7, 409]'), Text(0.8251121076233184, 0.28125, 'x[36] <= 0.5\\ngini = 0.245\\nsamples = 7\\nvalue = [6, 1]'), Text(0.8161434977578476, 0.21875, 'gini = 0.0\\nsamples = 6\\nvalue = [6, 0]'), Text(0.8340807174887892, 0.21875, 'gini = 0.0\\nsamples = 1\\nvalue = [0, 1]'), Text(0.8609865470852018, 0.28125, 'x[11] <= 0.5\\ngini = 0.005\\nsamples = 409\\nvalue = [1, 408]'), Text(0.852017937219731, 0.21875, 'gini = 0.0\\nsamples = 408\\nvalue = [0, 408]'), Text(0.8699551569506726, 0.21875, 'gini = 0.0\\nsamples = 1\\nvalue = [1, 0]'), Text(0.8609865470852018, 0.34375, 'gini = 0.0\\nsamples = 20\\nvalue = [20, 0]'), Text(0.9147982062780269, 0.40625, 'x[2] <= 2.648\\ngini = 0.258\\nsamples = 125\\nvalue = [106, 19]'), Text(0.905829596412556, 0.34375, 'x[3] <= 0.5\\ngini = 0.131\\nsamples = 114\\nvalue = [106, 8]'), Text(0.8968609865470852, 0.28125, 'x[0] <= 0.702\\ngini = 0.054\\nsamples = 109\\nvalue = [106, 3]'), Text(0.8878923766816144, 0.21875, 'gini = 0.0\\nsamples = 2\\nvalue = [0, 2]'), Text(0.905829596412556, 0.21875, 'x[112] <= 4.51\\ngini = 0.019\\nsamples = 107\\nvalue = [106, 1]'), Text(0.8968609865470852, 0.15625, 'gini = 0.0\\nsamples = 106\\nvalue = [106, 0]'), Text(0.9147982062780269, 0.15625, 'gini = 0.0\\nsamples = 1\\nvalue = [0, 1]'), Text(0.9147982062780269, 0.28125, 'gini = 0.0\\nsamples = 5\\nvalue = [0, 5]'), Text(0.9237668161434978, 0.34375, 'gini = 0.0\\nsamples = 11\\nvalue = [0, 11]'), Text(0.8458520179372198, 0.53125, 'gini = 0.0\\nsamples = 278\\nvalue = [0, 278]'), Text(0.9013452914798207, 0.59375, 'x[17] <= 0.5\\ngini = 0.288\\nsamples = 511\\nvalue = [89, 422]'), Text(0.8923766816143498, 0.53125, 'gini = 0.0\\nsamples = 357\\nvalue = [0, 357]'), Text(0.9103139013452914, 0.53125, 'x[2] <= -0.097\\ngini = 0.488\\nsamples = 154\\nvalue = [89, 65]'), Text(0.9013452914798207, 0.46875, 'gini = 0.0\\nsamples = 65\\nvalue = [0, 65]'), Text(0.9192825112107623, 0.46875, 'gini = 0.0\\nsamples = 89\\nvalue = [89, 0]'), Text(0.9551569506726457, 0.65625, 'x[2] <= -0.256\\ngini = 0.165\\nsamples = 561\\nvalue = [51, 510]'), Text(0.9461883408071748, 0.59375, 'gini = 0.0\\nsamples = 28\\nvalue = [28, 0]'), Text(0.9641255605381166, 0.59375, 'x[2] <= 1.141\\ngini = 0.083\\nsamples = 533\\nvalue = [23, 510]'), Text(0.9461883408071748, 0.53125, 'x[112] <= -0.474\\ngini = 0.008\\nsamples = 511\\nvalue = [2, 509]'), Text(0.9372197309417041, 0.46875, 'gini = 0.0\\nsamples = 1\\nvalue = [1, 0]'), Text(0.9551569506726457, 0.46875, 'x[2] <= 1.079\\ngini = 0.004\\nsamples = 510\\nvalue = [1, 509]'), Text(0.9461883408071748, 0.40625, 'gini = 0.0\\nsamples = 507\\nvalue = [0, 507]'), Text(0.9641255605381166, 0.40625, 'x[17] <= 0.5\\ngini = 0.444\\nsamples = 3\\nvalue = [1, 2]'), Text(0.9551569506726457, 0.34375, 'gini = 0.0\\nsamples = 2\\nvalue = [0, 2]'), Text(0.9730941704035875, 0.34375, 'gini = 0.0\\nsamples = 1\\nvalue = [1, 0]'), Text(0.9820627802690582, 0.53125, 'x[88] <= 0.5\\ngini = 0.087\\nsamples = 22\\nvalue = [21, 1]'), Text(0.9730941704035875, 0.46875, 'gini = 0.0\\nsamples = 21\\nvalue = [21, 0]'), Text(0.9910313901345291, 0.46875, 'gini = 0.0\\nsamples = 1\\nvalue = [0, 1]'), Text(0.9820627802690582, 0.71875, 'x[37] <= 0.5\\ngini = 0.183\\nsamples = 630\\nvalue = [64, 566]'), Text(0.9730941704035875, 0.65625, 'gini = 0.0\\nsamples = 566\\nvalue = [0, 566]'), Text(0.9910313901345291, 0.65625, 'gini = 0.0\\nsamples = 64\\nvalue = [64, 0]'), Text(0.9650364349775785, 0.78125, 'gini = 0.0\\nsamples = 562\\nvalue = [0, 562]')]\n"
          ]
        },
        {
          "output_type": "display_data",
          "data": {
            "text/plain": [
              "<Figure size 1080x576 with 1 Axes>"
            ],
            "image/png": "[encoded data removed]"
          },
          "metadata": {
            "needs_background": "light"
          }
        }
      ]
    },
    {
      "cell_type": "markdown",
      "source": [
        "From above, we can see that the decision tree clearly became less deep. This made the model less complex. However, we noticed a drop in accuracy score after pruning the tree so there is a tradeoff between computational cost and performance."
      ],
      "metadata": {
        "id": "nvmkw-bwrDcJ"
      }
    },
    {
      "cell_type": "markdown",
      "source": [
        "### Model 2: Naive Bayes\n",
        "#### Naive Bayes is a probabilistic machine learning model used for classification tasks. It is based on Bayes' theorem, which is a fundamental principle in probability theory that describes how to update probabilities based on new evidence. The Naive Bayes model makes some simplifying assumptions about the data, including that the features are independent of each other and that each feature contributes equally to the probability of the class."
      ],
      "metadata": {
        "id": "l8WlM5w5sdPM"
      }
    },
    {
      "cell_type": "code",
      "source": [
        "# Gaussian Naive Bayes\n",
        "\n",
        "from sklearn.naive_bayes import GaussianNB\n",
        "\n",
        "G_bayes_model = GaussianNB()\n",
        "G_bayes_model.fit(X_train,Y_train)\n",
        "\n",
        "G_bayes_pred = G_bayes_model.predict(X_test)\n",
        "\n",
        "print(\"%-12s %f\" % ('Accuracy:', metrics.accuracy_score(G_bayes_pred, Y_test)))"
      ],
      "metadata": {
        "colab": {
          "base_uri": "https://localhost:8080/",
          "height": 0
        },
        "id": "OIgM_2KKrv24",
        "outputId": "5ac9cb3c-7c65-4a61-f969-cb217862ece8"
      },
      "execution_count": 73,
      "outputs": [
        {
          "output_type": "stream",
          "name": "stdout",
          "text": [
            "Accuracy:    0.626904\n"
          ]
        }
      ]
    },
    {
      "cell_type": "code",
      "source": [
        "# Bernoulli Naive Bayes \n",
        "\n",
        "from sklearn.naive_bayes import BernoulliNB\n",
        "\n",
        "B_bayes_model = BernoulliNB()\n",
        "\n",
        "B_bayes_model.fit(X_train, Y_train)\n",
        "\n",
        "B_bayes_pred = B_bayes_model.predict(X_test)\n",
        "\n",
        "print(\"%-12s %f\" % ('Accuracy:', metrics.accuracy_score(B_bayes_pred, Y_test)))"
      ],
      "metadata": {
        "colab": {
          "base_uri": "https://localhost:8080/",
          "height": 0
        },
        "id": "RcO3N8puE7ak",
        "outputId": "d0efa5ba-7de9-46cf-f346-3560100e09f7"
      },
      "execution_count": 74,
      "outputs": [
        {
          "output_type": "stream",
          "name": "stdout",
          "text": [
            "Accuracy:    0.785024\n"
          ]
        }
      ]
    },
    {
      "cell_type": "markdown",
      "source": [
        "Since the normality assumption likely does not hold in these given features, the Gaussian Naive Bayes model did not yield a very high accuracy rate. \n",
        "In contrary, the Bernoulli Naive Bayes model had provided us with a higher accuracy rate. This is because the Bernoulli Naive Bayes mdoel is most appropriate when working with binary or boolean data and in our prepared data frame, there were more features that involved binary values. \n",
        "Overall, since the data had both binary and continuous values, the Naive Bayes Model did not perform very well. Additionally, the overall model assumption that the predictors are independent could have been violated as well."
      ],
      "metadata": {
        "id": "jkeyfGKLGFax"
      }
    },
    {
      "cell_type": "markdown",
      "source": [
        "# 9. Experiment with 1 Ensemble Method"
      ],
      "metadata": {
        "id": "1h6JUUZY7Ak2"
      }
    },
    {
      "cell_type": "code",
      "source": [
        "# Ensemble Methods: https://scikit-learn.org/stable/modules/ensemble.html"
      ],
      "metadata": {
        "id": "cXXtF42pfSQa"
      },
      "execution_count": 75,
      "outputs": []
    },
    {
      "cell_type": "markdown",
      "source": [
        "\n",
        "#### Random Forest"
      ],
      "metadata": {
        "id": "pw04SG0fI9-V"
      }
    },
    {
      "cell_type": "code",
      "source": [
        "# import necessary packages\n",
        "from sklearn.ensemble import RandomForestClassifier\n",
        "\n",
        "# call the random forest model\n",
        "forest_model = RandomForestClassifier(n_estimators = 5)\n",
        "\n",
        "# fit the model with data\n",
        "forest_model_fit = forest_model.fit(X_train, Y_train)\n",
        "\n",
        "# predict using our model\n",
        "forest_model_pred = forest_model_fit.predict(X_test)\n",
        "\n",
        "# accuracy score\n",
        "print(\"%-12s %f\" % ('Accuracy:', metrics.accuracy_score(forest_model_pred, Y_test)))"
      ],
      "metadata": {
        "colab": {
          "base_uri": "https://localhost:8080/",
          "height": 0
        },
        "id": "grHZrDfYJA1g",
        "outputId": "1cf57b41-15da-435d-bd68-1da23645b06a"
      },
      "execution_count": 76,
      "outputs": [
        {
          "output_type": "stream",
          "name": "stdout",
          "text": [
            "Accuracy:    0.999502\n"
          ]
        }
      ]
    },
    {
      "cell_type": "code",
      "source": [
        "# now try with n_estimators = 10\n",
        "\n",
        "# call the random forest model\n",
        "forest_model = RandomForestClassifier(n_estimators = 10)\n",
        "\n",
        "# fit the model with data\n",
        "forest_model_fit = forest_model.fit(X_train, Y_train)\n",
        "\n",
        "# predict using our model\n",
        "forest_model_pred = forest_model_fit.predict(X_test)\n",
        "\n",
        "# accuracy score\n",
        "print(\"%-12s %f\" % ('Accuracy:', metrics.accuracy_score(forest_model_pred, Y_test)))"
      ],
      "metadata": {
        "colab": {
          "base_uri": "https://localhost:8080/",
          "height": 0
        },
        "id": "fuU39IPtNutF",
        "outputId": "7be6aa51-ec91-4980-8655-4a9d5ea83b5a"
      },
      "execution_count": 77,
      "outputs": [
        {
          "output_type": "stream",
          "name": "stdout",
          "text": [
            "Accuracy:    0.999801\n"
          ]
        }
      ]
    },
    {
      "cell_type": "markdown",
      "source": [
        "The accuracy has slightly gone up after tuning the number of estimators."
      ],
      "metadata": {
        "id": "2vfWlNbTOVwY"
      }
    },
    {
      "cell_type": "code",
      "source": [
        "# now we experiment with the max depth\n",
        "\n",
        "# call the random forest model\n",
        "forest_model = RandomForestClassifier(n_estimators = 10, max_depth = 15)\n",
        "\n",
        "# fit the model with data\n",
        "forest_model_fit = forest_model.fit(X_train, Y_train)\n",
        "\n",
        "# predict using our model\n",
        "forest_model_pred = forest_model_fit.predict(X_test)\n",
        "\n",
        "# accuracy score\n",
        "print(\"%-12s %f\" % ('Accuracy:', metrics.accuracy_score(forest_model_pred, Y_test)))"
      ],
      "metadata": {
        "colab": {
          "base_uri": "https://localhost:8080/",
          "height": 0
        },
        "id": "_lJHQKhEOITL",
        "outputId": "a5a56578-61c3-4e0d-e77e-3760537e69e7"
      },
      "execution_count": 78,
      "outputs": [
        {
          "output_type": "stream",
          "name": "stdout",
          "text": [
            "Accuracy:    0.994324\n"
          ]
        }
      ]
    },
    {
      "cell_type": "markdown",
      "source": [
        "The accuracy has slightly gone down after manipulating the max_depth"
      ],
      "metadata": {
        "id": "wsrDeW9iOQd5"
      }
    },
    {
      "cell_type": "markdown",
      "source": [
        "# 10. Cross-Validation & Hyperparameter Tuning for All 3 Models"
      ],
      "metadata": {
        "id": "sOdYyK4cfS1v"
      }
    },
    {
      "cell_type": "code",
      "source": [
        "# Cross-Validation: https://scikit-learn.org/stable/modules/cross_validation.html\n",
        "# Hyperparameter Tuning: https://scikit-learn.org/stable/modules/grid_search.html"
      ],
      "metadata": {
        "id": "SIvLK-rEfBzf"
      },
      "execution_count": 79,
      "outputs": []
    },
    {
      "cell_type": "markdown",
      "source": [
        "#### Cross-Validation"
      ],
      "metadata": {
        "id": "cC8WwbdDWooh"
      }
    },
    {
      "cell_type": "code",
      "source": [
        "from sklearn import model_selection\n",
        "from sklearn.model_selection import KFold\n",
        "\n",
        "# define number of splits, seed, and let data be shuffled\n",
        "kfold = model_selection.KFold(n_splits = 10, random_state = 42, shuffle = True)\n",
        "\n",
        "# call cross_val_score with argument cv = kfold to get accuracy performance score \n",
        "# of our modelon the 10 fold validation data\n",
        "# other arguments: model, training_data, training labels\n",
        "results = model_selection.cross_val_score(log_model, train_prepared_df, label, cv = kfold)\n",
        "\n",
        "# print the average score for your model on the 10 folds\n",
        "print(\"Cross Validation Accuracy: %.2f%%\" % (results.mean()*100.0))"
      ],
      "metadata": {
        "colab": {
          "base_uri": "https://localhost:8080/",
          "height": 0
        },
        "id": "SNsrpKm-aFfl",
        "outputId": "75ab015d-1424-4b0e-e402-b0741d597ee1"
      },
      "execution_count": 80,
      "outputs": [
        {
          "output_type": "stream",
          "name": "stdout",
          "text": [
            "Cross Validation Accuracy: 85.68%\n"
          ]
        }
      ]
    },
    {
      "cell_type": "code",
      "source": [
        "# for tree model\n",
        "results = model_selection.cross_val_score(tree_model, train_prepared_df, label, cv = kfold)\n",
        "\n",
        "# print the average score for your model on the 10 folds\n",
        "print(\"Cross Validation Accuracy: %.2f%%\" % (results.mean()*100.0))"
      ],
      "metadata": {
        "colab": {
          "base_uri": "https://localhost:8080/",
          "height": 0
        },
        "id": "LZfJA7Obb3Im",
        "outputId": "c5448cfd-4925-4d58-d0b1-7b343d759058"
      },
      "execution_count": 81,
      "outputs": [
        {
          "output_type": "stream",
          "name": "stdout",
          "text": [
            "Cross Validation Accuracy: 99.84%\n"
          ]
        }
      ]
    },
    {
      "cell_type": "code",
      "source": [
        "# for pruned tree model\n",
        "results = model_selection.cross_val_score(tree_model_prune, train_prepared_df, label, cv = kfold)\n",
        "\n",
        "# print the average score for your model on the 10 folds\n",
        "print(\"Cross Validation Accuracy: %.2f%%\" % (results.mean()*100.0))"
      ],
      "metadata": {
        "colab": {
          "base_uri": "https://localhost:8080/",
          "height": 0
        },
        "id": "d1mzkJG4b6lh",
        "outputId": "8891578f-e692-4d4e-bf9a-96d6c56153fb"
      },
      "execution_count": 82,
      "outputs": [
        {
          "output_type": "stream",
          "name": "stdout",
          "text": [
            "Cross Validation Accuracy: 98.31%\n"
          ]
        }
      ]
    },
    {
      "cell_type": "code",
      "source": [
        "# for bayes classifier\n",
        "results = model_selection.cross_val_score(B_bayes_model, train_prepared_df, label, cv = kfold)\n",
        "\n",
        "# print the average score for your model on the 10 folds\n",
        "print(\"Cross Validation Accuracy: %.2f%%\" % (results.mean()*100.0))"
      ],
      "metadata": {
        "colab": {
          "base_uri": "https://localhost:8080/",
          "height": 0
        },
        "id": "jPfQdRaEcB_p",
        "outputId": "957b1c37-7b90-4141-9c9d-5d0e7dec5bdb"
      },
      "execution_count": 83,
      "outputs": [
        {
          "output_type": "stream",
          "name": "stdout",
          "text": [
            "Cross Validation Accuracy: 77.93%\n"
          ]
        }
      ]
    },
    {
      "cell_type": "code",
      "source": [
        "# for random forest\n",
        "results = model_selection.cross_val_score(forest_model, train_prepared_df, label, cv = kfold)\n",
        "\n",
        "# print the average score for your model on the 10 folds\n",
        "print(\"Cross Validation Accuracy: %.2f%%\" % (results.mean()*100.0))"
      ],
      "metadata": {
        "colab": {
          "base_uri": "https://localhost:8080/",
          "height": 0
        },
        "id": "AYuryuXNcHcv",
        "outputId": "7d72d336-4e6e-4d79-f3bc-c02cbf454435"
      },
      "execution_count": 84,
      "outputs": [
        {
          "output_type": "stream",
          "name": "stdout",
          "text": [
            "Cross Validation Accuracy: 99.43%\n"
          ]
        }
      ]
    },
    {
      "cell_type": "markdown",
      "source": [
        "Hyperparameter Tuning"
      ],
      "metadata": {
        "id": "mzi6_i3VWu4w"
      }
    },
    {
      "cell_type": "code",
      "source": [
        "from sklearn.model_selection import GridSearchCV"
      ],
      "metadata": {
        "id": "04yU458yWyE9"
      },
      "execution_count": 85,
      "outputs": []
    },
    {
      "cell_type": "markdown",
      "source": [
        "#### Decision Tree Model"
      ],
      "metadata": {
        "id": "2YQ05gOkdqIc"
      }
    },
    {
      "cell_type": "code",
      "source": [
        "params = [{\n",
        "    'criterion' : ['gini', 'entropy', 'log_loss'],\n",
        "    'splitter' : [\"best\", 'random'],\n",
        "    'max_depth' : [5, 10, 20, 30]\n",
        "}]\n",
        "\n",
        "# define grid search cross validation\n",
        "clf2 = model_selection.GridSearchCV(estimator = tree_model, param_grid = params, scoring = \"accuracy\", cv = kfold, verbose = True)\n",
        "\n",
        "# call on the data\n",
        "clf2_fit = clf2.fit(train_prepared_df, label)\n",
        "\n",
        "# retrieve estimator which gave highest score on cross validation\n",
        "best_model = clf2_fit.best_estimator_\n",
        "print(best_model)\n",
        "\n",
        "# get the mean score for your best model\n",
        "print(clf2_fit.best_score_)"
      ],
      "metadata": {
        "colab": {
          "base_uri": "https://localhost:8080/",
          "height": 0
        },
        "id": "kWPZyzOldc0Y",
        "outputId": "457465f8-f5ad-49ad-8382-b3db0bd7a932"
      },
      "execution_count": 86,
      "outputs": [
        {
          "output_type": "stream",
          "name": "stdout",
          "text": [
            "Fitting 10 folds for each of 24 candidates, totalling 240 fits\n",
            "DecisionTreeClassifier(max_depth=30, splitter='random')\n",
            "0.9995220273973169\n"
          ]
        }
      ]
    },
    {
      "cell_type": "markdown",
      "source": [
        "#### Bayes Classifier"
      ],
      "metadata": {
        "id": "vZvHk8rQfXUz"
      }
    },
    {
      "cell_type": "code",
      "source": [
        "params = [{\n",
        "    'alpha' : [0.5, 0.8, 1],\n",
        "    'force_alpha' : [True, False]\n",
        "}]\n",
        "\n",
        "# define grid search cross validation\n",
        "clf3 = model_selection.GridSearchCV(estimator = B_bayes_model, param_grid = params, scoring = \"accuracy\", cv = kfold, verbose = True)\n",
        "\n",
        "# call on the data\n",
        "clf3_fit = clf3.fit(train_prepared_df, label)\n",
        "\n",
        "# retrieve estimator which gave highest score on cross validation\n",
        "best_model = clf3_fit.best_estimator_\n",
        "print(best_model)\n",
        "\n",
        "# get the mean score for your best model\n",
        "print(clf3_fit.best_score_)"
      ],
      "metadata": {
        "colab": {
          "base_uri": "https://localhost:8080/",
          "height": 0
        },
        "id": "mKRt6cnNfXwI",
        "outputId": "d521f5d2-fa4d-4f35-bfb6-bb4d4445daaf"
      },
      "execution_count": 87,
      "outputs": [
        {
          "output_type": "stream",
          "name": "stdout",
          "text": [
            "Fitting 10 folds for each of 6 candidates, totalling 60 fits\n",
            "BernoulliNB(alpha=0.5, force_alpha=True)\n",
            "0.7793800526042316\n"
          ]
        }
      ]
    },
    {
      "cell_type": "markdown",
      "source": [
        "#### Random Forest"
      ],
      "metadata": {
        "id": "epxwAmF4flEt"
      }
    },
    {
      "cell_type": "code",
      "source": [
        "params = [{\n",
        "    'n_estimators' : [10, 50, 100],\n",
        "    'criterion' : [\"gini\", \"entropy\", \"log_loss\"],\n",
        "    'max_depth' : [10, 20, 30],\n",
        "    'min_samples_leaf': [1, 2, 3]\n",
        "}]\n",
        "\n",
        "# define grid search cross validation\n",
        "clf4 = model_selection.GridSearchCV(estimator = forest_model, param_grid = params, scoring = \"accuracy\", cv = kfold, verbose = True)\n",
        "\n",
        "# call on the data\n",
        "clf4_fit = clf4.fit(train_prepared_df, label)\n",
        "\n",
        "# retrieve estimator which gave highest score on cross validation\n",
        "best_model = clf4_fit.best_estimator_\n",
        "print(best_model)\n",
        "\n",
        "# get the mean score for your best model\n",
        "print(clf4_fit.best_score_)"
      ],
      "metadata": {
        "colab": {
          "base_uri": "https://localhost:8080/",
          "height": 0
        },
        "id": "xNG7CPD1fqaT",
        "outputId": "870a4a27-d94c-4162-9cf0-f8df4b9a903e"
      },
      "execution_count": 94,
      "outputs": [
        {
          "output_type": "stream",
          "name": "stdout",
          "text": [
            "Fitting 10 folds for each of 81 candidates, totalling 810 fits\n",
            "RandomForestClassifier(max_depth=30, n_estimators=50)\n",
            "0.9999203425263434\n"
          ]
        }
      ]
    },
    {
      "cell_type": "markdown",
      "source": [
        "# 11. Report Final Results "
      ],
      "metadata": {
        "id": "OTnFJgrd7VPw"
      }
    },
    {
      "cell_type": "code",
      "source": [
        "# Temporarily combining the training and testing, so that necessary OHE can be made\n",
        "train_test_comb = imputed_train_dropped.append(imputed_test_dropped)\n",
        "\n",
        "\n",
        "# as fit_transform outputs an np.array, we aim to convert to a df\n",
        "\n",
        "# we aim to retrieve column names\n",
        "ohe_encoder = OneHotEncoder(categories = \"auto\", handle_unknown = \"ignore\", sparse_output = False)\n",
        "X_object = (train_test_comb.drop([\"cap-diameter\",\"stem-height\",\"stem-width\"], axis = 1))\n",
        "ohe_encoder.fit(X_object)\n",
        "\n",
        "# fit the full pipeline\n",
        "train_test_comb_prepared = full_pipeline.fit_transform(train_test_comb)\n",
        "\n",
        "# features that will be introduced through One Hot Encoding\n",
        "feature_names_ohe = ohe_encoder.get_feature_names_out(OHE)\n",
        "\n",
        "# convert the np.array to df (this df will not have column names)\n",
        "train_test_comb_prepared_df = pd.DataFrame(train_test_comb_prepared)\n",
        "\n",
        "# combine numerical features and features that were OHE\n",
        "features_df = numerical_features + list(feature_names_ohe)\n",
        "\n",
        "# rename df\n",
        "train_test_comb_prepared_df.set_axis(features_df, axis = 1, inplace = True)\n",
        "\n",
        "train_test_comb_prepared_df.head()"
      ],
      "metadata": {
        "colab": {
          "base_uri": "https://localhost:8080/",
          "height": 235
        },
        "id": "ELSYBAo9r9AG",
        "outputId": "197b4937-106e-42e1-b9ed-17d0c3a9d0d3"
      },
      "execution_count": 108,
      "outputs": [
        {
          "output_type": "execute_result",
          "data": {
            "text/plain": [
              "   cap-diameter  stem-height  stem-width  cap-shape_b  cap-shape_c  \\\n",
              "0      1.619462     3.076705    0.492293          0.0          0.0   \n",
              "1      1.873982     3.385311    0.601900          0.0          0.0   \n",
              "2      1.393432     3.328931    0.557061          0.0          0.0   \n",
              "3      1.412426     2.726555    0.381690          0.0          0.0   \n",
              "4      1.501699     2.952075    0.503254          0.0          0.0   \n",
              "\n",
              "   cap-shape_f  cap-shape_o  cap-shape_p  cap-shape_s  cap-shape_x  ...  \\\n",
              "0          0.0          0.0          0.0          0.0          1.0  ...   \n",
              "1          0.0          0.0          0.0          0.0          1.0  ...   \n",
              "2          0.0          0.0          0.0          0.0          1.0  ...   \n",
              "3          1.0          0.0          0.0          0.0          0.0  ...   \n",
              "4          0.0          0.0          0.0          0.0          1.0  ...   \n",
              "\n",
              "   habitat_h  habitat_l  habitat_m  habitat_p  habitat_u  habitat_w  season_a  \\\n",
              "0        0.0        0.0        0.0        0.0        0.0        0.0       0.0   \n",
              "1        0.0        0.0        0.0        0.0        0.0        0.0       0.0   \n",
              "2        0.0        0.0        0.0        0.0        0.0        0.0       0.0   \n",
              "3        0.0        0.0        0.0        0.0        0.0        0.0       0.0   \n",
              "4        0.0        0.0        0.0        0.0        0.0        0.0       0.0   \n",
              "\n",
              "   season_s  season_u  season_w  \n",
              "0       0.0       0.0       1.0  \n",
              "1       0.0       1.0       0.0  \n",
              "2       0.0       0.0       1.0  \n",
              "3       0.0       0.0       1.0  \n",
              "4       0.0       0.0       1.0  \n",
              "\n",
              "[5 rows x 118 columns]"
            ],
            "text/html": [
              "\n",
              "  <div id=\"df-08a1a5e0-3089-4e2d-b681-1a44f0b4722d\">\n",
              "    <div class=\"colab-df-container\">\n",
              "      <div>\n",
              "<style scoped>\n",
              "    .dataframe tbody tr th:only-of-type {\n",
              "        vertical-align: middle;\n",
              "    }\n",
              "\n",
              "    .dataframe tbody tr th {\n",
              "        vertical-align: top;\n",
              "    }\n",
              "\n",
              "    .dataframe thead th {\n",
              "        text-align: right;\n",
              "    }\n",
              "</style>\n",
              "<table border=\"1\" class=\"dataframe\">\n",
              "  <thead>\n",
              "    <tr style=\"text-align: right;\">\n",
              "      <th></th>\n",
              "      <th>cap-diameter</th>\n",
              "      <th>stem-height</th>\n",
              "      <th>stem-width</th>\n",
              "      <th>cap-shape_b</th>\n",
              "      <th>cap-shape_c</th>\n",
              "      <th>cap-shape_f</th>\n",
              "      <th>cap-shape_o</th>\n",
              "      <th>cap-shape_p</th>\n",
              "      <th>cap-shape_s</th>\n",
              "      <th>cap-shape_x</th>\n",
              "      <th>...</th>\n",
              "      <th>habitat_h</th>\n",
              "      <th>habitat_l</th>\n",
              "      <th>habitat_m</th>\n",
              "      <th>habitat_p</th>\n",
              "      <th>habitat_u</th>\n",
              "      <th>habitat_w</th>\n",
              "      <th>season_a</th>\n",
              "      <th>season_s</th>\n",
              "      <th>season_u</th>\n",
              "      <th>season_w</th>\n",
              "    </tr>\n",
              "  </thead>\n",
              "  <tbody>\n",
              "    <tr>\n",
              "      <th>0</th>\n",
              "      <td>1.619462</td>\n",
              "      <td>3.076705</td>\n",
              "      <td>0.492293</td>\n",
              "      <td>0.0</td>\n",
              "      <td>0.0</td>\n",
              "      <td>0.0</td>\n",
              "      <td>0.0</td>\n",
              "      <td>0.0</td>\n",
              "      <td>0.0</td>\n",
              "      <td>1.0</td>\n",
              "      <td>...</td>\n",
              "      <td>0.0</td>\n",
              "      <td>0.0</td>\n",
              "      <td>0.0</td>\n",
              "      <td>0.0</td>\n",
              "      <td>0.0</td>\n",
              "      <td>0.0</td>\n",
              "      <td>0.0</td>\n",
              "      <td>0.0</td>\n",
              "      <td>0.0</td>\n",
              "      <td>1.0</td>\n",
              "    </tr>\n",
              "    <tr>\n",
              "      <th>1</th>\n",
              "      <td>1.873982</td>\n",
              "      <td>3.385311</td>\n",
              "      <td>0.601900</td>\n",
              "      <td>0.0</td>\n",
              "      <td>0.0</td>\n",
              "      <td>0.0</td>\n",
              "      <td>0.0</td>\n",
              "      <td>0.0</td>\n",
              "      <td>0.0</td>\n",
              "      <td>1.0</td>\n",
              "      <td>...</td>\n",
              "      <td>0.0</td>\n",
              "      <td>0.0</td>\n",
              "      <td>0.0</td>\n",
              "      <td>0.0</td>\n",
              "      <td>0.0</td>\n",
              "      <td>0.0</td>\n",
              "      <td>0.0</td>\n",
              "      <td>0.0</td>\n",
              "      <td>1.0</td>\n",
              "      <td>0.0</td>\n",
              "    </tr>\n",
              "    <tr>\n",
              "      <th>2</th>\n",
              "      <td>1.393432</td>\n",
              "      <td>3.328931</td>\n",
              "      <td>0.557061</td>\n",
              "      <td>0.0</td>\n",
              "      <td>0.0</td>\n",
              "      <td>0.0</td>\n",
              "      <td>0.0</td>\n",
              "      <td>0.0</td>\n",
              "      <td>0.0</td>\n",
              "      <td>1.0</td>\n",
              "      <td>...</td>\n",
              "      <td>0.0</td>\n",
              "      <td>0.0</td>\n",
              "      <td>0.0</td>\n",
              "      <td>0.0</td>\n",
              "      <td>0.0</td>\n",
              "      <td>0.0</td>\n",
              "      <td>0.0</td>\n",
              "      <td>0.0</td>\n",
              "      <td>0.0</td>\n",
              "      <td>1.0</td>\n",
              "    </tr>\n",
              "    <tr>\n",
              "      <th>3</th>\n",
              "      <td>1.412426</td>\n",
              "      <td>2.726555</td>\n",
              "      <td>0.381690</td>\n",
              "      <td>0.0</td>\n",
              "      <td>0.0</td>\n",
              "      <td>1.0</td>\n",
              "      <td>0.0</td>\n",
              "      <td>0.0</td>\n",
              "      <td>0.0</td>\n",
              "      <td>0.0</td>\n",
              "      <td>...</td>\n",
              "      <td>0.0</td>\n",
              "      <td>0.0</td>\n",
              "      <td>0.0</td>\n",
              "      <td>0.0</td>\n",
              "      <td>0.0</td>\n",
              "      <td>0.0</td>\n",
              "      <td>0.0</td>\n",
              "      <td>0.0</td>\n",
              "      <td>0.0</td>\n",
              "      <td>1.0</td>\n",
              "    </tr>\n",
              "    <tr>\n",
              "      <th>4</th>\n",
              "      <td>1.501699</td>\n",
              "      <td>2.952075</td>\n",
              "      <td>0.503254</td>\n",
              "      <td>0.0</td>\n",
              "      <td>0.0</td>\n",
              "      <td>0.0</td>\n",
              "      <td>0.0</td>\n",
              "      <td>0.0</td>\n",
              "      <td>0.0</td>\n",
              "      <td>1.0</td>\n",
              "      <td>...</td>\n",
              "      <td>0.0</td>\n",
              "      <td>0.0</td>\n",
              "      <td>0.0</td>\n",
              "      <td>0.0</td>\n",
              "      <td>0.0</td>\n",
              "      <td>0.0</td>\n",
              "      <td>0.0</td>\n",
              "      <td>0.0</td>\n",
              "      <td>0.0</td>\n",
              "      <td>1.0</td>\n",
              "    </tr>\n",
              "  </tbody>\n",
              "</table>\n",
              "<p>5 rows × 118 columns</p>\n",
              "</div>\n",
              "      <button class=\"colab-df-convert\" onclick=\"convertToInteractive('df-08a1a5e0-3089-4e2d-b681-1a44f0b4722d')\"\n",
              "              title=\"Convert this dataframe to an interactive table.\"\n",
              "              style=\"display:none;\">\n",
              "        \n",
              "  <svg xmlns=\"http://www.w3.org/2000/svg\" height=\"24px\"viewBox=\"0 0 24 24\"\n",
              "       width=\"24px\">\n",
              "    <path d=\"M0 0h24v24H0V0z\" fill=\"none\"/>\n",
              "    <path d=\"M18.56 5.44l.94 2.06.94-2.06 2.06-.94-2.06-.94-.94-2.06-.94 2.06-2.06.94zm-11 1L8.5 8.5l.94-2.06 2.06-.94-2.06-.94L8.5 2.5l-.94 2.06-2.06.94zm10 10l.94 2.06.94-2.06 2.06-.94-2.06-.94-.94-2.06-.94 2.06-2.06.94z\"/><path d=\"M17.41 7.96l-1.37-1.37c-.4-.4-.92-.59-1.43-.59-.52 0-1.04.2-1.43.59L10.3 9.45l-7.72 7.72c-.78.78-.78 2.05 0 2.83L4 21.41c.39.39.9.59 1.41.59.51 0 1.02-.2 1.41-.59l7.78-7.78 2.81-2.81c.8-.78.8-2.07 0-2.86zM5.41 20L4 18.59l7.72-7.72 1.47 1.35L5.41 20z\"/>\n",
              "  </svg>\n",
              "      </button>\n",
              "      \n",
              "  <style>\n",
              "    .colab-df-container {\n",
              "      display:flex;\n",
              "      flex-wrap:wrap;\n",
              "      gap: 12px;\n",
              "    }\n",
              "\n",
              "    .colab-df-convert {\n",
              "      background-color: #E8F0FE;\n",
              "      border: none;\n",
              "      border-radius: 50%;\n",
              "      cursor: pointer;\n",
              "      display: none;\n",
              "      fill: #1967D2;\n",
              "      height: 32px;\n",
              "      padding: 0 0 0 0;\n",
              "      width: 32px;\n",
              "    }\n",
              "\n",
              "    .colab-df-convert:hover {\n",
              "      background-color: #E2EBFA;\n",
              "      box-shadow: 0px 1px 2px rgba(60, 64, 67, 0.3), 0px 1px 3px 1px rgba(60, 64, 67, 0.15);\n",
              "      fill: #174EA6;\n",
              "    }\n",
              "\n",
              "    [theme=dark] .colab-df-convert {\n",
              "      background-color: #3B4455;\n",
              "      fill: #D2E3FC;\n",
              "    }\n",
              "\n",
              "    [theme=dark] .colab-df-convert:hover {\n",
              "      background-color: #434B5C;\n",
              "      box-shadow: 0px 1px 3px 1px rgba(0, 0, 0, 0.15);\n",
              "      filter: drop-shadow(0px 1px 2px rgba(0, 0, 0, 0.3));\n",
              "      fill: #FFFFFF;\n",
              "    }\n",
              "  </style>\n",
              "\n",
              "      <script>\n",
              "        const buttonEl =\n",
              "          document.querySelector('#df-08a1a5e0-3089-4e2d-b681-1a44f0b4722d button.colab-df-convert');\n",
              "        buttonEl.style.display =\n",
              "          google.colab.kernel.accessAllowed ? 'block' : 'none';\n",
              "\n",
              "        async function convertToInteractive(key) {\n",
              "          const element = document.querySelector('#df-08a1a5e0-3089-4e2d-b681-1a44f0b4722d');\n",
              "          const dataTable =\n",
              "            await google.colab.kernel.invokeFunction('convertToInteractive',\n",
              "                                                     [key], {});\n",
              "          if (!dataTable) return;\n",
              "\n",
              "          const docLinkHtml = 'Like what you see? Visit the ' +\n",
              "            '<a target=\"_blank\" href=https://colab.research.google.com/notebooks/data_table.ipynb>data table notebook</a>'\n",
              "            + ' to learn more about interactive tables.';\n",
              "          element.innerHTML = '';\n",
              "          dataTable['output_type'] = 'display_data';\n",
              "          await google.colab.output.renderOutput(dataTable, element);\n",
              "          const docLink = document.createElement('div');\n",
              "          docLink.innerHTML = docLinkHtml;\n",
              "          element.appendChild(docLink);\n",
              "        }\n",
              "      </script>\n",
              "    </div>\n",
              "  </div>\n",
              "  "
            ]
          },
          "metadata": {},
          "execution_count": 108
        }
      ]
    },
    {
      "cell_type": "code",
      "source": [
        "# resplit back to training and testing\n",
        "train_final = train_test_comb_prepared_df.iloc[:50213, :]\n",
        "test_final = train_test_comb_prepared_df.iloc[50213:, :]"
      ],
      "metadata": {
        "id": "-MXybdAOtzZo"
      },
      "execution_count": 109,
      "outputs": []
    },
    {
      "cell_type": "markdown",
      "source": [
        "#### Decision Tree"
      ],
      "metadata": {
        "id": "HSxko90PmCNv"
      }
    },
    {
      "cell_type": "code",
      "source": [
        "# model with best hyperparameter\n",
        "\n",
        "# call the model\n",
        "tree_model_best = tree.DecisionTreeClassifier(max_depth=30, splitter='random')\n",
        "\n",
        "# fit the model with our data\n",
        "tree_best_fit = tree_model_best.fit(train_final, label)\n",
        "\n",
        "# predict using our model\n",
        "tree_best_pred = tree_best_fit.predict(test_final)"
      ],
      "metadata": {
        "id": "XcyjfhjWfh9r"
      },
      "execution_count": 116,
      "outputs": []
    },
    {
      "cell_type": "code",
      "source": [
        "# the accuracy of the model\n",
        "print(\"%-12s %f\" % ('Accuracy:', metrics.accuracy_score(tree_best_pred, label_test)))\n",
        "\n",
        "# the precision of the model\n",
        "print(\"%-12s %f\" % ('Precision:', metrics.precision_score(tree_best_pred, label_test)))\n",
        "\n",
        "# the recall score of the model\n",
        "print(\"%-12s %f\" % ('Recall Score:', metrics.recall_score(tree_best_pred, label_test)))\n",
        "\n",
        "# the F1 score of the model\n",
        "print(\"%-12s %f\" % ('F1 Score:', metrics.f1_score(tree_best_pred, label_test)))\n"
      ],
      "metadata": {
        "colab": {
          "base_uri": "https://localhost:8080/",
          "height": 0
        },
        "id": "vnYMG_q1cR_K",
        "outputId": "fd6f3c52-bcba-4edf-fc87-6a42b4396b06"
      },
      "execution_count": 117,
      "outputs": [
        {
          "output_type": "stream",
          "name": "stdout",
          "text": [
            "Accuracy:    0.432019\n",
            "Precision:   0.792294\n",
            "Recall Score: 0.414434\n",
            "F1 Score:    0.544205\n"
          ]
        }
      ]
    },
    {
      "cell_type": "markdown",
      "source": [
        "#### Bayes Classifier"
      ],
      "metadata": {
        "id": "V_F6ic4NmE0c"
      }
    },
    {
      "cell_type": "code",
      "source": [
        "# model with best hyperparameter\n",
        "\n",
        "# call the bayes model\n",
        "B_bayes_model_best = BernoulliNB(alpha=0.5, force_alpha=True)\n",
        "\n",
        "# fit the best model\n",
        "B_bayes_best_fit = B_bayes_model_best.fit(train_final, label)\n",
        "\n",
        "# predict using our model\n",
        "B_bayes_best_pred = B_bayes_best_fit.predict(test_final)"
      ],
      "metadata": {
        "id": "MxaWdaQGmHIM"
      },
      "execution_count": 118,
      "outputs": []
    },
    {
      "cell_type": "code",
      "source": [
        "# the accuracy of the model\n",
        "print(\"%-12s %f\" % ('Accuracy:', metrics.accuracy_score(B_bayes_best_pred, label_test)))\n",
        "\n",
        "# the precision of the model\n",
        "print(\"%-12s %f\" % ('Precision:', metrics.precision_score(B_bayes_best_pred, label_test)))\n",
        "\n",
        "# the recall score of the model\n",
        "print(\"%-12s %f\" % ('Recall Score:', metrics.recall_score(B_bayes_best_pred, label_test)))\n",
        "\n",
        "# the F1 score of the model\n",
        "print(\"%-12s %f\" % ('F1 Score:', metrics.f1_score(B_bayes_best_pred, label_test)))\n"
      ],
      "metadata": {
        "colab": {
          "base_uri": "https://localhost:8080/",
          "height": 0
        },
        "id": "HMieUOiHmNhr",
        "outputId": "80961b9f-d4b9-4183-9969-a5eba9a9bc28"
      },
      "execution_count": 119,
      "outputs": [
        {
          "output_type": "stream",
          "name": "stdout",
          "text": [
            "Accuracy:    0.498066\n",
            "Precision:   1.000000\n",
            "Recall Score: 0.460228\n",
            "F1 Score:    0.630351\n"
          ]
        }
      ]
    },
    {
      "cell_type": "markdown",
      "source": [
        "#### Random Forest Classification"
      ],
      "metadata": {
        "id": "gG5uTdyImHeS"
      }
    },
    {
      "cell_type": "code",
      "source": [
        "# model with best hyperparameter\n",
        "\n",
        "# call the random forest model\n",
        "forest_model_best = RandomForestClassifier(max_depth=30, n_estimators=50)\n",
        "\n",
        "# fit the model with data\n",
        "forest_model_best_fit = forest_model_best.fit(train_final, label)\n",
        "\n",
        "# predict using our model\n",
        "forest_model_best_pred = forest_model_best_fit.predict(test_final)"
      ],
      "metadata": {
        "id": "435PUeNImQyP"
      },
      "execution_count": 120,
      "outputs": []
    },
    {
      "cell_type": "code",
      "source": [
        "# the accuracy of the model\n",
        "print(\"%-12s %f\" % ('Accuracy:', metrics.accuracy_score(forest_model_best_pred, label_test)))\n",
        "\n",
        "# the precision of the model\n",
        "print(\"%-12s %f\" % ('Precision:', metrics.precision_score(forest_model_best_pred, label_test)))\n",
        "-\n",
        "# the recall score of the model\n",
        "print(\"%-12s %f\" % ('Recall Score:', metrics.recall_score(forest_model_best_pred, label_test)))\n",
        "\n",
        "# the F1 score of the model\n",
        "print(\"%-12s %f\" % ('F1 Score:', metrics.f1_score(forest_model_best_pred, label_test)))\n"
      ],
      "metadata": {
        "colab": {
          "base_uri": "https://localhost:8080/",
          "height": 0
        },
        "id": "5qQCeyRBmSTe",
        "outputId": "ef57a880-3cf8-47c2-da42-2cfe9119c959"
      },
      "execution_count": 121,
      "outputs": [
        {
          "output_type": "stream",
          "name": "stdout",
          "text": [
            "Accuracy:    0.459285\n",
            "Precision:   0.956522\n",
            "Recall Score: 0.439478\n",
            "F1 Score:    0.602250\n"
          ]
        }
      ]
    }
  ]
}
